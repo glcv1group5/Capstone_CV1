{
  "cells": [
    {
      "cell_type": "markdown",
      "metadata": {
        "id": "view-in-github",
        "colab_type": "text"
      },
      "source": [
        "<a href=\"https://colab.research.google.com/github/glcv1group5/Capstone_CV1/blob/main/Capstone_MaskRCNN1.4.ipynb\" target=\"_parent\"><img src=\"https://colab.research.google.com/assets/colab-badge.svg\" alt=\"Open In Colab\"/></a>"
      ]
    },
    {
      "cell_type": "code",
      "execution_count": 59,
      "metadata": {
        "id": "jlW9XA0yj4_Q"
      },
      "outputs": [],
      "source": [
        "\n",
        "\n",
        "import seaborn as sns\n",
        "#import pydicom as dcm\n",
        "from glob import glob\n",
        "import cv2\n",
        "import os, zipfile, random, csv\n",
        "import seaborn as sns\n",
        "#import pydicom as dcm\n",
        "from glob import glob\n",
        "import cv2\n",
        "import warnings; warnings.filterwarnings('ignore')\n",
        "import pandas as pd, numpy as np\n",
        "import matplotlib.pyplot as plt\n",
        "from tqdm import tqdm_notebook\n",
        "import sys\n",
        "import os\n",
        "ROOT_DIR = '.'\n"
      ]
    },
    {
      "cell_type": "code",
      "execution_count": 60,
      "metadata": {
        "id": "LSqoOvGfIKuE",
        "colab": {
          "base_uri": "https://localhost:8080/"
        },
        "outputId": "a1ffd66c-e9dd-4e6b-9273-a720b4d46610"
      },
      "outputs": [
        {
          "output_type": "stream",
          "name": "stdout",
          "text": [
            "Requirement already satisfied: pydicom in /usr/local/lib/python3.7/dist-packages (2.2.2)\n"
          ]
        }
      ],
      "source": [
        "!pip install pydicom\n",
        "import pydicom "
      ]
    },
    {
      "cell_type": "code",
      "execution_count": 61,
      "metadata": {
        "id": "Zdnm3ff2gx70"
      },
      "outputs": [],
      "source": [
        "%tensorflow_version 1.x"
      ]
    },
    {
      "cell_type": "code",
      "execution_count": 62,
      "metadata": {
        "id": "WlkMvpgJzzeQ"
      },
      "outputs": [],
      "source": [
        "#!pip install keras==2.1.6"
      ]
    },
    {
      "cell_type": "code",
      "execution_count": 63,
      "metadata": {
        "id": "gdvMLpW60Joa"
      },
      "outputs": [],
      "source": [
        "#!pip install h5py==2.10.0"
      ]
    },
    {
      "cell_type": "code",
      "execution_count": 64,
      "metadata": {
        "colab": {
          "base_uri": "https://localhost:8080/"
        },
        "id": "f5L9eZjQdmcB",
        "outputId": "d8b0c8d1-0997-4c6f-82f4-ae9345773061"
      },
      "outputs": [
        {
          "output_type": "stream",
          "name": "stdout",
          "text": [
            "1.15.2\n"
          ]
        }
      ],
      "source": [
        "import tensorflow\n",
        "print(tensorflow.__version__)"
      ]
    },
    {
      "cell_type": "code",
      "execution_count": 65,
      "metadata": {
        "colab": {
          "base_uri": "https://localhost:8080/"
        },
        "id": "iLqKbqF13AhO",
        "outputId": "4902d4be-5eee-45f6-c5f3-3d580dfc6175"
      },
      "outputs": [
        {
          "output_type": "stream",
          "name": "stdout",
          "text": [
            "2.10.0\n"
          ]
        }
      ],
      "source": [
        "import h5py\n",
        "print(h5py.__version__)"
      ]
    },
    {
      "cell_type": "code",
      "execution_count": 66,
      "metadata": {
        "colab": {
          "base_uri": "https://localhost:8080/"
        },
        "id": "XmP-QzddepU6",
        "outputId": "c0535d59-80cd-4c01-9a34-41ab8a4e0551"
      },
      "outputs": [
        {
          "output_type": "stream",
          "name": "stdout",
          "text": [
            "Drive already mounted at /content/drive; to attempt to forcibly remount, call drive.mount(\"/content/drive\", force_remount=True).\n"
          ]
        }
      ],
      "source": [
        "from google.colab import drive\n",
        "drive.mount('/content/drive')"
      ]
    },
    {
      "cell_type": "code",
      "execution_count": 67,
      "metadata": {
        "id": "0jnBk5N7kp0Q"
      },
      "outputs": [],
      "source": [
        "##Mask RCNN\n",
        "#!git clone https://www.github.com/matterport/Mask_RCNN.git\n"
      ]
    },
    {
      "cell_type": "code",
      "execution_count": 67,
      "metadata": {
        "id": "-HIZ72IBd6Xh"
      },
      "outputs": [],
      "source": [
        ""
      ]
    },
    {
      "cell_type": "code",
      "execution_count": 68,
      "metadata": {
        "colab": {
          "base_uri": "https://localhost:8080/"
        },
        "id": "9zNUtM0Fdx2L",
        "outputId": "4fa5d524-fe85-4c6d-fd17-5575074fb9d7"
      },
      "outputs": [
        {
          "output_type": "stream",
          "name": "stdout",
          "text": [
            "/content/drive/MyDrive/Kaggle\n"
          ]
        }
      ],
      "source": [
        "os.environ['KAGGLE_CONFIG_DIR'] = \"/content/drive/MyDrive/Kaggle\"\n",
        "%cd /content/drive/MyDrive/Kaggle/"
      ]
    },
    {
      "cell_type": "code",
      "execution_count": 69,
      "metadata": {
        "id": "M5J3gub3YKRV"
      },
      "outputs": [],
      "source": [
        "#!git clone https://github.com/leekunhee/Mask_RCNN.git"
      ]
    },
    {
      "cell_type": "code",
      "execution_count": 70,
      "metadata": {
        "colab": {
          "base_uri": "https://localhost:8080/"
        },
        "id": "3CYEhGpOktYU",
        "outputId": "d1a00d67-4338-44d7-f5c1-d43fc0f89a2d"
      },
      "outputs": [
        {
          "output_type": "stream",
          "name": "stdout",
          "text": [
            "WARNING:root:Fail load requirements file, so using default ones.\n",
            "/usr/local/lib/python3.7/dist-packages/setuptools/dist.py:700: UserWarning: Usage of dash-separated 'description-file' will not be supported in future versions. Please use the underscore name 'description_file' instead\n",
            "  % (opt, underscore_opt))\n",
            "/usr/local/lib/python3.7/dist-packages/setuptools/dist.py:700: UserWarning: Usage of dash-separated 'license-file' will not be supported in future versions. Please use the underscore name 'license_file' instead\n",
            "  % (opt, underscore_opt))\n",
            "/usr/local/lib/python3.7/dist-packages/setuptools/dist.py:700: UserWarning: Usage of dash-separated 'requirements-file' will not be supported in future versions. Please use the underscore name 'requirements_file' instead\n",
            "  % (opt, underscore_opt))\n",
            "zip_safe flag not set; analyzing archive contents...\n"
          ]
        }
      ],
      "source": [
        "os.chdir('Mask_RCNN')\n",
        "!python setup.py -q install"
      ]
    },
    {
      "cell_type": "code",
      "execution_count": 71,
      "metadata": {
        "id": "-7RIGYy3lVW_"
      },
      "outputs": [],
      "source": [
        "os.chdir('../')"
      ]
    },
    {
      "cell_type": "code",
      "execution_count": 72,
      "metadata": {
        "id": "zVIve_nrlatX"
      },
      "outputs": [],
      "source": [
        "#!wget --quiet https://github.com/matterport/Mask_RCNN/releases/download/v2.0/mask_rcnn_coco.h5\n",
        "#!ls -lh mask_rcnn_coco.h5"
      ]
    },
    {
      "cell_type": "code",
      "execution_count": 73,
      "metadata": {
        "colab": {
          "base_uri": "https://localhost:8080/",
          "height": 35
        },
        "id": "xXtlfKsoliUX",
        "outputId": "92f53b08-bd1e-4620-8ed8-d74cd150df7e"
      },
      "outputs": [
        {
          "output_type": "execute_result",
          "data": {
            "text/plain": [
              "'/content/drive/MyDrive/Kaggle'"
            ],
            "application/vnd.google.colaboratory.intrinsic+json": {
              "type": "string"
            }
          },
          "metadata": {},
          "execution_count": 73
        }
      ],
      "source": [
        "%pwd\n"
      ]
    },
    {
      "cell_type": "code",
      "execution_count": 74,
      "metadata": {
        "colab": {
          "base_uri": "https://localhost:8080/",
          "height": 89
        },
        "id": "Jhpr03G-lx5s",
        "outputId": "b07e79b4-c6ad-4da2-c5a2-fbde45e53eda"
      },
      "outputs": [
        {
          "output_type": "execute_result",
          "data": {
            "text/plain": [
              "\"!pip uninstall -y kaggle\\n!pip install --upgrade pip\\n!pip install kaggle==1.5.6\\n!kaggle -v\\n\\n!kaggle competitions list -s pneumonia\\nKAGGLE_DIR = '/content/sample_data/Kaggle/'\\n%cd {KAGGLE_DIR}\\n!ls\\ncompetition_name = 'rsna-pneumonia-detection-challenge'\\n!mkdir {competition_name}\\nDOWNLOAD_DIR = KAGGLE_DIR+competition_name+'/'\\nprint(DOWNLOAD_DIR)\\nos.environ['KAGGLE_CONFIG_DIR'] = KAGGLE_DIR\\n!kaggle competitions download -c {competition_name}\\nprint('Download Complete')\""
            ],
            "application/vnd.google.colaboratory.intrinsic+json": {
              "type": "string"
            }
          },
          "metadata": {},
          "execution_count": 74
        }
      ],
      "source": [
        "# Kaggle Download\n",
        "\n",
        "\"\"\"!pip uninstall -y kaggle\n",
        "!pip install --upgrade pip\n",
        "!pip install kaggle==1.5.6\n",
        "!kaggle -v\n",
        "\n",
        "!kaggle competitions list -s pneumonia\n",
        "KAGGLE_DIR = '/content/sample_data/Kaggle/'\n",
        "%cd {KAGGLE_DIR}\n",
        "!ls\n",
        "competition_name = 'rsna-pneumonia-detection-challenge'\n",
        "!mkdir {competition_name}\n",
        "DOWNLOAD_DIR = KAGGLE_DIR+competition_name+'/'\n",
        "print(DOWNLOAD_DIR)\n",
        "os.environ['KAGGLE_CONFIG_DIR'] = KAGGLE_DIR\n",
        "!kaggle competitions download -c {competition_name}\n",
        "print('Download Complete')\"\"\""
      ]
    },
    {
      "cell_type": "code",
      "execution_count": 75,
      "metadata": {
        "id": "-uocVfO_nOT9"
      },
      "outputs": [],
      "source": [
        "#!chmod 600 /content/sample_data/Kaggle/kaggle.json"
      ]
    },
    {
      "cell_type": "code",
      "execution_count": 76,
      "metadata": {
        "id": "TxKc8N0dp2mh"
      },
      "outputs": [],
      "source": [
        "#!kaggle competitions download -c rsna-pneumonia-detection-challenge"
      ]
    },
    {
      "cell_type": "code",
      "execution_count": 77,
      "metadata": {
        "id": "xdJ2ICKYq0i_",
        "colab": {
          "base_uri": "https://localhost:8080/",
          "height": 53
        },
        "outputId": "e50f8f73-6dda-423e-9346-269515e8a8e0"
      },
      "outputs": [
        {
          "output_type": "execute_result",
          "data": {
            "text/plain": [
              "'import zipfile\\nfor file in os.listdir():\\n    if file.endswith(\".zip\"):\\n        with zipfile.ZipFile(file, \"r\") as zip_file:\\n            zip_file.extractall()\\n        os.remove(file)'"
            ],
            "application/vnd.google.colaboratory.intrinsic+json": {
              "type": "string"
            }
          },
          "metadata": {},
          "execution_count": 77
        }
      ],
      "source": [
        "\"\"\"import zipfile\n",
        "for file in os.listdir():\n",
        "    if file.endswith(\".zip\"):\n",
        "        with zipfile.ZipFile(file, \"r\") as zip_file:\n",
        "            zip_file.extractall()\n",
        "        os.remove(file)\"\"\""
      ]
    },
    {
      "cell_type": "code",
      "source": [
        "#!pip uninstall keras-nightly"
      ],
      "metadata": {
        "id": "CfVLAX8pVT4c"
      },
      "execution_count": 78,
      "outputs": []
    },
    {
      "cell_type": "code",
      "execution_count": 79,
      "metadata": {
        "colab": {
          "base_uri": "https://localhost:8080/"
        },
        "id": "Dbbd2K4evsWr",
        "outputId": "a7bf1cce-da50-4b46-c660-09988be01040"
      },
      "outputs": [
        {
          "output_type": "stream",
          "name": "stdout",
          "text": [
            "Name: mask-rcnn\n",
            "Version: 2.1\n",
            "Summary: Mask R-CNN for object detection and instance segmentation\n",
            "Home-page: https://github.com/matterport/Mask_RCNN\n",
            "Author: Matterport\n",
            "Author-email: waleed.abdulla@gmail.com\n",
            "License: MIT\n",
            "Location: /usr/local/lib/python3.7/dist-packages/mask_rcnn-2.1-py3.7.egg\n",
            "Requires: \n",
            "Required-by: \n"
          ]
        }
      ],
      "source": [
        "!pip show mask-rcnn"
      ]
    },
    {
      "cell_type": "code",
      "execution_count": 80,
      "metadata": {
        "id": "zuC-Zk1GwGhZ"
      },
      "outputs": [],
      "source": [
        "sys.path.append(os.path.join(ROOT_DIR, 'Mask_RCNN')) \n",
        "from mrcnn.config import Config\n",
        "from mrcnn import utils\n",
        "import mrcnn.model as modellib\n",
        "from mrcnn import visualize\n",
        "from mrcnn.model import log"
      ]
    },
    {
      "cell_type": "code",
      "execution_count": 81,
      "metadata": {
        "id": "sSGXocy3zK8f"
      },
      "outputs": [],
      "source": [
        "import glob\n",
        "\n",
        "import random\n",
        "import math\n",
        "import json\n",
        "from imgaug import augmenters as iaa\n",
        "from tqdm import tqdm"
      ]
    },
    {
      "cell_type": "code",
      "execution_count": 82,
      "metadata": {
        "id": "Z7agd-sGUB4v"
      },
      "outputs": [],
      "source": [
        "COCO_WEIGHTS_PATH = \"mask_rcnn_coco.h5\""
      ]
    },
    {
      "cell_type": "code",
      "execution_count": 83,
      "metadata": {
        "colab": {
          "base_uri": "https://localhost:8080/"
        },
        "id": "_I42hQ_AUKlf",
        "outputId": "960df4b9-149a-414a-c579-efb8b84f7cba"
      },
      "outputs": [
        {
          "output_type": "stream",
          "name": "stdout",
          "text": [
            "\n",
            "Configurations:\n",
            "BACKBONE                       resnet50\n",
            "BACKBONE_STRIDES               [4, 8, 16, 32, 64]\n",
            "BATCH_SIZE                     4\n",
            "BBOX_STD_DEV                   [0.1 0.1 0.2 0.2]\n",
            "COMPUTE_BACKBONE_SHAPE         None\n",
            "DETECTION_MAX_INSTANCES        3\n",
            "DETECTION_MIN_CONFIDENCE       0.5\n",
            "DETECTION_NMS_THRESHOLD        0.1\n",
            "FPN_CLASSIF_FC_LAYERS_SIZE     1024\n",
            "GPU_COUNT                      1\n",
            "GRADIENT_CLIP_NORM             5.0\n",
            "IMAGES_PER_GPU                 4\n",
            "IMAGE_CHANNEL_COUNT            3\n",
            "IMAGE_MAX_DIM                  256\n",
            "IMAGE_META_SIZE                14\n",
            "IMAGE_MIN_DIM                  256\n",
            "IMAGE_MIN_SCALE                0\n",
            "IMAGE_RESIZE_MODE              square\n",
            "IMAGE_SHAPE                    [256 256   3]\n",
            "LEARNING_MOMENTUM              0.9\n",
            "LEARNING_RATE                  0.001\n",
            "LOSS_WEIGHTS                   {'rpn_class_loss': 1.0, 'rpn_bbox_loss': 1.0, 'mrcnn_class_loss': 1.0, 'mrcnn_bbox_loss': 1.0, 'mrcnn_mask_loss': 1.0}\n",
            "MASK_POOL_SIZE                 14\n",
            "MASK_SHAPE                     [28, 28]\n",
            "MAX_GT_INSTANCES               3\n",
            "MEAN_PIXEL                     [123.7 116.8 103.9]\n",
            "MINI_MASK_SHAPE                (56, 56)\n",
            "NAME                           pneumonia\n",
            "NUM_CLASSES                    2\n",
            "POOL_SIZE                      7\n",
            "POST_NMS_ROIS_INFERENCE        1000\n",
            "POST_NMS_ROIS_TRAINING         2000\n",
            "PRE_NMS_LIMIT                  6000\n",
            "ROI_POSITIVE_RATIO             0.33\n",
            "RPN_ANCHOR_RATIOS              [0.5, 1, 2]\n",
            "RPN_ANCHOR_SCALES              (8, 16, 32, 1, 1)\n",
            "RPN_ANCHOR_STRIDE              1\n",
            "RPN_BBOX_STD_DEV               [0.1 0.1 0.2 0.2]\n",
            "RPN_NMS_THRESHOLD              0.7\n",
            "RPN_TRAIN_ANCHORS_PER_IMAGE    256\n",
            "STEPS_PER_EPOCH                500\n",
            "TOP_DOWN_PYRAMID_SIZE          256\n",
            "TRAIN_BN                       False\n",
            "TRAIN_ROIS_PER_IMAGE           32\n",
            "USE_MINI_MASK                  True\n",
            "USE_RPN_ROIS                   True\n",
            "VALIDATION_STEPS               50\n",
            "WEIGHT_DECAY                   0.0001\n",
            "\n",
            "\n"
          ]
        }
      ],
      "source": [
        "\n",
        "\n",
        "class DetectorConfig(Config):\n",
        "  \n",
        "    \n",
        "    # Give the configuration a recognizable name  \n",
        "    NAME = 'pneumonia'\n",
        "    \n",
        "    # Train on 1 GPU and 8 images per GPU. We can put multiple images on each\n",
        "    # GPU because the images are small. Batch size is 8 (GPUs * images/GPU).\n",
        "   \n",
        "\n",
        "     # Train on 1 GPU and 8 images per GPU. We can put multiple images on each\n",
        "    # GPU because the images are small. Batch size is 8 (GPUs * images/GPU).\n",
        "   \n",
        "\n",
        "    GPU_COUNT = 1\n",
        "    IMAGES_PER_GPU = 4 ##Batch size is 8 (GPUs * images/GPU)\n",
        "    \n",
        "    BACKBONE = 'resnet50' ## eveulate performance using pre-trained coco , can also use resnet101\n",
        "\n",
        "    TRAIN_ROIS_PER_IMAGE = 32 ## can be reduced to 16 and checked, indicates how many (good) positive + negative ROIs from the RPN to use for training the ODN network.\n",
        "    \n",
        "    NUM_CLASSES = 2  # background + 1 pneumonia classes\n",
        "    \n",
        "    IMAGE_MIN_DIM = 256\n",
        "    IMAGE_MAX_DIM = 256\n",
        "    RPN_ANCHOR_SCALES = (8, 16, 32, 1, 1)\n",
        "    TRAIN_ROIS_PER_IMAGE = 32\n",
        "    MAX_GT_INSTANCES = 3 ## set to 4 \n",
        "    DETECTION_MAX_INSTANCES = 3 ## shd be 4\n",
        "    DETECTION_MIN_CONFIDENCE = 0.5 ## reducing to identify all instances even false positive ones - >0.6\n",
        "    DETECTION_NMS_THRESHOLD = 0.1 ## increae this? so to reduce the false positivies - 0.3\n",
        "    #RPN_NMS_THRESHOLD  = 0.7 ## increases to 0.9\n",
        "\n",
        "     #LOSS_WEIGHTS = {\n",
        "\n",
        "     #   \"rpn_class_loss\": 1., ##improper classification of anchor boxes by RPN, higher means multiple objects will be detected\n",
        "\n",
        "     #   \"rpn_bbox_loss\": 1., ## localization loss\n",
        "\n",
        "     #   \"mrcnn_class_loss\": 1., ## reduce improve classification of the object\n",
        "\n",
        "     #   \"mrcnn_bbox_loss\": 1., ## localization of bounding box\n",
        "\n",
        "     #   \"mrcnn_mask_loss\": 1. ## indetification at pixel level needs to be increased for mask creation\n",
        "\n",
        "    #}\n",
        "\n",
        "    STEPS_PER_EPOCH = 500 # 500 ?\n",
        "\n",
        "\n",
        "\n",
        "\n",
        "    \n",
        "config = DetectorConfig()\n",
        "config.display()"
      ]
    },
    {
      "cell_type": "code",
      "source": [
        ""
      ],
      "metadata": {
        "id": "BeVFnVATDDbX"
      },
      "execution_count": 83,
      "outputs": []
    },
    {
      "cell_type": "code",
      "execution_count": 84,
      "metadata": {
        "id": "78oqQfhwUO2E"
      },
      "outputs": [],
      "source": [
        "class DetectorDataset(utils.Dataset):\n",
        "    \n",
        "\n",
        "    def __init__(self, image_fps, image_annotations, orig_height, orig_width):\n",
        "        super().__init__(self)\n",
        "        \n",
        "        # Add classes\n",
        "        self.add_class('pneumonia', 1, 'Lung Opacity')\n",
        "        \n",
        "        # add images \n",
        "        for i, fp in enumerate(image_fps):\n",
        "            annotations = image_annotations[fp]\n",
        "            self.add_image('pneumonia', image_id=i, path=fp, \n",
        "                           annotations=annotations, orig_height=orig_height, orig_width=orig_width)\n",
        "            \n",
        "    def image_reference(self, image_id):\n",
        "        info = self.image_info[image_id]\n",
        "        return info['path']\n",
        "\n",
        "    def load_image(self, image_id):\n",
        "        info = self.image_info[image_id]\n",
        "        fp = info['path']\n",
        "        ds = pydicom.read_file(fp)\n",
        "        image = ds.pixel_array\n",
        "        # If grayscale. Convert to RGB for consistency.\n",
        "        if len(image.shape) != 3 or image.shape[2] != 3:\n",
        "            image = np.stack((image,) * 3, -1)\n",
        "        return image\n",
        "\n",
        "    def load_mask(self, image_id):\n",
        "        info = self.image_info[image_id]\n",
        "        annotations = info['annotations']\n",
        "        count = len(annotations)\n",
        "        if count == 0:\n",
        "            mask = np.zeros((info['orig_height'], info['orig_width'], 1), dtype=np.uint8)\n",
        "            class_ids = np.zeros((1,), dtype=np.int32)\n",
        "        else:\n",
        "            mask = np.zeros((info['orig_height'], info['orig_width'], count), dtype=np.uint8)\n",
        "            class_ids = np.zeros((count,), dtype=np.int32)\n",
        "            for i, a in enumerate(annotations):\n",
        "                if a['Target'] == 1:\n",
        "                    x = int(a['x'])\n",
        "                    y = int(a['y'])\n",
        "                    w = int(a['width'])\n",
        "                    h = int(a['height'])\n",
        "                    mask_instance = mask[:, :, i].copy()\n",
        "                    cv2.rectangle(mask_instance, (x, y), (x+w, y+h), 255, -1)\n",
        "                    mask[:, :, i] = mask_instance\n",
        "                    class_ids[i] = 1\n",
        "        return mask.astype(np.bool), class_ids.astype(np.int32)"
      ]
    },
    {
      "cell_type": "code",
      "execution_count": 85,
      "metadata": {
        "colab": {
          "base_uri": "https://localhost:8080/",
          "height": 206
        },
        "id": "z0HtL9CDUT1_",
        "outputId": "409107c9-8d3d-4007-cb07-f49e1b0c6030"
      },
      "outputs": [
        {
          "output_type": "execute_result",
          "data": {
            "text/plain": [
              "                              patientId      x      y  width  height  Target\n",
              "0  0004cfab-14fd-4e49-80ba-63a80b6bddd6    NaN    NaN    NaN     NaN       0\n",
              "1  00313ee0-9eaa-42f4-b0ab-c148ed3241cd    NaN    NaN    NaN     NaN       0\n",
              "2  00322d4d-1c29-4943-afc9-b6754be640eb    NaN    NaN    NaN     NaN       0\n",
              "3  003d8fa0-6bf1-40ed-b54c-ac657f8495c5    NaN    NaN    NaN     NaN       0\n",
              "4  00436515-870c-4b36-a041-de91049b9ab4  264.0  152.0  213.0   379.0       1"
            ],
            "text/html": [
              "\n",
              "  <div id=\"df-01ca0c7b-9c69-419e-9dfb-918a83d471fa\">\n",
              "    <div class=\"colab-df-container\">\n",
              "      <div>\n",
              "<style scoped>\n",
              "    .dataframe tbody tr th:only-of-type {\n",
              "        vertical-align: middle;\n",
              "    }\n",
              "\n",
              "    .dataframe tbody tr th {\n",
              "        vertical-align: top;\n",
              "    }\n",
              "\n",
              "    .dataframe thead th {\n",
              "        text-align: right;\n",
              "    }\n",
              "</style>\n",
              "<table border=\"1\" class=\"dataframe\">\n",
              "  <thead>\n",
              "    <tr style=\"text-align: right;\">\n",
              "      <th></th>\n",
              "      <th>patientId</th>\n",
              "      <th>x</th>\n",
              "      <th>y</th>\n",
              "      <th>width</th>\n",
              "      <th>height</th>\n",
              "      <th>Target</th>\n",
              "    </tr>\n",
              "  </thead>\n",
              "  <tbody>\n",
              "    <tr>\n",
              "      <th>0</th>\n",
              "      <td>0004cfab-14fd-4e49-80ba-63a80b6bddd6</td>\n",
              "      <td>NaN</td>\n",
              "      <td>NaN</td>\n",
              "      <td>NaN</td>\n",
              "      <td>NaN</td>\n",
              "      <td>0</td>\n",
              "    </tr>\n",
              "    <tr>\n",
              "      <th>1</th>\n",
              "      <td>00313ee0-9eaa-42f4-b0ab-c148ed3241cd</td>\n",
              "      <td>NaN</td>\n",
              "      <td>NaN</td>\n",
              "      <td>NaN</td>\n",
              "      <td>NaN</td>\n",
              "      <td>0</td>\n",
              "    </tr>\n",
              "    <tr>\n",
              "      <th>2</th>\n",
              "      <td>00322d4d-1c29-4943-afc9-b6754be640eb</td>\n",
              "      <td>NaN</td>\n",
              "      <td>NaN</td>\n",
              "      <td>NaN</td>\n",
              "      <td>NaN</td>\n",
              "      <td>0</td>\n",
              "    </tr>\n",
              "    <tr>\n",
              "      <th>3</th>\n",
              "      <td>003d8fa0-6bf1-40ed-b54c-ac657f8495c5</td>\n",
              "      <td>NaN</td>\n",
              "      <td>NaN</td>\n",
              "      <td>NaN</td>\n",
              "      <td>NaN</td>\n",
              "      <td>0</td>\n",
              "    </tr>\n",
              "    <tr>\n",
              "      <th>4</th>\n",
              "      <td>00436515-870c-4b36-a041-de91049b9ab4</td>\n",
              "      <td>264.0</td>\n",
              "      <td>152.0</td>\n",
              "      <td>213.0</td>\n",
              "      <td>379.0</td>\n",
              "      <td>1</td>\n",
              "    </tr>\n",
              "  </tbody>\n",
              "</table>\n",
              "</div>\n",
              "      <button class=\"colab-df-convert\" onclick=\"convertToInteractive('df-01ca0c7b-9c69-419e-9dfb-918a83d471fa')\"\n",
              "              title=\"Convert this dataframe to an interactive table.\"\n",
              "              style=\"display:none;\">\n",
              "        \n",
              "  <svg xmlns=\"http://www.w3.org/2000/svg\" height=\"24px\"viewBox=\"0 0 24 24\"\n",
              "       width=\"24px\">\n",
              "    <path d=\"M0 0h24v24H0V0z\" fill=\"none\"/>\n",
              "    <path d=\"M18.56 5.44l.94 2.06.94-2.06 2.06-.94-2.06-.94-.94-2.06-.94 2.06-2.06.94zm-11 1L8.5 8.5l.94-2.06 2.06-.94-2.06-.94L8.5 2.5l-.94 2.06-2.06.94zm10 10l.94 2.06.94-2.06 2.06-.94-2.06-.94-.94-2.06-.94 2.06-2.06.94z\"/><path d=\"M17.41 7.96l-1.37-1.37c-.4-.4-.92-.59-1.43-.59-.52 0-1.04.2-1.43.59L10.3 9.45l-7.72 7.72c-.78.78-.78 2.05 0 2.83L4 21.41c.39.39.9.59 1.41.59.51 0 1.02-.2 1.41-.59l7.78-7.78 2.81-2.81c.8-.78.8-2.07 0-2.86zM5.41 20L4 18.59l7.72-7.72 1.47 1.35L5.41 20z\"/>\n",
              "  </svg>\n",
              "      </button>\n",
              "      \n",
              "  <style>\n",
              "    .colab-df-container {\n",
              "      display:flex;\n",
              "      flex-wrap:wrap;\n",
              "      gap: 12px;\n",
              "    }\n",
              "\n",
              "    .colab-df-convert {\n",
              "      background-color: #E8F0FE;\n",
              "      border: none;\n",
              "      border-radius: 50%;\n",
              "      cursor: pointer;\n",
              "      display: none;\n",
              "      fill: #1967D2;\n",
              "      height: 32px;\n",
              "      padding: 0 0 0 0;\n",
              "      width: 32px;\n",
              "    }\n",
              "\n",
              "    .colab-df-convert:hover {\n",
              "      background-color: #E2EBFA;\n",
              "      box-shadow: 0px 1px 2px rgba(60, 64, 67, 0.3), 0px 1px 3px 1px rgba(60, 64, 67, 0.15);\n",
              "      fill: #174EA6;\n",
              "    }\n",
              "\n",
              "    [theme=dark] .colab-df-convert {\n",
              "      background-color: #3B4455;\n",
              "      fill: #D2E3FC;\n",
              "    }\n",
              "\n",
              "    [theme=dark] .colab-df-convert:hover {\n",
              "      background-color: #434B5C;\n",
              "      box-shadow: 0px 1px 3px 1px rgba(0, 0, 0, 0.15);\n",
              "      filter: drop-shadow(0px 1px 2px rgba(0, 0, 0, 0.3));\n",
              "      fill: #FFFFFF;\n",
              "    }\n",
              "  </style>\n",
              "\n",
              "      <script>\n",
              "        const buttonEl =\n",
              "          document.querySelector('#df-01ca0c7b-9c69-419e-9dfb-918a83d471fa button.colab-df-convert');\n",
              "        buttonEl.style.display =\n",
              "          google.colab.kernel.accessAllowed ? 'block' : 'none';\n",
              "\n",
              "        async function convertToInteractive(key) {\n",
              "          const element = document.querySelector('#df-01ca0c7b-9c69-419e-9dfb-918a83d471fa');\n",
              "          const dataTable =\n",
              "            await google.colab.kernel.invokeFunction('convertToInteractive',\n",
              "                                                     [key], {});\n",
              "          if (!dataTable) return;\n",
              "\n",
              "          const docLinkHtml = 'Like what you see? Visit the ' +\n",
              "            '<a target=\"_blank\" href=https://colab.research.google.com/notebooks/data_table.ipynb>data table notebook</a>'\n",
              "            + ' to learn more about interactive tables.';\n",
              "          element.innerHTML = '';\n",
              "          dataTable['output_type'] = 'display_data';\n",
              "          await google.colab.output.renderOutput(dataTable, element);\n",
              "          const docLink = document.createElement('div');\n",
              "          docLink.innerHTML = docLinkHtml;\n",
              "          element.appendChild(docLink);\n",
              "        }\n",
              "      </script>\n",
              "    </div>\n",
              "  </div>\n",
              "  "
            ]
          },
          "metadata": {},
          "execution_count": 85
        }
      ],
      "source": [
        "train_labels = pd.read_csv('stage_2_train_labels.csv')\n",
        "\n",
        "train_labels.head()"
      ]
    },
    {
      "cell_type": "code",
      "execution_count": 86,
      "metadata": {
        "colab": {
          "base_uri": "https://localhost:8080/"
        },
        "id": "TqEelSMaJb6h",
        "outputId": "885cacf7-941d-44a7-ea34-f0f406721dba"
      },
      "outputs": [
        {
          "output_type": "execute_result",
          "data": {
            "text/plain": [
              "(30227, 6)"
            ]
          },
          "metadata": {},
          "execution_count": 86
        }
      ],
      "source": [
        "train_labels.shape"
      ]
    },
    {
      "cell_type": "code",
      "execution_count": 87,
      "metadata": {
        "colab": {
          "base_uri": "https://localhost:8080/"
        },
        "id": "2OEze-JqJ6wb",
        "outputId": "eba16043-1b52-462e-ae85-12b8b1c5ecc6"
      },
      "outputs": [
        {
          "output_type": "execute_result",
          "data": {
            "text/plain": [
              "Target\n",
              "0    20672\n",
              "1     9555\n",
              "dtype: int64"
            ]
          },
          "metadata": {},
          "execution_count": 87
        }
      ],
      "source": [
        "train_labels.value_counts(\"Target\")"
      ]
    },
    {
      "cell_type": "code",
      "execution_count": 88,
      "metadata": {
        "id": "4O_6ES4iKDCb"
      },
      "outputs": [],
      "source": [
        "train_labels_reslt = train_labels[train_labels['Target'] == 1]"
      ]
    },
    {
      "cell_type": "code",
      "execution_count": 89,
      "metadata": {
        "colab": {
          "base_uri": "https://localhost:8080/"
        },
        "id": "THcUJj6_KOjO",
        "outputId": "d23f4309-5173-459e-eaa5-2c8e9ad6b37b"
      },
      "outputs": [
        {
          "output_type": "execute_result",
          "data": {
            "text/plain": [
              "(9555, 6)"
            ]
          },
          "metadata": {},
          "execution_count": 89
        }
      ],
      "source": [
        "train_labels_reslt.shape"
      ]
    },
    {
      "cell_type": "code",
      "execution_count": 90,
      "metadata": {
        "id": "-B3Lj6IAUczv"
      },
      "outputs": [],
      "source": [
        "def get_dicom_fps(dicom_dir):\n",
        "    dicom_fps = glob.glob(dicom_dir+'/'+'*.dcm')\n",
        "    return list(set(dicom_fps))"
      ]
    },
    {
      "cell_type": "code",
      "source": [
        ""
      ],
      "metadata": {
        "id": "lvYjjX8_WL2n"
      },
      "execution_count": 90,
      "outputs": []
    },
    {
      "cell_type": "code",
      "execution_count": 91,
      "metadata": {
        "id": "t02l_dwMUga2"
      },
      "outputs": [],
      "source": [
        "def parse_dataset(dicom_dir, anns): \n",
        "    image_fps = get_dicom_fps(dicom_dir)\n",
        "    image_annotations = {fp: [] for fp in image_fps}\n",
        "    for index, row in anns.iterrows(): \n",
        "      #  print(\"target\",row['Target'])\n",
        "        fp = os.path.join(dicom_dir, row['patientId']+'.dcm')\n",
        "        image_annotations[fp].append(row)\n",
        "    return image_fps, image_annotations "
      ]
    },
    {
      "cell_type": "code",
      "execution_count": 92,
      "metadata": {
        "id": "gP3St0_wUkJD"
      },
      "outputs": [],
      "source": [
        "image_fps, image_annotations = parse_dataset('stage_2_train_images', train_labels)"
      ]
    },
    {
      "cell_type": "code",
      "execution_count": 93,
      "metadata": {
        "id": "6ZCPx0LjVC09"
      },
      "outputs": [],
      "source": [
        "ds = pydicom.read_file(image_fps[0]) # read dicom image from filepath \n",
        "image = ds.pixel_array # get image array"
      ]
    },
    {
      "cell_type": "code",
      "execution_count": 94,
      "metadata": {
        "colab": {
          "base_uri": "https://localhost:8080/"
        },
        "id": "fbXmHRi1Kf8A",
        "outputId": "30262e2c-689b-46a4-92d7-6b120de8c6c0"
      },
      "outputs": [
        {
          "output_type": "execute_result",
          "data": {
            "text/plain": [
              "array([[223, 219, 219, ..., 235, 248, 164],\n",
              "       [216, 213, 213, ..., 232, 245, 161],\n",
              "       [214, 211, 209, ..., 230, 243, 159],\n",
              "       ...,\n",
              "       [ 10,  10,  10, ..., 194, 219, 146],\n",
              "       [ 11,  11,  10, ..., 194, 220, 149],\n",
              "       [ 11,  11,  10, ..., 193, 219, 150]], dtype=uint8)"
            ]
          },
          "metadata": {},
          "execution_count": 94
        }
      ],
      "source": [
        "image"
      ]
    },
    {
      "cell_type": "code",
      "execution_count": 95,
      "metadata": {
        "colab": {
          "base_uri": "https://localhost:8080/"
        },
        "id": "7JPkADeeLRgP",
        "outputId": "455b1532-30cd-4842-ba2d-95d9152cba9c"
      },
      "outputs": [
        {
          "output_type": "execute_result",
          "data": {
            "text/plain": [
              "26684"
            ]
          },
          "metadata": {},
          "execution_count": 95
        }
      ],
      "source": [
        "len(image_fps)"
      ]
    },
    {
      "cell_type": "code",
      "execution_count": 96,
      "metadata": {
        "colab": {
          "base_uri": "https://localhost:8080/"
        },
        "id": "74rrR9BTLVWJ",
        "outputId": "d4067fd5-f5fa-4f61-8a0e-eba0d540a342"
      },
      "outputs": [
        {
          "output_type": "execute_result",
          "data": {
            "text/plain": [
              "26684"
            ]
          },
          "metadata": {},
          "execution_count": 96
        }
      ],
      "source": [
        "len(image_annotations)"
      ]
    },
    {
      "cell_type": "code",
      "execution_count": 97,
      "metadata": {
        "colab": {
          "base_uri": "https://localhost:8080/"
        },
        "id": "HNYjExHOVR2R",
        "outputId": "529a3d86-8765-494a-adb7-f92035da0d88"
      },
      "outputs": [
        {
          "output_type": "execute_result",
          "data": {
            "text/plain": [
              "Dataset.file_meta -------------------------------\n",
              "(0002, 0000) File Meta Information Group Length  UL: 202\n",
              "(0002, 0001) File Meta Information Version       OB: b'\\x00\\x01'\n",
              "(0002, 0002) Media Storage SOP Class UID         UI: Secondary Capture Image Storage\n",
              "(0002, 0003) Media Storage SOP Instance UID      UI: 1.2.276.0.7230010.3.1.4.8323329.10373.1517874351.219716\n",
              "(0002, 0010) Transfer Syntax UID                 UI: JPEG Baseline (Process 1)\n",
              "(0002, 0012) Implementation Class UID            UI: 1.2.276.0.7230010.3.0.3.6.0\n",
              "(0002, 0013) Implementation Version Name         SH: 'OFFIS_DCMTK_360'\n",
              "-------------------------------------------------\n",
              "(0008, 0005) Specific Character Set              CS: 'ISO_IR 100'\n",
              "(0008, 0016) SOP Class UID                       UI: Secondary Capture Image Storage\n",
              "(0008, 0018) SOP Instance UID                    UI: 1.2.276.0.7230010.3.1.4.8323329.10373.1517874351.219716\n",
              "(0008, 0020) Study Date                          DA: '19010101'\n",
              "(0008, 0030) Study Time                          TM: '000000.00'\n",
              "(0008, 0050) Accession Number                    SH: ''\n",
              "(0008, 0060) Modality                            CS: 'CR'\n",
              "(0008, 0064) Conversion Type                     CS: 'WSD'\n",
              "(0008, 0090) Referring Physician's Name          PN: ''\n",
              "(0008, 103e) Series Description                  LO: 'view: PA'\n",
              "(0010, 0010) Patient's Name                      PN: 'fbfc5c95-feb2-43b8-a37f-0846c5db5848'\n",
              "(0010, 0020) Patient ID                          LO: 'fbfc5c95-feb2-43b8-a37f-0846c5db5848'\n",
              "(0010, 0030) Patient's Birth Date                DA: ''\n",
              "(0010, 0040) Patient's Sex                       CS: 'M'\n",
              "(0010, 1010) Patient's Age                       AS: '40'\n",
              "(0018, 0015) Body Part Examined                  CS: 'CHEST'\n",
              "(0018, 5101) View Position                       CS: 'PA'\n",
              "(0020, 000d) Study Instance UID                  UI: 1.2.276.0.7230010.3.1.2.8323329.10373.1517874351.219715\n",
              "(0020, 000e) Series Instance UID                 UI: 1.2.276.0.7230010.3.1.3.8323329.10373.1517874351.219714\n",
              "(0020, 0010) Study ID                            SH: ''\n",
              "(0020, 0011) Series Number                       IS: '1'\n",
              "(0020, 0013) Instance Number                     IS: '1'\n",
              "(0020, 0020) Patient Orientation                 CS: ''\n",
              "(0028, 0002) Samples per Pixel                   US: 1\n",
              "(0028, 0004) Photometric Interpretation          CS: 'MONOCHROME2'\n",
              "(0028, 0010) Rows                                US: 1024\n",
              "(0028, 0011) Columns                             US: 1024\n",
              "(0028, 0030) Pixel Spacing                       DS: [0.14300000000000002, 0.14300000000000002]\n",
              "(0028, 0100) Bits Allocated                      US: 8\n",
              "(0028, 0101) Bits Stored                         US: 8\n",
              "(0028, 0102) High Bit                            US: 7\n",
              "(0028, 0103) Pixel Representation                US: 0\n",
              "(0028, 2110) Lossy Image Compression             CS: '01'\n",
              "(0028, 2114) Lossy Image Compression Method      CS: 'ISO_10918_1'\n",
              "(7fe0, 0010) Pixel Data                          OB: Array of 164188 elements"
            ]
          },
          "metadata": {},
          "execution_count": 97
        }
      ],
      "source": [
        "ds"
      ]
    },
    {
      "cell_type": "code",
      "execution_count": 98,
      "metadata": {
        "colab": {
          "base_uri": "https://localhost:8080/"
        },
        "id": "cb4J6DKdUtW8",
        "outputId": "61bf96af-d319-4041-f175-286bc3adf0ee"
      },
      "outputs": [
        {
          "output_type": "stream",
          "name": "stdout",
          "text": [
            "13500 1500\n"
          ]
        }
      ],
      "source": [
        "\n",
        "image_fps_list = list(image_fps[:15000]) \n",
        "\n",
        "\n",
        "sorted(image_fps_list)\n",
        "random.seed(42)\n",
        "random.shuffle(image_fps_list)\n",
        "\n",
        "validation_split = 0.1\n",
        "split_index = int((1 - validation_split) * len(image_fps_list))\n",
        "\n",
        "image_fps_train = image_fps_list[:split_index]\n",
        "image_fps_val = image_fps_list[split_index:]\n",
        "\n",
        "print(len(image_fps_train), len(image_fps_val))"
      ]
    },
    {
      "cell_type": "code",
      "execution_count": 99,
      "metadata": {
        "id": "Y8iPvHh9U0jX"
      },
      "outputs": [],
      "source": [
        "# prepare the training dataset\n",
        "dataset_train = DetectorDataset(image_fps_train, image_annotations, 1024, 1024)\n",
        "dataset_train.prepare()"
      ]
    },
    {
      "cell_type": "code",
      "execution_count": 100,
      "metadata": {
        "colab": {
          "base_uri": "https://localhost:8080/"
        },
        "id": "fbq1eihjVk-9",
        "outputId": "d231535f-53ff-48c9-9cb0-a6801b3d412a"
      },
      "outputs": [
        {
          "output_type": "execute_result",
          "data": {
            "text/plain": [
              "[patientId    d7545025-6654-4cc3-83d1-99a34476c72a\n",
              " x                                           638.0\n",
              " y                                           319.0\n",
              " width                                       258.0\n",
              " height                                      458.0\n",
              " Target                                          1\n",
              " Name: 23959, dtype: object, patientId    d7545025-6654-4cc3-83d1-99a34476c72a\n",
              " x                                           177.0\n",
              " y                                           161.0\n",
              " width                                       231.0\n",
              " height                                      521.0\n",
              " Target                                          1\n",
              " Name: 23960, dtype: object]"
            ]
          },
          "metadata": {},
          "execution_count": 100
        }
      ],
      "source": [
        "# Show annotation(s) for a DICOM image \n",
        "test_fp = random.choice(image_fps_train)\n",
        "image_annotations[test_fp]"
      ]
    },
    {
      "cell_type": "code",
      "execution_count": 101,
      "metadata": {
        "id": "vcw9WF5vVtdm"
      },
      "outputs": [],
      "source": [
        "# prepare the validation dataset\n",
        "dataset_val = DetectorDataset(image_fps_val, image_annotations, 1024, 1024)\n",
        "dataset_val.prepare()"
      ]
    },
    {
      "cell_type": "code",
      "execution_count": 102,
      "metadata": {
        "colab": {
          "base_uri": "https://localhost:8080/",
          "height": 35
        },
        "id": "0kEsRUGdvUNp",
        "outputId": "e5fe2e15-c523-4608-b6eb-ec476940de5d"
      },
      "outputs": [
        {
          "output_type": "execute_result",
          "data": {
            "text/plain": [
              "'import tensorflow as tf\\ntf.compat.v1.disable_eager_execution()'"
            ],
            "application/vnd.google.colaboratory.intrinsic+json": {
              "type": "string"
            }
          },
          "metadata": {},
          "execution_count": 102
        }
      ],
      "source": [
        "\"\"\"import tensorflow as tf\n",
        "tf.compat.v1.disable_eager_execution()\"\"\""
      ]
    },
    {
      "cell_type": "code",
      "execution_count": 103,
      "metadata": {
        "id": "R_ysff6Sgdc1"
      },
      "outputs": [],
      "source": [
        "LEARNING_RATE = 0.006 ## reduce the learning rate as the model is complex\n",
        "\n",
        "# Train Mask-RCNN Model \n",
        "import warnings \n",
        "warnings.filterwarnings(\"ignore\")"
      ]
    },
    {
      "cell_type": "code",
      "execution_count": 104,
      "metadata": {
        "id": "VUk5cfkCVvIv"
      },
      "outputs": [],
      "source": [
        "model = modellib.MaskRCNN(mode='training', config=config, model_dir=ROOT_DIR)\n",
        "\n",
        "# Exclude the last layers because they require a matching\n",
        "# number of classes\n",
        "model.load_weights(COCO_WEIGHTS_PATH, by_name=True,  exclude=[\"mrcnn_class_logits\", \"mrcnn_bbox_fc\",\"mrcnn_bbox\", \"mrcnn_mask\"]) "
      ]
    },
    {
      "cell_type": "code",
      "execution_count": 104,
      "metadata": {
        "id": "sb3A_SqRL7TF"
      },
      "outputs": [],
      "source": [
        ""
      ]
    },
    {
      "cell_type": "code",
      "execution_count": 105,
      "metadata": {
        "id": "jL_kFKbpWgeK"
      },
      "outputs": [],
      "source": [
        "# List of augmentations\n",
        "# http://imgaug.readthedocs.io/en/latest/source/augmenters.html\n",
        "augmentation = iaa.Sometimes(0.9, [\n",
        "    iaa.Fliplr(0.5),\n",
        "    iaa.Flipud(0.5),\n",
        "    iaa.Multiply((0.8, 1.2)),\n",
        "    iaa.GaussianBlur(sigma=(0.0, 5.0))\n",
        "])"
      ]
    },
    {
      "cell_type": "markdown",
      "source": [
        "Only the heads. Here we're freezing all the backbone layers and training only the randomly initialized layers (i.e. the ones that we didn't use pre-trained weights from MS COCO)"
      ],
      "metadata": {
        "id": "sCcEd48xzzKe"
      }
    },
    {
      "cell_type": "code",
      "execution_count": 106,
      "metadata": {
        "colab": {
          "base_uri": "https://localhost:8080/"
        },
        "id": "PBfPqeNTVzaY",
        "outputId": "96bd95aa-b114-4fbc-ab83-dcf895ab6e7a"
      },
      "outputs": [
        {
          "metadata": {
            "tags": null
          },
          "name": "stdout",
          "output_type": "stream",
          "text": [
            "\n",
            "Starting at epoch 0. LR=0.006\n",
            "\n",
            "Checkpoint Path: ./pneumonia20220326T0527/mask_rcnn_pneumonia_{epoch:04d}.h5\n",
            "Selecting layers to train\n",
            "fpn_c5p5               (Conv2D)\n",
            "fpn_c4p4               (Conv2D)\n",
            "fpn_c3p3               (Conv2D)\n",
            "fpn_c2p2               (Conv2D)\n",
            "fpn_p5                 (Conv2D)\n",
            "fpn_p2                 (Conv2D)\n",
            "fpn_p3                 (Conv2D)\n",
            "fpn_p4                 (Conv2D)\n",
            "In model:  rpn_model\n",
            "    rpn_conv_shared        (Conv2D)\n",
            "    rpn_class_raw          (Conv2D)\n",
            "    rpn_bbox_pred          (Conv2D)\n",
            "mrcnn_mask_conv1       (TimeDistributed)\n",
            "mrcnn_mask_bn1         (TimeDistributed)\n",
            "mrcnn_mask_conv2       (TimeDistributed)\n",
            "mrcnn_mask_bn2         (TimeDistributed)\n",
            "mrcnn_class_conv1      (TimeDistributed)\n",
            "mrcnn_class_bn1        (TimeDistributed)\n",
            "mrcnn_mask_conv3       (TimeDistributed)\n",
            "mrcnn_mask_bn3         (TimeDistributed)\n",
            "mrcnn_class_conv2      (TimeDistributed)\n",
            "mrcnn_class_bn2        (TimeDistributed)\n",
            "mrcnn_mask_conv4       (TimeDistributed)\n",
            "mrcnn_mask_bn4         (TimeDistributed)\n",
            "mrcnn_bbox_fc          (TimeDistributed)\n",
            "mrcnn_mask_deconv      (TimeDistributed)\n",
            "mrcnn_class_logits     (TimeDistributed)\n",
            "mrcnn_mask             (TimeDistributed)\n",
            "Epoch 1/30\n",
            "500/500 [==============================] - 275s 549ms/step - loss: 3.0079 - rpn_class_loss: 0.0304 - rpn_bbox_loss: 1.9464 - mrcnn_class_loss: 0.1270 - mrcnn_bbox_loss: 0.4930 - mrcnn_mask_loss: 0.4112 - val_loss: 2.8044 - val_rpn_class_loss: 0.0204 - val_rpn_bbox_loss: 1.8587 - val_mrcnn_class_loss: 0.1032 - val_mrcnn_bbox_loss: 0.4262 - val_mrcnn_mask_loss: 0.3960\n",
            "Epoch 2/30\n",
            "500/500 [==============================] - 208s 416ms/step - loss: 2.5703 - rpn_class_loss: 0.0194 - rpn_bbox_loss: 1.6504 - mrcnn_class_loss: 0.1051 - mrcnn_bbox_loss: 0.4102 - mrcnn_mask_loss: 0.3851 - val_loss: 2.4288 - val_rpn_class_loss: 0.0179 - val_rpn_bbox_loss: 1.4932 - val_mrcnn_class_loss: 0.1123 - val_mrcnn_bbox_loss: 0.4240 - val_mrcnn_mask_loss: 0.3815\n",
            "Epoch 3/30\n",
            "500/500 [==============================] - 220s 441ms/step - loss: 2.4107 - rpn_class_loss: 0.0178 - rpn_bbox_loss: 1.5141 - mrcnn_class_loss: 0.1047 - mrcnn_bbox_loss: 0.3934 - mrcnn_mask_loss: 0.3807 - val_loss: 2.5080 - val_rpn_class_loss: 0.0191 - val_rpn_bbox_loss: 1.5149 - val_mrcnn_class_loss: 0.1697 - val_mrcnn_bbox_loss: 0.4171 - val_mrcnn_mask_loss: 0.3872\n",
            "Epoch 4/30\n",
            "500/500 [==============================] - 221s 442ms/step - loss: 2.4079 - rpn_class_loss: 0.0181 - rpn_bbox_loss: 1.5188 - mrcnn_class_loss: 0.1208 - mrcnn_bbox_loss: 0.3806 - mrcnn_mask_loss: 0.3697 - val_loss: 2.6547 - val_rpn_class_loss: 0.0158 - val_rpn_bbox_loss: 1.8582 - val_mrcnn_class_loss: 0.0617 - val_mrcnn_bbox_loss: 0.3380 - val_mrcnn_mask_loss: 0.3810\n",
            "Epoch 5/30\n",
            "500/500 [==============================] - 220s 440ms/step - loss: 2.3107 - rpn_class_loss: 0.0168 - rpn_bbox_loss: 1.4447 - mrcnn_class_loss: 0.1112 - mrcnn_bbox_loss: 0.3661 - mrcnn_mask_loss: 0.3719 - val_loss: 2.4878 - val_rpn_class_loss: 0.0160 - val_rpn_bbox_loss: 1.5725 - val_mrcnn_class_loss: 0.1502 - val_mrcnn_bbox_loss: 0.3821 - val_mrcnn_mask_loss: 0.3670\n",
            "Epoch 6/30\n",
            "500/500 [==============================] - 218s 436ms/step - loss: 2.2681 - rpn_class_loss: 0.0168 - rpn_bbox_loss: 1.4034 - mrcnn_class_loss: 0.1149 - mrcnn_bbox_loss: 0.3650 - mrcnn_mask_loss: 0.3680 - val_loss: 2.4588 - val_rpn_class_loss: 0.0161 - val_rpn_bbox_loss: 1.5931 - val_mrcnn_class_loss: 0.1072 - val_mrcnn_bbox_loss: 0.3577 - val_mrcnn_mask_loss: 0.3848\n",
            "Epoch 7/30\n",
            "500/500 [==============================] - 226s 452ms/step - loss: 2.2048 - rpn_class_loss: 0.0162 - rpn_bbox_loss: 1.3459 - mrcnn_class_loss: 0.1213 - mrcnn_bbox_loss: 0.3558 - mrcnn_mask_loss: 0.3655 - val_loss: 2.3735 - val_rpn_class_loss: 0.0211 - val_rpn_bbox_loss: 1.5141 - val_mrcnn_class_loss: 0.1263 - val_mrcnn_bbox_loss: 0.3597 - val_mrcnn_mask_loss: 0.3523\n",
            "Epoch 8/30\n",
            "500/500 [==============================] - 216s 431ms/step - loss: 2.1199 - rpn_class_loss: 0.0158 - rpn_bbox_loss: 1.2787 - mrcnn_class_loss: 0.1132 - mrcnn_bbox_loss: 0.3487 - mrcnn_mask_loss: 0.3634 - val_loss: 2.1997 - val_rpn_class_loss: 0.0162 - val_rpn_bbox_loss: 1.3360 - val_mrcnn_class_loss: 0.1066 - val_mrcnn_bbox_loss: 0.3766 - val_mrcnn_mask_loss: 0.3643\n",
            "Epoch 9/30\n",
            "500/500 [==============================] - 218s 437ms/step - loss: 2.1248 - rpn_class_loss: 0.0164 - rpn_bbox_loss: 1.2925 - mrcnn_class_loss: 0.1092 - mrcnn_bbox_loss: 0.3447 - mrcnn_mask_loss: 0.3620 - val_loss: 2.4434 - val_rpn_class_loss: 0.0162 - val_rpn_bbox_loss: 1.5793 - val_mrcnn_class_loss: 0.1076 - val_mrcnn_bbox_loss: 0.3724 - val_mrcnn_mask_loss: 0.3679\n",
            "Epoch 10/30\n",
            "500/500 [==============================] - 224s 449ms/step - loss: 2.0171 - rpn_class_loss: 0.0141 - rpn_bbox_loss: 1.1999 - mrcnn_class_loss: 0.0960 - mrcnn_bbox_loss: 0.3474 - mrcnn_mask_loss: 0.3597 - val_loss: 2.3659 - val_rpn_class_loss: 0.0153 - val_rpn_bbox_loss: 1.5038 - val_mrcnn_class_loss: 0.0948 - val_mrcnn_bbox_loss: 0.3795 - val_mrcnn_mask_loss: 0.3725\n",
            "Epoch 11/30\n",
            "500/500 [==============================] - 215s 430ms/step - loss: 2.0612 - rpn_class_loss: 0.0155 - rpn_bbox_loss: 1.2448 - mrcnn_class_loss: 0.1092 - mrcnn_bbox_loss: 0.3353 - mrcnn_mask_loss: 0.3562 - val_loss: 2.4669 - val_rpn_class_loss: 0.0147 - val_rpn_bbox_loss: 1.5353 - val_mrcnn_class_loss: 0.1089 - val_mrcnn_bbox_loss: 0.4114 - val_mrcnn_mask_loss: 0.3964\n",
            "Epoch 12/30\n",
            "500/500 [==============================] - 226s 453ms/step - loss: 1.9947 - rpn_class_loss: 0.0158 - rpn_bbox_loss: 1.1870 - mrcnn_class_loss: 0.1015 - mrcnn_bbox_loss: 0.3296 - mrcnn_mask_loss: 0.3607 - val_loss: 2.2904 - val_rpn_class_loss: 0.0182 - val_rpn_bbox_loss: 1.4317 - val_mrcnn_class_loss: 0.1003 - val_mrcnn_bbox_loss: 0.3678 - val_mrcnn_mask_loss: 0.3723\n",
            "Epoch 13/30\n",
            "500/500 [==============================] - 223s 446ms/step - loss: 1.9545 - rpn_class_loss: 0.0150 - rpn_bbox_loss: 1.1616 - mrcnn_class_loss: 0.0941 - mrcnn_bbox_loss: 0.3260 - mrcnn_mask_loss: 0.3577 - val_loss: 2.1875 - val_rpn_class_loss: 0.0164 - val_rpn_bbox_loss: 1.3558 - val_mrcnn_class_loss: 0.0922 - val_mrcnn_bbox_loss: 0.3461 - val_mrcnn_mask_loss: 0.3768\n",
            "Epoch 14/30\n",
            "500/500 [==============================] - 213s 425ms/step - loss: 1.9089 - rpn_class_loss: 0.0149 - rpn_bbox_loss: 1.1178 - mrcnn_class_loss: 0.1056 - mrcnn_bbox_loss: 0.3155 - mrcnn_mask_loss: 0.3550 - val_loss: 2.4300 - val_rpn_class_loss: 0.0173 - val_rpn_bbox_loss: 1.5353 - val_mrcnn_class_loss: 0.1143 - val_mrcnn_bbox_loss: 0.3924 - val_mrcnn_mask_loss: 0.3705\n",
            "Epoch 15/30\n",
            "500/500 [==============================] - 220s 441ms/step - loss: 1.8081 - rpn_class_loss: 0.0145 - rpn_bbox_loss: 1.0674 - mrcnn_class_loss: 0.0629 - mrcnn_bbox_loss: 0.3120 - mrcnn_mask_loss: 0.3512 - val_loss: 2.1924 - val_rpn_class_loss: 0.0159 - val_rpn_bbox_loss: 1.3335 - val_mrcnn_class_loss: 0.0736 - val_mrcnn_bbox_loss: 0.3863 - val_mrcnn_mask_loss: 0.3828\n",
            "Epoch 16/30\n",
            "500/500 [==============================] - 216s 431ms/step - loss: 1.7838 - rpn_class_loss: 0.0140 - rpn_bbox_loss: 1.0329 - mrcnn_class_loss: 0.0757 - mrcnn_bbox_loss: 0.3119 - mrcnn_mask_loss: 0.3491 - val_loss: 2.4242 - val_rpn_class_loss: 0.0157 - val_rpn_bbox_loss: 1.5127 - val_mrcnn_class_loss: 0.0879 - val_mrcnn_bbox_loss: 0.4242 - val_mrcnn_mask_loss: 0.3835\n",
            "Epoch 17/30\n",
            "500/500 [==============================] - 221s 442ms/step - loss: 1.7604 - rpn_class_loss: 0.0142 - rpn_bbox_loss: 1.0099 - mrcnn_class_loss: 0.0906 - mrcnn_bbox_loss: 0.2966 - mrcnn_mask_loss: 0.3489 - val_loss: 2.3479 - val_rpn_class_loss: 0.0162 - val_rpn_bbox_loss: 1.4460 - val_mrcnn_class_loss: 0.1267 - val_mrcnn_bbox_loss: 0.3789 - val_mrcnn_mask_loss: 0.3799\n",
            "Epoch 18/30\n",
            "500/500 [==============================] - 217s 434ms/step - loss: 1.7982 - rpn_class_loss: 0.0137 - rpn_bbox_loss: 1.0152 - mrcnn_class_loss: 0.1082 - mrcnn_bbox_loss: 0.3094 - mrcnn_mask_loss: 0.3515 - val_loss: 2.3242 - val_rpn_class_loss: 0.0150 - val_rpn_bbox_loss: 1.4523 - val_mrcnn_class_loss: 0.1056 - val_mrcnn_bbox_loss: 0.3821 - val_mrcnn_mask_loss: 0.3691\n",
            "Epoch 19/30\n",
            "500/500 [==============================] - 227s 454ms/step - loss: 1.6998 - rpn_class_loss: 0.0137 - rpn_bbox_loss: 0.9540 - mrcnn_class_loss: 0.0962 - mrcnn_bbox_loss: 0.2907 - mrcnn_mask_loss: 0.3451 - val_loss: 2.2031 - val_rpn_class_loss: 0.0155 - val_rpn_bbox_loss: 1.3507 - val_mrcnn_class_loss: 0.1120 - val_mrcnn_bbox_loss: 0.3678 - val_mrcnn_mask_loss: 0.3570\n",
            "Epoch 20/30\n",
            "500/500 [==============================] - 218s 435ms/step - loss: 1.7230 - rpn_class_loss: 0.0137 - rpn_bbox_loss: 0.9703 - mrcnn_class_loss: 0.1006 - mrcnn_bbox_loss: 0.2911 - mrcnn_mask_loss: 0.3472 - val_loss: 2.2860 - val_rpn_class_loss: 0.0149 - val_rpn_bbox_loss: 1.3879 - val_mrcnn_class_loss: 0.1127 - val_mrcnn_bbox_loss: 0.3965 - val_mrcnn_mask_loss: 0.3737\n",
            "Epoch 21/30\n",
            "500/500 [==============================] - 223s 446ms/step - loss: 1.6795 - rpn_class_loss: 0.0125 - rpn_bbox_loss: 0.9551 - mrcnn_class_loss: 0.0867 - mrcnn_bbox_loss: 0.2832 - mrcnn_mask_loss: 0.3417 - val_loss: 2.3503 - val_rpn_class_loss: 0.0159 - val_rpn_bbox_loss: 1.5805 - val_mrcnn_class_loss: 0.0472 - val_mrcnn_bbox_loss: 0.3280 - val_mrcnn_mask_loss: 0.3786\n",
            "Epoch 22/30\n",
            "500/500 [==============================] - 213s 427ms/step - loss: 1.6571 - rpn_class_loss: 0.0131 - rpn_bbox_loss: 0.9255 - mrcnn_class_loss: 0.0921 - mrcnn_bbox_loss: 0.2843 - mrcnn_mask_loss: 0.3419 - val_loss: 2.4345 - val_rpn_class_loss: 0.0152 - val_rpn_bbox_loss: 1.5872 - val_mrcnn_class_loss: 0.1055 - val_mrcnn_bbox_loss: 0.3643 - val_mrcnn_mask_loss: 0.3621\n",
            "Epoch 23/30\n",
            "500/500 [==============================] - 227s 454ms/step - loss: 1.6048 - rpn_class_loss: 0.0124 - rpn_bbox_loss: 0.8907 - mrcnn_class_loss: 0.0903 - mrcnn_bbox_loss: 0.2722 - mrcnn_mask_loss: 0.3390 - val_loss: 2.3152 - val_rpn_class_loss: 0.0183 - val_rpn_bbox_loss: 1.4215 - val_mrcnn_class_loss: 0.1112 - val_mrcnn_bbox_loss: 0.3791 - val_mrcnn_mask_loss: 0.3848\n",
            "Epoch 24/30\n",
            "500/500 [==============================] - 218s 435ms/step - loss: 1.5874 - rpn_class_loss: 0.0127 - rpn_bbox_loss: 0.8781 - mrcnn_class_loss: 0.0940 - mrcnn_bbox_loss: 0.2679 - mrcnn_mask_loss: 0.3344 - val_loss: 2.3496 - val_rpn_class_loss: 0.0156 - val_rpn_bbox_loss: 1.4613 - val_mrcnn_class_loss: 0.0912 - val_mrcnn_bbox_loss: 0.3895 - val_mrcnn_mask_loss: 0.3916\n",
            "Epoch 25/30\n",
            "500/500 [==============================] - 222s 445ms/step - loss: 1.5696 - rpn_class_loss: 0.0124 - rpn_bbox_loss: 0.8749 - mrcnn_class_loss: 0.0913 - mrcnn_bbox_loss: 0.2598 - mrcnn_mask_loss: 0.3309 - val_loss: 2.2267 - val_rpn_class_loss: 0.0178 - val_rpn_bbox_loss: 1.3888 - val_mrcnn_class_loss: 0.0874 - val_mrcnn_bbox_loss: 0.3579 - val_mrcnn_mask_loss: 0.3746\n",
            "Epoch 26/30\n",
            "500/500 [==============================] - 222s 445ms/step - loss: 1.4858 - rpn_class_loss: 0.0120 - rpn_bbox_loss: 0.8022 - mrcnn_class_loss: 0.0935 - mrcnn_bbox_loss: 0.2457 - mrcnn_mask_loss: 0.3321 - val_loss: 2.2010 - val_rpn_class_loss: 0.0157 - val_rpn_bbox_loss: 1.3242 - val_mrcnn_class_loss: 0.1197 - val_mrcnn_bbox_loss: 0.3676 - val_mrcnn_mask_loss: 0.3735\n",
            "Epoch 27/30\n",
            "500/500 [==============================] - 223s 446ms/step - loss: 1.5068 - rpn_class_loss: 0.0125 - rpn_bbox_loss: 0.8216 - mrcnn_class_loss: 0.0866 - mrcnn_bbox_loss: 0.2533 - mrcnn_mask_loss: 0.3325 - val_loss: 2.3777 - val_rpn_class_loss: 0.0201 - val_rpn_bbox_loss: 1.5186 - val_mrcnn_class_loss: 0.0919 - val_mrcnn_bbox_loss: 0.3658 - val_mrcnn_mask_loss: 0.3810\n",
            "Epoch 28/30\n",
            "500/500 [==============================] - 218s 435ms/step - loss: 1.4919 - rpn_class_loss: 0.0129 - rpn_bbox_loss: 0.8208 - mrcnn_class_loss: 0.0834 - mrcnn_bbox_loss: 0.2456 - mrcnn_mask_loss: 0.3289 - val_loss: 2.2524 - val_rpn_class_loss: 0.0169 - val_rpn_bbox_loss: 1.3647 - val_mrcnn_class_loss: 0.0856 - val_mrcnn_bbox_loss: 0.3833 - val_mrcnn_mask_loss: 0.4017\n",
            "Epoch 29/30\n",
            "500/500 [==============================] - 221s 442ms/step - loss: 1.4395 - rpn_class_loss: 0.0117 - rpn_bbox_loss: 0.7925 - mrcnn_class_loss: 0.0706 - mrcnn_bbox_loss: 0.2385 - mrcnn_mask_loss: 0.3257 - val_loss: 2.3065 - val_rpn_class_loss: 0.0159 - val_rpn_bbox_loss: 1.4552 - val_mrcnn_class_loss: 0.0808 - val_mrcnn_bbox_loss: 0.3704 - val_mrcnn_mask_loss: 0.3839\n",
            "Epoch 30/30\n",
            "500/500 [==============================] - 217s 434ms/step - loss: 1.4477 - rpn_class_loss: 0.0120 - rpn_bbox_loss: 0.7927 - mrcnn_class_loss: 0.0846 - mrcnn_bbox_loss: 0.2358 - mrcnn_mask_loss: 0.3223 - val_loss: 2.4683 - val_rpn_class_loss: 0.0212 - val_rpn_bbox_loss: 1.5442 - val_mrcnn_class_loss: 0.1032 - val_mrcnn_bbox_loss: 0.3984 - val_mrcnn_mask_loss: 0.4009\n"
          ]
        }
      ],
      "source": [
        "NUM_EPOCHS = 30\n",
        "\n",
        "\n",
        "\n",
        "model.train(dataset_train, dataset_val, \n",
        "            learning_rate= LEARNING_RATE, \n",
        "            epochs=NUM_EPOCHS, \n",
        "            layers='heads',\n",
        "            augmentation=None)\n",
        "\n",
        "history = model.keras_model.history.history"
      ]
    },
    {
      "cell_type": "code",
      "execution_count": 107,
      "metadata": {
        "id": "NG_yhqoWMFkj"
      },
      "outputs": [],
      "source": [
        "#Fine-tune all layers. \n",
        "model.train(dataset_train, dataset_val,\n",
        "            learning_rate=LEARNING_RATE/10,\n",
        "            epochs=,\n",
        "            layers='all',\n",
        "           augmentation=None)  ## no need to augment yet\n",
        "\n",
        "history1 = model.keras_model.history.history\n",
        "for k in history1: history[k] = history[k] + history1[k]"
      ]
    },
    {
      "cell_type": "code",
      "execution_count": 108,
      "metadata": {
        "colab": {
          "base_uri": "https://localhost:8080/",
          "height": 1000
        },
        "id": "-8seJaCUcwlM",
        "outputId": "db38aaff-8b86-4628-dbac-6e1e5799c3f4"
      },
      "outputs": [
        {
          "data": {
            "text/html": [
              "\n",
              "  <div id=\"df-f6f8e5cb-131d-40c5-9f4d-9c8f4ee3c01b\">\n",
              "    <div class=\"colab-df-container\">\n",
              "      <div>\n",
              "<style scoped>\n",
              "    .dataframe tbody tr th:only-of-type {\n",
              "        vertical-align: middle;\n",
              "    }\n",
              "\n",
              "    .dataframe tbody tr th {\n",
              "        vertical-align: top;\n",
              "    }\n",
              "\n",
              "    .dataframe thead th {\n",
              "        text-align: right;\n",
              "    }\n",
              "</style>\n",
              "<table border=\"1\" class=\"dataframe\">\n",
              "  <thead>\n",
              "    <tr style=\"text-align: right;\">\n",
              "      <th></th>\n",
              "      <th>val_loss</th>\n",
              "      <th>val_rpn_class_loss</th>\n",
              "      <th>val_rpn_bbox_loss</th>\n",
              "      <th>val_mrcnn_class_loss</th>\n",
              "      <th>val_mrcnn_bbox_loss</th>\n",
              "      <th>val_mrcnn_mask_loss</th>\n",
              "      <th>loss</th>\n",
              "      <th>rpn_class_loss</th>\n",
              "      <th>rpn_bbox_loss</th>\n",
              "      <th>mrcnn_class_loss</th>\n",
              "      <th>mrcnn_bbox_loss</th>\n",
              "      <th>mrcnn_mask_loss</th>\n",
              "    </tr>\n",
              "  </thead>\n",
              "  <tbody>\n",
              "    <tr>\n",
              "      <th>1</th>\n",
              "      <td>2.804431</td>\n",
              "      <td>0.020365</td>\n",
              "      <td>1.858679</td>\n",
              "      <td>0.103179</td>\n",
              "      <td>0.426183</td>\n",
              "      <td>0.396022</td>\n",
              "      <td>3.007850</td>\n",
              "      <td>0.030388</td>\n",
              "      <td>1.946372</td>\n",
              "      <td>0.126963</td>\n",
              "      <td>0.492955</td>\n",
              "      <td>0.411169</td>\n",
              "    </tr>\n",
              "    <tr>\n",
              "      <th>2</th>\n",
              "      <td>2.428801</td>\n",
              "      <td>0.017859</td>\n",
              "      <td>1.493191</td>\n",
              "      <td>0.112260</td>\n",
              "      <td>0.423963</td>\n",
              "      <td>0.381521</td>\n",
              "      <td>2.570257</td>\n",
              "      <td>0.019424</td>\n",
              "      <td>1.650436</td>\n",
              "      <td>0.105099</td>\n",
              "      <td>0.410225</td>\n",
              "      <td>0.385068</td>\n",
              "    </tr>\n",
              "    <tr>\n",
              "      <th>3</th>\n",
              "      <td>2.508002</td>\n",
              "      <td>0.019149</td>\n",
              "      <td>1.514910</td>\n",
              "      <td>0.169681</td>\n",
              "      <td>0.417077</td>\n",
              "      <td>0.387175</td>\n",
              "      <td>2.410665</td>\n",
              "      <td>0.017850</td>\n",
              "      <td>1.514076</td>\n",
              "      <td>0.104712</td>\n",
              "      <td>0.393367</td>\n",
              "      <td>0.380652</td>\n",
              "    </tr>\n",
              "    <tr>\n",
              "      <th>4</th>\n",
              "      <td>2.654683</td>\n",
              "      <td>0.015754</td>\n",
              "      <td>1.858182</td>\n",
              "      <td>0.061668</td>\n",
              "      <td>0.338010</td>\n",
              "      <td>0.381048</td>\n",
              "      <td>2.407895</td>\n",
              "      <td>0.018054</td>\n",
              "      <td>1.518827</td>\n",
              "      <td>0.120790</td>\n",
              "      <td>0.380550</td>\n",
              "      <td>0.369658</td>\n",
              "    </tr>\n",
              "    <tr>\n",
              "      <th>5</th>\n",
              "      <td>2.487793</td>\n",
              "      <td>0.015997</td>\n",
              "      <td>1.572513</td>\n",
              "      <td>0.150155</td>\n",
              "      <td>0.382069</td>\n",
              "      <td>0.367031</td>\n",
              "      <td>2.310706</td>\n",
              "      <td>0.016803</td>\n",
              "      <td>1.444659</td>\n",
              "      <td>0.111180</td>\n",
              "      <td>0.366121</td>\n",
              "      <td>0.371919</td>\n",
              "    </tr>\n",
              "    <tr>\n",
              "      <th>6</th>\n",
              "      <td>2.458826</td>\n",
              "      <td>0.016056</td>\n",
              "      <td>1.593074</td>\n",
              "      <td>0.107212</td>\n",
              "      <td>0.357685</td>\n",
              "      <td>0.384759</td>\n",
              "      <td>2.268089</td>\n",
              "      <td>0.016784</td>\n",
              "      <td>1.403385</td>\n",
              "      <td>0.114942</td>\n",
              "      <td>0.364978</td>\n",
              "      <td>0.367966</td>\n",
              "    </tr>\n",
              "    <tr>\n",
              "      <th>7</th>\n",
              "      <td>2.373546</td>\n",
              "      <td>0.021075</td>\n",
              "      <td>1.514096</td>\n",
              "      <td>0.126320</td>\n",
              "      <td>0.359694</td>\n",
              "      <td>0.352308</td>\n",
              "      <td>2.204807</td>\n",
              "      <td>0.016205</td>\n",
              "      <td>1.345911</td>\n",
              "      <td>0.121285</td>\n",
              "      <td>0.355814</td>\n",
              "      <td>0.365546</td>\n",
              "    </tr>\n",
              "    <tr>\n",
              "      <th>8</th>\n",
              "      <td>2.199738</td>\n",
              "      <td>0.016212</td>\n",
              "      <td>1.336035</td>\n",
              "      <td>0.106599</td>\n",
              "      <td>0.376551</td>\n",
              "      <td>0.364276</td>\n",
              "      <td>2.119899</td>\n",
              "      <td>0.015783</td>\n",
              "      <td>1.278727</td>\n",
              "      <td>0.113248</td>\n",
              "      <td>0.348690</td>\n",
              "      <td>0.363391</td>\n",
              "    </tr>\n",
              "    <tr>\n",
              "      <th>9</th>\n",
              "      <td>2.443413</td>\n",
              "      <td>0.016223</td>\n",
              "      <td>1.579327</td>\n",
              "      <td>0.107566</td>\n",
              "      <td>0.372354</td>\n",
              "      <td>0.367861</td>\n",
              "      <td>2.124846</td>\n",
              "      <td>0.016356</td>\n",
              "      <td>1.292490</td>\n",
              "      <td>0.109190</td>\n",
              "      <td>0.344740</td>\n",
              "      <td>0.361998</td>\n",
              "    </tr>\n",
              "    <tr>\n",
              "      <th>10</th>\n",
              "      <td>2.365930</td>\n",
              "      <td>0.015274</td>\n",
              "      <td>1.503757</td>\n",
              "      <td>0.094754</td>\n",
              "      <td>0.379536</td>\n",
              "      <td>0.372514</td>\n",
              "      <td>2.017097</td>\n",
              "      <td>0.014055</td>\n",
              "      <td>1.199900</td>\n",
              "      <td>0.095962</td>\n",
              "      <td>0.347438</td>\n",
              "      <td>0.359653</td>\n",
              "    </tr>\n",
              "    <tr>\n",
              "      <th>11</th>\n",
              "      <td>2.466875</td>\n",
              "      <td>0.014749</td>\n",
              "      <td>1.535331</td>\n",
              "      <td>0.108890</td>\n",
              "      <td>0.411369</td>\n",
              "      <td>0.396425</td>\n",
              "      <td>2.061154</td>\n",
              "      <td>0.015498</td>\n",
              "      <td>1.244816</td>\n",
              "      <td>0.109249</td>\n",
              "      <td>0.335288</td>\n",
              "      <td>0.356201</td>\n",
              "    </tr>\n",
              "    <tr>\n",
              "      <th>12</th>\n",
              "      <td>2.290372</td>\n",
              "      <td>0.018179</td>\n",
              "      <td>1.431739</td>\n",
              "      <td>0.100258</td>\n",
              "      <td>0.367765</td>\n",
              "      <td>0.372305</td>\n",
              "      <td>1.994704</td>\n",
              "      <td>0.015795</td>\n",
              "      <td>1.187017</td>\n",
              "      <td>0.101537</td>\n",
              "      <td>0.329573</td>\n",
              "      <td>0.360662</td>\n",
              "    </tr>\n",
              "    <tr>\n",
              "      <th>13</th>\n",
              "      <td>2.187525</td>\n",
              "      <td>0.016414</td>\n",
              "      <td>1.355800</td>\n",
              "      <td>0.092183</td>\n",
              "      <td>0.346140</td>\n",
              "      <td>0.376844</td>\n",
              "      <td>1.954548</td>\n",
              "      <td>0.015049</td>\n",
              "      <td>1.161573</td>\n",
              "      <td>0.094138</td>\n",
              "      <td>0.325989</td>\n",
              "      <td>0.357662</td>\n",
              "    </tr>\n",
              "    <tr>\n",
              "      <th>14</th>\n",
              "      <td>2.430047</td>\n",
              "      <td>0.017309</td>\n",
              "      <td>1.535325</td>\n",
              "      <td>0.114350</td>\n",
              "      <td>0.392375</td>\n",
              "      <td>0.370528</td>\n",
              "      <td>1.908944</td>\n",
              "      <td>0.014907</td>\n",
              "      <td>1.117773</td>\n",
              "      <td>0.105558</td>\n",
              "      <td>0.315520</td>\n",
              "      <td>0.355035</td>\n",
              "    </tr>\n",
              "    <tr>\n",
              "      <th>15</th>\n",
              "      <td>2.192424</td>\n",
              "      <td>0.015923</td>\n",
              "      <td>1.333548</td>\n",
              "      <td>0.073609</td>\n",
              "      <td>0.386325</td>\n",
              "      <td>0.382843</td>\n",
              "      <td>1.808140</td>\n",
              "      <td>0.014486</td>\n",
              "      <td>1.067391</td>\n",
              "      <td>0.062889</td>\n",
              "      <td>0.312022</td>\n",
              "      <td>0.351183</td>\n",
              "    </tr>\n",
              "    <tr>\n",
              "      <th>16</th>\n",
              "      <td>2.424159</td>\n",
              "      <td>0.015704</td>\n",
              "      <td>1.512658</td>\n",
              "      <td>0.087889</td>\n",
              "      <td>0.424216</td>\n",
              "      <td>0.383501</td>\n",
              "      <td>1.783832</td>\n",
              "      <td>0.013967</td>\n",
              "      <td>1.032918</td>\n",
              "      <td>0.075706</td>\n",
              "      <td>0.311938</td>\n",
              "      <td>0.349119</td>\n",
              "    </tr>\n",
              "    <tr>\n",
              "      <th>17</th>\n",
              "      <td>2.347868</td>\n",
              "      <td>0.016249</td>\n",
              "      <td>1.445952</td>\n",
              "      <td>0.126669</td>\n",
              "      <td>0.378854</td>\n",
              "      <td>0.379939</td>\n",
              "      <td>1.760437</td>\n",
              "      <td>0.014171</td>\n",
              "      <td>1.009931</td>\n",
              "      <td>0.090638</td>\n",
              "      <td>0.296552</td>\n",
              "      <td>0.348947</td>\n",
              "    </tr>\n",
              "    <tr>\n",
              "      <th>18</th>\n",
              "      <td>2.324230</td>\n",
              "      <td>0.015004</td>\n",
              "      <td>1.452277</td>\n",
              "      <td>0.105582</td>\n",
              "      <td>0.382068</td>\n",
              "      <td>0.369080</td>\n",
              "      <td>1.798167</td>\n",
              "      <td>0.013743</td>\n",
              "      <td>1.015165</td>\n",
              "      <td>0.108201</td>\n",
              "      <td>0.309385</td>\n",
              "      <td>0.351461</td>\n",
              "    </tr>\n",
              "    <tr>\n",
              "      <th>19</th>\n",
              "      <td>2.203124</td>\n",
              "      <td>0.015490</td>\n",
              "      <td>1.350654</td>\n",
              "      <td>0.112008</td>\n",
              "      <td>0.367784</td>\n",
              "      <td>0.356957</td>\n",
              "      <td>1.699848</td>\n",
              "      <td>0.013665</td>\n",
              "      <td>0.954024</td>\n",
              "      <td>0.096193</td>\n",
              "      <td>0.290691</td>\n",
              "      <td>0.345050</td>\n",
              "    </tr>\n",
              "    <tr>\n",
              "      <th>20</th>\n",
              "      <td>2.286034</td>\n",
              "      <td>0.014900</td>\n",
              "      <td>1.387865</td>\n",
              "      <td>0.112732</td>\n",
              "      <td>0.396548</td>\n",
              "      <td>0.373744</td>\n",
              "      <td>1.723046</td>\n",
              "      <td>0.013653</td>\n",
              "      <td>0.970286</td>\n",
              "      <td>0.100558</td>\n",
              "      <td>0.291073</td>\n",
              "      <td>0.347238</td>\n",
              "    </tr>\n",
              "    <tr>\n",
              "      <th>21</th>\n",
              "      <td>2.350335</td>\n",
              "      <td>0.015904</td>\n",
              "      <td>1.580466</td>\n",
              "      <td>0.047167</td>\n",
              "      <td>0.327976</td>\n",
              "      <td>0.378562</td>\n",
              "      <td>1.679514</td>\n",
              "      <td>0.012539</td>\n",
              "      <td>0.955105</td>\n",
              "      <td>0.086679</td>\n",
              "      <td>0.283218</td>\n",
              "      <td>0.341721</td>\n",
              "    </tr>\n",
              "    <tr>\n",
              "      <th>22</th>\n",
              "      <td>2.434504</td>\n",
              "      <td>0.015241</td>\n",
              "      <td>1.587175</td>\n",
              "      <td>0.105459</td>\n",
              "      <td>0.364262</td>\n",
              "      <td>0.362092</td>\n",
              "      <td>1.657075</td>\n",
              "      <td>0.013094</td>\n",
              "      <td>0.925465</td>\n",
              "      <td>0.092071</td>\n",
              "      <td>0.284283</td>\n",
              "      <td>0.341894</td>\n",
              "    </tr>\n",
              "    <tr>\n",
              "      <th>23</th>\n",
              "      <td>2.315187</td>\n",
              "      <td>0.018251</td>\n",
              "      <td>1.421492</td>\n",
              "      <td>0.111211</td>\n",
              "      <td>0.379096</td>\n",
              "      <td>0.384850</td>\n",
              "      <td>1.604756</td>\n",
              "      <td>0.012355</td>\n",
              "      <td>0.890659</td>\n",
              "      <td>0.090288</td>\n",
              "      <td>0.272155</td>\n",
              "      <td>0.339018</td>\n",
              "    </tr>\n",
              "    <tr>\n",
              "      <th>24</th>\n",
              "      <td>2.349616</td>\n",
              "      <td>0.015619</td>\n",
              "      <td>1.461310</td>\n",
              "      <td>0.091244</td>\n",
              "      <td>0.389502</td>\n",
              "      <td>0.391642</td>\n",
              "      <td>1.587411</td>\n",
              "      <td>0.012745</td>\n",
              "      <td>0.878114</td>\n",
              "      <td>0.094012</td>\n",
              "      <td>0.267896</td>\n",
              "      <td>0.334351</td>\n",
              "    </tr>\n",
              "    <tr>\n",
              "      <th>25</th>\n",
              "      <td>2.226735</td>\n",
              "      <td>0.017781</td>\n",
              "      <td>1.388770</td>\n",
              "      <td>0.087362</td>\n",
              "      <td>0.357937</td>\n",
              "      <td>0.374574</td>\n",
              "      <td>1.569627</td>\n",
              "      <td>0.012437</td>\n",
              "      <td>0.874882</td>\n",
              "      <td>0.091322</td>\n",
              "      <td>0.259759</td>\n",
              "      <td>0.330922</td>\n",
              "    </tr>\n",
              "    <tr>\n",
              "      <th>26</th>\n",
              "      <td>2.200965</td>\n",
              "      <td>0.015687</td>\n",
              "      <td>1.324204</td>\n",
              "      <td>0.119668</td>\n",
              "      <td>0.367558</td>\n",
              "      <td>0.373530</td>\n",
              "      <td>1.485848</td>\n",
              "      <td>0.011986</td>\n",
              "      <td>0.802217</td>\n",
              "      <td>0.093549</td>\n",
              "      <td>0.245711</td>\n",
              "      <td>0.332069</td>\n",
              "    </tr>\n",
              "    <tr>\n",
              "      <th>27</th>\n",
              "      <td>2.377739</td>\n",
              "      <td>0.020106</td>\n",
              "      <td>1.518631</td>\n",
              "      <td>0.091851</td>\n",
              "      <td>0.365797</td>\n",
              "      <td>0.381023</td>\n",
              "      <td>1.506812</td>\n",
              "      <td>0.012493</td>\n",
              "      <td>0.821597</td>\n",
              "      <td>0.086599</td>\n",
              "      <td>0.253341</td>\n",
              "      <td>0.332457</td>\n",
              "    </tr>\n",
              "    <tr>\n",
              "      <th>28</th>\n",
              "      <td>2.252424</td>\n",
              "      <td>0.016873</td>\n",
              "      <td>1.364672</td>\n",
              "      <td>0.085574</td>\n",
              "      <td>0.383274</td>\n",
              "      <td>0.401693</td>\n",
              "      <td>1.491863</td>\n",
              "      <td>0.012861</td>\n",
              "      <td>0.820809</td>\n",
              "      <td>0.083374</td>\n",
              "      <td>0.245586</td>\n",
              "      <td>0.328899</td>\n",
              "    </tr>\n",
              "    <tr>\n",
              "      <th>29</th>\n",
              "      <td>2.306532</td>\n",
              "      <td>0.015854</td>\n",
              "      <td>1.455206</td>\n",
              "      <td>0.080835</td>\n",
              "      <td>0.370438</td>\n",
              "      <td>0.383850</td>\n",
              "      <td>1.439453</td>\n",
              "      <td>0.011733</td>\n",
              "      <td>0.792541</td>\n",
              "      <td>0.070632</td>\n",
              "      <td>0.238465</td>\n",
              "      <td>0.325738</td>\n",
              "    </tr>\n",
              "    <tr>\n",
              "      <th>30</th>\n",
              "      <td>2.468299</td>\n",
              "      <td>0.021217</td>\n",
              "      <td>1.544174</td>\n",
              "      <td>0.103224</td>\n",
              "      <td>0.398433</td>\n",
              "      <td>0.400892</td>\n",
              "      <td>1.447713</td>\n",
              "      <td>0.012022</td>\n",
              "      <td>0.792662</td>\n",
              "      <td>0.084594</td>\n",
              "      <td>0.235774</td>\n",
              "      <td>0.322309</td>\n",
              "    </tr>\n",
              "  </tbody>\n",
              "</table>\n",
              "</div>\n",
              "      <button class=\"colab-df-convert\" onclick=\"convertToInteractive('df-f6f8e5cb-131d-40c5-9f4d-9c8f4ee3c01b')\"\n",
              "              title=\"Convert this dataframe to an interactive table.\"\n",
              "              style=\"display:none;\">\n",
              "        \n",
              "  <svg xmlns=\"http://www.w3.org/2000/svg\" height=\"24px\"viewBox=\"0 0 24 24\"\n",
              "       width=\"24px\">\n",
              "    <path d=\"M0 0h24v24H0V0z\" fill=\"none\"/>\n",
              "    <path d=\"M18.56 5.44l.94 2.06.94-2.06 2.06-.94-2.06-.94-.94-2.06-.94 2.06-2.06.94zm-11 1L8.5 8.5l.94-2.06 2.06-.94-2.06-.94L8.5 2.5l-.94 2.06-2.06.94zm10 10l.94 2.06.94-2.06 2.06-.94-2.06-.94-.94-2.06-.94 2.06-2.06.94z\"/><path d=\"M17.41 7.96l-1.37-1.37c-.4-.4-.92-.59-1.43-.59-.52 0-1.04.2-1.43.59L10.3 9.45l-7.72 7.72c-.78.78-.78 2.05 0 2.83L4 21.41c.39.39.9.59 1.41.59.51 0 1.02-.2 1.41-.59l7.78-7.78 2.81-2.81c.8-.78.8-2.07 0-2.86zM5.41 20L4 18.59l7.72-7.72 1.47 1.35L5.41 20z\"/>\n",
              "  </svg>\n",
              "      </button>\n",
              "      \n",
              "  <style>\n",
              "    .colab-df-container {\n",
              "      display:flex;\n",
              "      flex-wrap:wrap;\n",
              "      gap: 12px;\n",
              "    }\n",
              "\n",
              "    .colab-df-convert {\n",
              "      background-color: #E8F0FE;\n",
              "      border: none;\n",
              "      border-radius: 50%;\n",
              "      cursor: pointer;\n",
              "      display: none;\n",
              "      fill: #1967D2;\n",
              "      height: 32px;\n",
              "      padding: 0 0 0 0;\n",
              "      width: 32px;\n",
              "    }\n",
              "\n",
              "    .colab-df-convert:hover {\n",
              "      background-color: #E2EBFA;\n",
              "      box-shadow: 0px 1px 2px rgba(60, 64, 67, 0.3), 0px 1px 3px 1px rgba(60, 64, 67, 0.15);\n",
              "      fill: #174EA6;\n",
              "    }\n",
              "\n",
              "    [theme=dark] .colab-df-convert {\n",
              "      background-color: #3B4455;\n",
              "      fill: #D2E3FC;\n",
              "    }\n",
              "\n",
              "    [theme=dark] .colab-df-convert:hover {\n",
              "      background-color: #434B5C;\n",
              "      box-shadow: 0px 1px 3px 1px rgba(0, 0, 0, 0.15);\n",
              "      filter: drop-shadow(0px 1px 2px rgba(0, 0, 0, 0.3));\n",
              "      fill: #FFFFFF;\n",
              "    }\n",
              "  </style>\n",
              "\n",
              "      <script>\n",
              "        const buttonEl =\n",
              "          document.querySelector('#df-f6f8e5cb-131d-40c5-9f4d-9c8f4ee3c01b button.colab-df-convert');\n",
              "        buttonEl.style.display =\n",
              "          google.colab.kernel.accessAllowed ? 'block' : 'none';\n",
              "\n",
              "        async function convertToInteractive(key) {\n",
              "          const element = document.querySelector('#df-f6f8e5cb-131d-40c5-9f4d-9c8f4ee3c01b');\n",
              "          const dataTable =\n",
              "            await google.colab.kernel.invokeFunction('convertToInteractive',\n",
              "                                                     [key], {});\n",
              "          if (!dataTable) return;\n",
              "\n",
              "          const docLinkHtml = 'Like what you see? Visit the ' +\n",
              "            '<a target=\"_blank\" href=https://colab.research.google.com/notebooks/data_table.ipynb>data table notebook</a>'\n",
              "            + ' to learn more about interactive tables.';\n",
              "          element.innerHTML = '';\n",
              "          dataTable['output_type'] = 'display_data';\n",
              "          await google.colab.output.renderOutput(dataTable, element);\n",
              "          const docLink = document.createElement('div');\n",
              "          docLink.innerHTML = docLinkHtml;\n",
              "          element.appendChild(docLink);\n",
              "        }\n",
              "      </script>\n",
              "    </div>\n",
              "  </div>\n",
              "  "
            ],
            "text/plain": [
              "    val_loss  val_rpn_class_loss  val_rpn_bbox_loss  val_mrcnn_class_loss  \\\n",
              "1   2.804431            0.020365           1.858679              0.103179   \n",
              "2   2.428801            0.017859           1.493191              0.112260   \n",
              "3   2.508002            0.019149           1.514910              0.169681   \n",
              "4   2.654683            0.015754           1.858182              0.061668   \n",
              "5   2.487793            0.015997           1.572513              0.150155   \n",
              "6   2.458826            0.016056           1.593074              0.107212   \n",
              "7   2.373546            0.021075           1.514096              0.126320   \n",
              "8   2.199738            0.016212           1.336035              0.106599   \n",
              "9   2.443413            0.016223           1.579327              0.107566   \n",
              "10  2.365930            0.015274           1.503757              0.094754   \n",
              "11  2.466875            0.014749           1.535331              0.108890   \n",
              "12  2.290372            0.018179           1.431739              0.100258   \n",
              "13  2.187525            0.016414           1.355800              0.092183   \n",
              "14  2.430047            0.017309           1.535325              0.114350   \n",
              "15  2.192424            0.015923           1.333548              0.073609   \n",
              "16  2.424159            0.015704           1.512658              0.087889   \n",
              "17  2.347868            0.016249           1.445952              0.126669   \n",
              "18  2.324230            0.015004           1.452277              0.105582   \n",
              "19  2.203124            0.015490           1.350654              0.112008   \n",
              "20  2.286034            0.014900           1.387865              0.112732   \n",
              "21  2.350335            0.015904           1.580466              0.047167   \n",
              "22  2.434504            0.015241           1.587175              0.105459   \n",
              "23  2.315187            0.018251           1.421492              0.111211   \n",
              "24  2.349616            0.015619           1.461310              0.091244   \n",
              "25  2.226735            0.017781           1.388770              0.087362   \n",
              "26  2.200965            0.015687           1.324204              0.119668   \n",
              "27  2.377739            0.020106           1.518631              0.091851   \n",
              "28  2.252424            0.016873           1.364672              0.085574   \n",
              "29  2.306532            0.015854           1.455206              0.080835   \n",
              "30  2.468299            0.021217           1.544174              0.103224   \n",
              "\n",
              "    val_mrcnn_bbox_loss  val_mrcnn_mask_loss      loss  rpn_class_loss  \\\n",
              "1              0.426183             0.396022  3.007850        0.030388   \n",
              "2              0.423963             0.381521  2.570257        0.019424   \n",
              "3              0.417077             0.387175  2.410665        0.017850   \n",
              "4              0.338010             0.381048  2.407895        0.018054   \n",
              "5              0.382069             0.367031  2.310706        0.016803   \n",
              "6              0.357685             0.384759  2.268089        0.016784   \n",
              "7              0.359694             0.352308  2.204807        0.016205   \n",
              "8              0.376551             0.364276  2.119899        0.015783   \n",
              "9              0.372354             0.367861  2.124846        0.016356   \n",
              "10             0.379536             0.372514  2.017097        0.014055   \n",
              "11             0.411369             0.396425  2.061154        0.015498   \n",
              "12             0.367765             0.372305  1.994704        0.015795   \n",
              "13             0.346140             0.376844  1.954548        0.015049   \n",
              "14             0.392375             0.370528  1.908944        0.014907   \n",
              "15             0.386325             0.382843  1.808140        0.014486   \n",
              "16             0.424216             0.383501  1.783832        0.013967   \n",
              "17             0.378854             0.379939  1.760437        0.014171   \n",
              "18             0.382068             0.369080  1.798167        0.013743   \n",
              "19             0.367784             0.356957  1.699848        0.013665   \n",
              "20             0.396548             0.373744  1.723046        0.013653   \n",
              "21             0.327976             0.378562  1.679514        0.012539   \n",
              "22             0.364262             0.362092  1.657075        0.013094   \n",
              "23             0.379096             0.384850  1.604756        0.012355   \n",
              "24             0.389502             0.391642  1.587411        0.012745   \n",
              "25             0.357937             0.374574  1.569627        0.012437   \n",
              "26             0.367558             0.373530  1.485848        0.011986   \n",
              "27             0.365797             0.381023  1.506812        0.012493   \n",
              "28             0.383274             0.401693  1.491863        0.012861   \n",
              "29             0.370438             0.383850  1.439453        0.011733   \n",
              "30             0.398433             0.400892  1.447713        0.012022   \n",
              "\n",
              "    rpn_bbox_loss  mrcnn_class_loss  mrcnn_bbox_loss  mrcnn_mask_loss  \n",
              "1        1.946372          0.126963         0.492955         0.411169  \n",
              "2        1.650436          0.105099         0.410225         0.385068  \n",
              "3        1.514076          0.104712         0.393367         0.380652  \n",
              "4        1.518827          0.120790         0.380550         0.369658  \n",
              "5        1.444659          0.111180         0.366121         0.371919  \n",
              "6        1.403385          0.114942         0.364978         0.367966  \n",
              "7        1.345911          0.121285         0.355814         0.365546  \n",
              "8        1.278727          0.113248         0.348690         0.363391  \n",
              "9        1.292490          0.109190         0.344740         0.361998  \n",
              "10       1.199900          0.095962         0.347438         0.359653  \n",
              "11       1.244816          0.109249         0.335288         0.356201  \n",
              "12       1.187017          0.101537         0.329573         0.360662  \n",
              "13       1.161573          0.094138         0.325989         0.357662  \n",
              "14       1.117773          0.105558         0.315520         0.355035  \n",
              "15       1.067391          0.062889         0.312022         0.351183  \n",
              "16       1.032918          0.075706         0.311938         0.349119  \n",
              "17       1.009931          0.090638         0.296552         0.348947  \n",
              "18       1.015165          0.108201         0.309385         0.351461  \n",
              "19       0.954024          0.096193         0.290691         0.345050  \n",
              "20       0.970286          0.100558         0.291073         0.347238  \n",
              "21       0.955105          0.086679         0.283218         0.341721  \n",
              "22       0.925465          0.092071         0.284283         0.341894  \n",
              "23       0.890659          0.090288         0.272155         0.339018  \n",
              "24       0.878114          0.094012         0.267896         0.334351  \n",
              "25       0.874882          0.091322         0.259759         0.330922  \n",
              "26       0.802217          0.093549         0.245711         0.332069  \n",
              "27       0.821597          0.086599         0.253341         0.332457  \n",
              "28       0.820809          0.083374         0.245586         0.328899  \n",
              "29       0.792541          0.070632         0.238465         0.325738  \n",
              "30       0.792662          0.084594         0.235774         0.322309  "
            ]
          },
          "execution_count": null,
          "metadata": {},
          "output_type": "execute_result"
        }
      ],
      "source": [
        "epochs = range(1,len(next(iter(history.values())))+1)\n",
        "pd.DataFrame(history, index=epochs)"
      ]
    },
    {
      "cell_type": "code",
      "execution_count": 109,
      "metadata": {
        "id": "26OgbVXoczMs",
        "colab": {
          "base_uri": "https://localhost:8080/",
          "height": 320
        },
        "outputId": "2164d208-0c3e-4875-8581-1015ab678a95"
      },
      "outputs": [
        {
          "data": {
            "image/png": "[encoded data removed]",
            "text/plain": [
              "<Figure size 1224x360 with 3 Axes>"
            ]
          },
          "metadata": {},
          "output_type": "display_data"
        }
      ],
      "source": [
        "plt.figure(figsize=(17,5))\n",
        "\n",
        "plt.subplot(131)\n",
        "plt.plot(epochs, history[\"loss\"], label=\"Train loss\")\n",
        "plt.plot(epochs, history[\"val_loss\"], label=\"Valid loss\")\n",
        "plt.legend()\n",
        "plt.subplot(132)\n",
        "plt.plot(epochs, history[\"mrcnn_class_loss\"], label=\"Train class ce\")\n",
        "plt.plot(epochs, history[\"val_mrcnn_class_loss\"], label=\"Valid class ce\")\n",
        "plt.legend()\n",
        "plt.subplot(133)\n",
        "plt.plot(epochs, history[\"mrcnn_bbox_loss\"], label=\"Train box loss\")\n",
        "plt.plot(epochs, history[\"val_mrcnn_bbox_loss\"], label=\"Valid box loss\")\n",
        "plt.legend()\n",
        "\n",
        "plt.show()"
      ]
    },
    {
      "cell_type": "code",
      "execution_count": 135,
      "metadata": {
        "id": "EPKPuWCLc4Q3",
        "colab": {
          "base_uri": "https://localhost:8080/"
        },
        "outputId": "acd71cc3-4178-434e-a420-5c5fb60cf95c"
      },
      "outputs": [
        {
          "output_type": "stream",
          "name": "stdout",
          "text": [
            "Loading weights from  /content/drive/MyDrive/Kaggle/pneumonia20220326T0527/mask_rcnn_pneumonia_0029.h5\n",
            "Re-starting from epoch 29\n"
          ]
        }
      ],
      "source": [
        "class InferenceConfig(DetectorConfig):\n",
        "    GPU_COUNT = 1\n",
        "    IMAGES_PER_GPU = 1\n",
        "\n",
        "inference_config = InferenceConfig()\n",
        "\n",
        "# Recreate the model in inference mode\n",
        "model = modellib.MaskRCNN(mode='inference', \n",
        "                          config=inference_config,\n",
        "                          model_dir=ROOT_DIR)\n",
        "\n",
        "# Load trained weights (fill in path to trained weights here)\n",
        "#model_path = model.find_last()\n",
        "model_path = \"/content/drive/MyDrive/Kaggle/pneumonia20220326T0527/mask_rcnn_pneumonia_0029.h5\"\n",
        "print(\"Loading weights from \", model_path)\n",
        "model.load_weights(model_path, by_name=True)"
      ]
    },
    {
      "cell_type": "code",
      "source": [
        "os.chdir('/content/drive/MyDrive/Kaggle')"
      ],
      "metadata": {
        "id": "_SnEjZGZDyrt"
      },
      "execution_count": 123,
      "outputs": []
    },
    {
      "cell_type": "code",
      "source": [
        "# set color for class\n",
        "def get_colors_for_class_ids(class_ids):\n",
        "    colors = []\n",
        "    for class_id in class_ids:\n",
        "        if class_id == 1:\n",
        "            colors.append((.941, .204, .204))\n",
        "    return colors\n"
      ],
      "metadata": {
        "id": "2tXVpzKXYwqA"
      },
      "execution_count": 112,
      "outputs": []
    },
    {
      "cell_type": "code",
      "source": [
        "dataset = dataset_val\n",
        "fig = plt.figure(figsize=(10, 30))\n",
        "\n",
        "for i in range(24):\n",
        "\n",
        "    image_id = random.choice(dataset.image_ids)\n",
        "    \n",
        "    original_image, image_meta, gt_class_id, gt_bbox, gt_mask =\\\n",
        "        modellib.load_image_gt(dataset_val, inference_config, \n",
        "                               image_id, use_mini_mask=False)\n",
        "    \n",
        "    print(original_image.shape)\n",
        "    plt.subplot(24, 2, 2*i + 1)\n",
        "    visualize.display_instances(original_image, gt_bbox, gt_mask, gt_class_id, \n",
        "                                dataset.class_names,\n",
        "                                colors=get_colors_for_class_ids(gt_class_id), ax=fig.axes[-1])\n",
        "    \n",
        "    plt.subplot(24, 2, 2*i + 2)\n",
        "    results = model.detect([original_image]) #, verbose=1)\n",
        "    r = results[0]\n",
        "    visualize.display_instances(original_image, r['rois'], r['masks'], r['class_ids'], \n",
        "                                dataset.class_names, r['scores'], \n",
        "                                colors=get_colors_for_class_ids(r['class_ids']), ax=fig.axes[-1])"
      ],
      "metadata": {
        "id": "PoLYJyHKZ_oH",
        "colab": {
          "base_uri": "https://localhost:8080/",
          "height": 1000
        },
        "outputId": "cf325767-b823-4fe0-8511-a0e7f7f04399"
      },
      "execution_count": 136,
      "outputs": [
        {
          "output_type": "stream",
          "name": "stdout",
          "text": [
            "(256, 256, 3)\n",
            "(256, 256, 3)\n",
            "\n",
            "*** No instances to display *** \n",
            "\n",
            "(256, 256, 3)\n",
            "\n",
            "*** No instances to display *** \n",
            "\n",
            "(256, 256, 3)\n",
            "\n",
            "*** No instances to display *** \n",
            "\n",
            "(256, 256, 3)\n",
            "\n",
            "*** No instances to display *** \n",
            "\n",
            "(256, 256, 3)\n",
            "\n",
            "*** No instances to display *** \n",
            "\n",
            "(256, 256, 3)\n",
            "\n",
            "*** No instances to display *** \n",
            "\n",
            "(256, 256, 3)\n",
            "\n",
            "*** No instances to display *** \n",
            "\n",
            "(256, 256, 3)\n",
            "(256, 256, 3)\n",
            "\n",
            "*** No instances to display *** \n",
            "\n",
            "(256, 256, 3)\n",
            "(256, 256, 3)\n",
            "\n",
            "*** No instances to display *** \n",
            "\n",
            "(256, 256, 3)\n",
            "\n",
            "*** No instances to display *** \n",
            "\n",
            "(256, 256, 3)\n",
            "\n",
            "*** No instances to display *** \n",
            "\n",
            "(256, 256, 3)\n",
            "(256, 256, 3)\n",
            "\n",
            "*** No instances to display *** \n",
            "\n",
            "(256, 256, 3)\n",
            "\n",
            "*** No instances to display *** \n",
            "\n",
            "(256, 256, 3)\n",
            "\n",
            "*** No instances to display *** \n",
            "\n",
            "(256, 256, 3)\n",
            "\n",
            "*** No instances to display *** \n",
            "\n",
            "(256, 256, 3)\n",
            "\n",
            "*** No instances to display *** \n",
            "\n",
            "(256, 256, 3)\n",
            "\n",
            "*** No instances to display *** \n",
            "\n",
            "(256, 256, 3)\n",
            "(256, 256, 3)\n",
            "(256, 256, 3)\n"
          ]
        },
        {
          "output_type": "display_data",
          "data": {
            "text/plain": [
              "<Figure size 720x2160 with 48 Axes>"
            ],
            "image/png": "[encoded data removed]"
          },
          "metadata": {
            "needs_background": "light"
          }
        }
      ]
    },
    {
      "cell_type": "code",
      "source": [
        "##Evaluation\n",
        "\n",
        "# Compute VOC-Style mAP @ IoU=0.5\n",
        "# Running on 10 images. Increase for better accuracy.\n",
        "image_ids = np.random.choice(dataset_val.image_ids, 10)\n",
        "APs = []\n",
        "for image_id in image_ids:\n",
        "    # Load image and ground truth data\n",
        "    image, image_meta, gt_class_id, gt_bbox, gt_mask =\\\n",
        "        modellib.load_image_gt(dataset_val, inference_config,\n",
        "                               image_id, use_mini_mask=False)\n",
        "    molded_images = np.expand_dims(modellib.mold_image(image, inference_config), 0)\n",
        "    # Run object detection\n",
        "    results = model.detect([image], verbose=0)\n",
        "    r = results[0]\n",
        "    # Compute AP\n",
        "    AP, precisions, recalls, overlaps =\\\n",
        "        utils.compute_ap(gt_bbox, gt_class_id, gt_mask,\n",
        "                         r[\"rois\"], r[\"class_ids\"], r[\"scores\"], r['masks'])\n",
        "    APs.append(AP)\n",
        "    \n",
        "print(\"mAP: \", np.mean(APs))"
      ],
      "metadata": {
        "colab": {
          "base_uri": "https://localhost:8080/"
        },
        "id": "b52ggnJa0Yal",
        "outputId": "4fc7a598-90ab-4329-89ad-7708a6e79c62"
      },
      "execution_count": 131,
      "outputs": [
        {
          "output_type": "stream",
          "name": "stdout",
          "text": [
            "mAP:  nan\n"
          ]
        }
      ]
    },
    {
      "cell_type": "code",
      "source": [
        "# Show stats of all trainable weights    \n",
        "visualize.display_weight_stats(model)"
      ],
      "metadata": {
        "colab": {
          "base_uri": "https://localhost:8080/",
          "height": 1000
        },
        "id": "5B7CSdal0p93",
        "outputId": "c1e93980-ee31-440e-adda-51c2a9c88fc6"
      },
      "execution_count": 120,
      "outputs": [
        {
          "output_type": "display_data",
          "data": {
            "text/plain": [
              "<IPython.core.display.HTML object>"
            ],
            "text/html": [
              "<table><tr><td>WEIGHT NAME                             </td><td>SHAPE                                   </td><td>MIN                                     </td><td>MAX                                     </td><td>STD                                     </td></tr><tr><td>conv1_3/kernel:0                        </td><td>(7, 7, 3, 64)                           </td><td>  -0.8616                               </td><td>   +0.8451                              </td><td>  +0.1315                               </td></tr><tr><td>conv1_3/bias:0                          </td><td>(64,)                                   </td><td>  -0.0002                               </td><td>   +0.0004                              </td><td>  +0.0001                               </td></tr><tr><td>bn_conv1_3/gamma:0                      </td><td>(64,)                                   </td><td>  +0.0835                               </td><td>   +2.6411                              </td><td>  +0.5091                               </td></tr><tr><td>bn_conv1_3/beta:0                       </td><td>(64,)                                   </td><td>  -2.3931                               </td><td>   +5.3610                              </td><td>  +1.9781                               </td></tr><tr><td>bn_conv1_3/moving_mean:0                </td><td>(64,)                                   </td><td>-173.0470                               </td><td> +116.3013                              </td><td> +44.5654                               </td></tr><tr><td>bn_conv1_3/moving_variance:0<span style='color:red'>*** Overflow?</span></td><td>(64,)                                   </td><td>  +0.0000                               </td><td>+146335.3594                            </td><td>+21847.9668                             </td></tr><tr><td>res2a_branch2a_3/kernel:0               </td><td>(1, 1, 64, 64)                          </td><td>  -0.6574                               </td><td>   +0.3179                              </td><td>  +0.0764                               </td></tr><tr><td>res2a_branch2a_3/bias:0                 </td><td>(64,)                                   </td><td>  -0.0022                               </td><td>   +0.0082                              </td><td>  +0.0018                               </td></tr><tr><td>bn2a_branch2a_3/gamma:0                 </td><td>(64,)                                   </td><td>  +0.2169                               </td><td>   +1.8489                              </td><td>  +0.4116                               </td></tr><tr><td>bn2a_branch2a_3/beta:0                  </td><td>(64,)                                   </td><td>  -2.1180                               </td><td>   +3.7332                              </td><td>  +1.1786                               </td></tr><tr><td>bn2a_branch2a_3/moving_mean:0           </td><td>(64,)                                   </td><td>  -6.1235                               </td><td>   +7.2220                              </td><td>  +2.2789                               </td></tr><tr><td>bn2a_branch2a_3/moving_variance:0       </td><td>(64,)                                   </td><td>  +0.0000                               </td><td>   +8.9258                              </td><td>  +2.0314                               </td></tr><tr><td>res2a_branch2b_3/kernel:0               </td><td>(3, 3, 64, 64)                          </td><td>  -0.3878                               </td><td>   +0.5070                              </td><td>  +0.0323                               </td></tr><tr><td>res2a_branch2b_3/bias:0                 </td><td>(64,)                                   </td><td>  -0.0037                               </td><td>   +0.0026                              </td><td>  +0.0010                               </td></tr><tr><td>bn2a_branch2b_3/gamma:0                 </td><td>(64,)                                   </td><td>  +0.3165                               </td><td>   +1.7010                              </td><td>  +0.3042                               </td></tr><tr><td>bn2a_branch2b_3/beta:0                  </td><td>(64,)                                   </td><td>  -1.9348                               </td><td>   +4.5429                              </td><td>  +1.5113                               </td></tr><tr><td>bn2a_branch2b_3/moving_mean:0           </td><td>(64,)                                   </td><td>  -6.7752                               </td><td>   +4.5769                              </td><td>  +2.2594                               </td></tr><tr><td>bn2a_branch2b_3/moving_variance:0       </td><td>(64,)                                   </td><td>  +0.0000                               </td><td>   +5.5085                              </td><td>  +1.0835                               </td></tr><tr><td>res2a_branch2c_3/kernel:0               </td><td>(1, 1, 64, 256)                         </td><td>  -0.4468                               </td><td>   +0.3615                              </td><td>  +0.0410                               </td></tr><tr><td>res2a_branch2c_3/bias:0                 </td><td>(256,)                                  </td><td>  -0.0041                               </td><td>   +0.0052                              </td><td>  +0.0016                               </td></tr><tr><td>res2a_branch1_3/kernel:0                </td><td>(1, 1, 64, 256)                         </td><td>  -0.8674                               </td><td>   +0.7588                              </td><td>  +0.0703                               </td></tr><tr><td>res2a_branch1_3/bias:0                  </td><td>(256,)                                  </td><td>  -0.0034                               </td><td>   +0.0025                              </td><td>  +0.0009                               </td></tr><tr><td>bn2a_branch2c_3/gamma:0                 </td><td>(256,)                                  </td><td>  -0.5782                               </td><td>   +3.1806                              </td><td>  +0.6192                               </td></tr><tr><td>bn2a_branch2c_3/beta:0                  </td><td>(256,)                                  </td><td>  -1.1422                               </td><td>   +1.4273                              </td><td>  +0.4229                               </td></tr><tr><td>bn2a_branch2c_3/moving_mean:0           </td><td>(256,)                                  </td><td>  -4.2602                               </td><td>   +3.0864                              </td><td>  +1.0168                               </td></tr><tr><td>bn2a_branch2c_3/moving_variance:0       </td><td>(256,)                                  </td><td>  +0.0000                               </td><td>   +2.6688                              </td><td>  +0.3827                               </td></tr><tr><td>bn2a_branch1_3/gamma:0                  </td><td>(256,)                                  </td><td>  +0.2411                               </td><td>   +3.4973                              </td><td>  +0.6241                               </td></tr><tr><td>bn2a_branch1_3/beta:0                   </td><td>(256,)                                  </td><td>  -1.1422                               </td><td>   +1.4274                              </td><td>  +0.4229                               </td></tr><tr><td>bn2a_branch1_3/moving_mean:0            </td><td>(256,)                                  </td><td>  -8.0883                               </td><td>   +8.6554                              </td><td>  +2.0289                               </td></tr><tr><td>bn2a_branch1_3/moving_variance:0        </td><td>(256,)                                  </td><td>  +0.0000                               </td><td>   +8.7306                              </td><td>  +1.5526                               </td></tr><tr><td>res2b_branch2a_3/kernel:0               </td><td>(1, 1, 256, 64)                         </td><td>  -0.2536                               </td><td>   +0.2319                              </td><td>  +0.0358                               </td></tr><tr><td>res2b_branch2a_3/bias:0                 </td><td>(64,)                                   </td><td>  -0.0027                               </td><td>   +0.0028                              </td><td>  +0.0012                               </td></tr><tr><td>bn2b_branch2a_3/gamma:0                 </td><td>(64,)                                   </td><td>  +0.2032                               </td><td>   +1.7708                              </td><td>  +0.3812                               </td></tr><tr><td>bn2b_branch2a_3/beta:0                  </td><td>(64,)                                   </td><td>  -2.0546                               </td><td>   +1.6670                              </td><td>  +0.8851                               </td></tr><tr><td>bn2b_branch2a_3/moving_mean:0           </td><td>(64,)                                   </td><td>  -1.5484                               </td><td>   +1.7334                              </td><td>  +0.7177                               </td></tr><tr><td>bn2b_branch2a_3/moving_variance:0       </td><td>(64,)                                   </td><td>  +0.0000                               </td><td>   +2.7921                              </td><td>  +0.7575                               </td></tr><tr><td>res2b_branch2b_3/kernel:0               </td><td>(3, 3, 64, 64)                          </td><td>  -0.5226                               </td><td>   +0.3397                              </td><td>  +0.0356                               </td></tr><tr><td>res2b_branch2b_3/bias:0                 </td><td>(64,)                                   </td><td>  -0.0047                               </td><td>   +0.0033                              </td><td>  +0.0015                               </td></tr><tr><td>bn2b_branch2b_3/gamma:0                 </td><td>(64,)                                   </td><td>  +0.5213                               </td><td>   +1.4725                              </td><td>  +0.2252                               </td></tr><tr><td>bn2b_branch2b_3/beta:0                  </td><td>(64,)                                   </td><td>  -2.4533                               </td><td>   +2.7526                              </td><td>  +1.1960                               </td></tr><tr><td>bn2b_branch2b_3/moving_mean:0           </td><td>(64,)                                   </td><td>  -1.8186                               </td><td>   +0.8886                              </td><td>  +0.5529                               </td></tr><tr><td>bn2b_branch2b_3/moving_variance:0       </td><td>(64,)                                   </td><td>  +0.0808                               </td><td>   +1.1064                              </td><td>  +0.2187                               </td></tr><tr><td>res2b_branch2c_3/kernel:0               </td><td>(1, 1, 64, 256)                         </td><td>  -0.3382                               </td><td>   +0.3298                              </td><td>  +0.0415                               </td></tr><tr><td>res2b_branch2c_3/bias:0                 </td><td>(256,)                                  </td><td>  -0.0075                               </td><td>   +0.0103                              </td><td>  +0.0020                               </td></tr><tr><td>bn2b_branch2c_3/gamma:0                 </td><td>(256,)                                  </td><td>  -0.0363                               </td><td>   +1.7920                              </td><td>  +0.4227                               </td></tr><tr><td>bn2b_branch2c_3/beta:0                  </td><td>(256,)                                  </td><td>  -1.2938                               </td><td>   +0.9636                              </td><td>  +0.3430                               </td></tr><tr><td>bn2b_branch2c_3/moving_mean:0           </td><td>(256,)                                  </td><td>  -2.4192                               </td><td>   +2.0440                              </td><td>  +0.5019                               </td></tr><tr><td>bn2b_branch2c_3/moving_variance:0       </td><td>(256,)                                  </td><td>  +0.0000                               </td><td>   +0.1844                              </td><td>  +0.0315                               </td></tr><tr><td>res2c_branch2a_3/kernel:0               </td><td>(1, 1, 256, 64)                         </td><td>  -0.3012                               </td><td>   +0.2199                              </td><td>  +0.0415                               </td></tr><tr><td>res2c_branch2a_3/bias:0                 </td><td>(64,)                                   </td><td>  -0.0009                               </td><td>   +0.0024                              </td><td>  +0.0008                               </td></tr><tr><td>bn2c_branch2a_3/gamma:0                 </td><td>(64,)                                   </td><td>  +0.2659                               </td><td>   +1.8204                              </td><td>  +0.2834                               </td></tr><tr><td>bn2c_branch2a_3/beta:0                  </td><td>(64,)                                   </td><td>  -2.0168                               </td><td>   +0.8445                              </td><td>  +0.7879                               </td></tr><tr><td>bn2c_branch2a_3/moving_mean:0           </td><td>(64,)                                   </td><td>  -4.5208                               </td><td>   +1.6091                              </td><td>  +1.2391                               </td></tr><tr><td>bn2c_branch2a_3/moving_variance:0       </td><td>(64,)                                   </td><td>  +0.0000                               </td><td>   +3.4581                              </td><td>  +0.7942                               </td></tr><tr><td>res2c_branch2b_3/kernel:0               </td><td>(3, 3, 64, 64)                          </td><td>  -0.2007                               </td><td>   +0.2176                              </td><td>  +0.0378                               </td></tr><tr><td>res2c_branch2b_3/bias:0                 </td><td>(64,)                                   </td><td>  -0.0030                               </td><td>   +0.0058                              </td><td>  +0.0018                               </td></tr><tr><td>bn2c_branch2b_3/gamma:0                 </td><td>(64,)                                   </td><td>  +0.6267                               </td><td>   +1.5415                              </td><td>  +0.2137                               </td></tr><tr><td>bn2c_branch2b_3/beta:0                  </td><td>(64,)                                   </td><td>  -2.4090                               </td><td>   +1.8192                              </td><td>  +0.6302                               </td></tr><tr><td>bn2c_branch2b_3/moving_mean:0           </td><td>(64,)                                   </td><td>  -1.4737                               </td><td>   +0.0594                              </td><td>  +0.2559                               </td></tr><tr><td>bn2c_branch2b_3/moving_variance:0       </td><td>(64,)                                   </td><td>  +0.2314                               </td><td>   +2.1085                              </td><td>  +0.3072                               </td></tr><tr><td>res2c_branch2c_3/kernel:0               </td><td>(1, 1, 64, 256)                         </td><td>  -0.2935                               </td><td>   +0.2596                              </td><td>  +0.0434                               </td></tr><tr><td>res2c_branch2c_3/bias:0                 </td><td>(256,)                                  </td><td>  -0.0041                               </td><td>   +0.0184                              </td><td>  +0.0029                               </td></tr><tr><td>bn2c_branch2c_3/gamma:0                 </td><td>(256,)                                  </td><td>  -0.0217                               </td><td>   +2.3695                              </td><td>  +0.5250                               </td></tr><tr><td>bn2c_branch2c_3/beta:0                  </td><td>(256,)                                  </td><td>  -1.6829                               </td><td>   +1.0992                              </td><td>  +0.4280                               </td></tr><tr><td>bn2c_branch2c_3/moving_mean:0           </td><td>(256,)                                  </td><td>  -1.2568                               </td><td>   +0.7135                              </td><td>  +0.2851                               </td></tr><tr><td>bn2c_branch2c_3/moving_variance:0       </td><td>(256,)                                  </td><td>  +0.0010                               </td><td>   +0.5712                              </td><td>  +0.0975                               </td></tr><tr><td>res3a_branch2a_3/kernel:0               </td><td>(1, 1, 256, 128)                        </td><td>  -0.4997                               </td><td>   +0.6191                              </td><td>  +0.0305                               </td></tr><tr><td>res3a_branch2a_3/bias:0                 </td><td>(128,)                                  </td><td>  -0.0025                               </td><td>   +0.0020                              </td><td>  +0.0009                               </td></tr><tr><td>bn3a_branch2a_3/gamma:0                 </td><td>(128,)                                  </td><td>  +0.4899                               </td><td>   +1.3306                              </td><td>  +0.1884                               </td></tr><tr><td>bn3a_branch2a_3/beta:0                  </td><td>(128,)                                  </td><td>  -1.8391                               </td><td>   +2.5643                              </td><td>  +0.7573                               </td></tr><tr><td>bn3a_branch2a_3/moving_mean:0           </td><td>(128,)                                  </td><td>  -4.0452                               </td><td>   +1.7707                              </td><td>  +0.8690                               </td></tr><tr><td>bn3a_branch2a_3/moving_variance:0       </td><td>(128,)                                  </td><td>  +0.0620                               </td><td>   +7.9964                              </td><td>  +1.2851                               </td></tr><tr><td>res3a_branch2b_3/kernel:0               </td><td>(3, 3, 128, 128)                        </td><td>  -0.3225                               </td><td>   +0.4509                              </td><td>  +0.0223                               </td></tr><tr><td>res3a_branch2b_3/bias:0                 </td><td>(128,)                                  </td><td>  -0.0011                               </td><td>   +0.0019                              </td><td>  +0.0006                               </td></tr><tr><td>bn3a_branch2b_3/gamma:0                 </td><td>(128,)                                  </td><td>  +0.4666                               </td><td>   +1.8240                              </td><td>  +0.2182                               </td></tr><tr><td>bn3a_branch2b_3/beta:0                  </td><td>(128,)                                  </td><td>  -1.9434                               </td><td>   +1.8963                              </td><td>  +0.7859                               </td></tr><tr><td>bn3a_branch2b_3/moving_mean:0           </td><td>(128,)                                  </td><td>  -5.8993                               </td><td>   +3.3426                              </td><td>  +2.0065                               </td></tr><tr><td>bn3a_branch2b_3/moving_variance:0       </td><td>(128,)                                  </td><td>  +0.0001                               </td><td>   +6.9908                              </td><td>  +0.9404                               </td></tr><tr><td>res3a_branch2c_3/kernel:0               </td><td>(1, 1, 128, 512)                        </td><td>  -0.4949                               </td><td>   +0.3345                              </td><td>  +0.0283                               </td></tr><tr><td>res3a_branch2c_3/bias:0                 </td><td>(512,)                                  </td><td>  -0.0063                               </td><td>   +0.0078                              </td><td>  +0.0013                               </td></tr><tr><td>res3a_branch1_3/kernel:0                </td><td>(1, 1, 256, 512)                        </td><td>  -0.4556                               </td><td>   +0.6877                              </td><td>  +0.0290                               </td></tr><tr><td>res3a_branch1_3/bias:0                  </td><td>(512,)                                  </td><td>  -0.0055                               </td><td>   +0.0039                              </td><td>  +0.0008                               </td></tr><tr><td>bn3a_branch2c_3/gamma:0                 </td><td>(512,)                                  </td><td>  -0.0039                               </td><td>   +3.7005                              </td><td>  +0.6168                               </td></tr><tr><td>bn3a_branch2c_3/beta:0                  </td><td>(512,)                                  </td><td>  -0.9616                               </td><td>   +1.4438                              </td><td>  +0.3693                               </td></tr><tr><td>bn3a_branch2c_3/moving_mean:0           </td><td>(512,)                                  </td><td>  -1.6188                               </td><td>   +1.3639                              </td><td>  +0.3736                               </td></tr><tr><td>bn3a_branch2c_3/moving_variance:0       </td><td>(512,)                                  </td><td>  +0.0002                               </td><td>   +0.9085                              </td><td>  +0.1065                               </td></tr><tr><td>bn3a_branch1_3/gamma:0                  </td><td>(512,)                                  </td><td>  -0.0158                               </td><td>   +2.6945                              </td><td>  +0.4766                               </td></tr><tr><td>bn3a_branch1_3/beta:0                   </td><td>(512,)                                  </td><td>  -0.9616                               </td><td>   +1.4437                              </td><td>  +0.3693                               </td></tr><tr><td>bn3a_branch1_3/moving_mean:0            </td><td>(512,)                                  </td><td>  -3.5990                               </td><td>   +2.8529                              </td><td>  +0.7936                               </td></tr><tr><td>bn3a_branch1_3/moving_variance:0        </td><td>(512,)                                  </td><td>  +0.0030                               </td><td>   +6.5634                              </td><td>  +0.6189                               </td></tr><tr><td>res3b_branch2a_3/kernel:0               </td><td>(1, 1, 512, 128)                        </td><td>  -0.2015                               </td><td>   +0.1914                              </td><td>  +0.0252                               </td></tr><tr><td>res3b_branch2a_3/bias:0                 </td><td>(128,)                                  </td><td>  -0.0015                               </td><td>   +0.0020                              </td><td>  +0.0008                               </td></tr><tr><td>bn3b_branch2a_3/gamma:0                 </td><td>(128,)                                  </td><td>  +0.5928                               </td><td>   +1.5316                              </td><td>  +0.1783                               </td></tr><tr><td>bn3b_branch2a_3/beta:0                  </td><td>(128,)                                  </td><td>  -3.9542                               </td><td>   +0.6799                              </td><td>  +0.6433                               </td></tr><tr><td>bn3b_branch2a_3/moving_mean:0           </td><td>(128,)                                  </td><td>  -2.6765                               </td><td>   +1.1148                              </td><td>  +0.6228                               </td></tr><tr><td>bn3b_branch2a_3/moving_variance:0       </td><td>(128,)                                  </td><td>  +0.2431                               </td><td>   +3.5601                              </td><td>  +0.5766                               </td></tr><tr><td>res3b_branch2b_3/kernel:0               </td><td>(3, 3, 128, 128)                        </td><td>  -0.2265                               </td><td>   +0.2805                              </td><td>  +0.0240                               </td></tr><tr><td>res3b_branch2b_3/bias:0                 </td><td>(128,)                                  </td><td>  -0.0027                               </td><td>   +0.0051                              </td><td>  +0.0013                               </td></tr><tr><td>bn3b_branch2b_3/gamma:0                 </td><td>(128,)                                  </td><td>  +0.4900                               </td><td>   +1.4915                              </td><td>  +0.2334                               </td></tr><tr><td>bn3b_branch2b_3/beta:0                  </td><td>(128,)                                  </td><td>  -2.4206                               </td><td>   +1.4218                              </td><td>  +0.6774                               </td></tr><tr><td>bn3b_branch2b_3/moving_mean:0           </td><td>(128,)                                  </td><td>  -2.1795                               </td><td>   +1.2802                              </td><td>  +0.4907                               </td></tr><tr><td>bn3b_branch2b_3/moving_variance:0       </td><td>(128,)                                  </td><td>  +0.0892                               </td><td>   +1.4424                              </td><td>  +0.2128                               </td></tr><tr><td>res3b_branch2c_3/kernel:0               </td><td>(1, 1, 128, 512)                        </td><td>  -0.3113                               </td><td>   +0.4752                              </td><td>  +0.0289                               </td></tr><tr><td>res3b_branch2c_3/bias:0                 </td><td>(512,)                                  </td><td>  -0.0061                               </td><td>   +0.0141                              </td><td>  +0.0020                               </td></tr><tr><td>bn3b_branch2c_3/gamma:0                 </td><td>(512,)                                  </td><td>  -0.0431                               </td><td>   +2.0087                              </td><td>  +0.4044                               </td></tr><tr><td>bn3b_branch2c_3/beta:0                  </td><td>(512,)                                  </td><td>  -1.5772                               </td><td>   +1.1600                              </td><td>  +0.3742                               </td></tr><tr><td>bn3b_branch2c_3/moving_mean:0           </td><td>(512,)                                  </td><td>  -1.0651                               </td><td>   +0.6899                              </td><td>  +0.2256                               </td></tr><tr><td>bn3b_branch2c_3/moving_variance:0       </td><td>(512,)                                  </td><td>  +0.0002                               </td><td>   +0.1858                              </td><td>  +0.0288                               </td></tr><tr><td>res3c_branch2a_3/kernel:0               </td><td>(1, 1, 512, 128)                        </td><td>  -0.2672                               </td><td>   +0.2625                              </td><td>  +0.0284                               </td></tr><tr><td>res3c_branch2a_3/bias:0                 </td><td>(128,)                                  </td><td>  -0.0017                               </td><td>   +0.0035                              </td><td>  +0.0008                               </td></tr><tr><td>bn3c_branch2a_3/gamma:0                 </td><td>(128,)                                  </td><td>  +0.5933                               </td><td>   +1.4906                              </td><td>  +0.1891                               </td></tr><tr><td>bn3c_branch2a_3/beta:0                  </td><td>(128,)                                  </td><td>  -2.8070                               </td><td>   +0.7289                              </td><td>  +0.5408                               </td></tr><tr><td>bn3c_branch2a_3/moving_mean:0           </td><td>(128,)                                  </td><td>  -3.0308                               </td><td>   +1.6105                              </td><td>  +0.8393                               </td></tr><tr><td>bn3c_branch2a_3/moving_variance:0       </td><td>(128,)                                  </td><td>  +0.2414                               </td><td>   +4.0907                              </td><td>  +0.8334                               </td></tr><tr><td>res3c_branch2b_3/kernel:0               </td><td>(3, 3, 128, 128)                        </td><td>  -0.2250                               </td><td>   +0.2017                              </td><td>  +0.0233                               </td></tr><tr><td>res3c_branch2b_3/bias:0                 </td><td>(128,)                                  </td><td>  -0.0055                               </td><td>   +0.0081                              </td><td>  +0.0022                               </td></tr><tr><td>bn3c_branch2b_3/gamma:0                 </td><td>(128,)                                  </td><td>  +0.4480                               </td><td>   +1.5784                              </td><td>  +0.2838                               </td></tr><tr><td>bn3c_branch2b_3/beta:0                  </td><td>(128,)                                  </td><td>  -1.4159                               </td><td>   +1.3200                              </td><td>  +0.5555                               </td></tr><tr><td>bn3c_branch2b_3/moving_mean:0           </td><td>(128,)                                  </td><td>  -1.0064                               </td><td>   +0.5542                              </td><td>  +0.2663                               </td></tr><tr><td>bn3c_branch2b_3/moving_variance:0       </td><td>(128,)                                  </td><td>  +0.1152                               </td><td>   +0.8630                              </td><td>  +0.1393                               </td></tr><tr><td>res3c_branch2c_3/kernel:0               </td><td>(1, 1, 128, 512)                        </td><td>  -0.3069                               </td><td>   +0.3883                              </td><td>  +0.0264                               </td></tr><tr><td>res3c_branch2c_3/bias:0                 </td><td>(512,)                                  </td><td>  -0.0075                               </td><td>   +0.0120                              </td><td>  +0.0020                               </td></tr><tr><td>bn3c_branch2c_3/gamma:0                 </td><td>(512,)                                  </td><td>  -0.0409                               </td><td>   +1.8960                              </td><td>  +0.3768                               </td></tr><tr><td>bn3c_branch2c_3/beta:0                  </td><td>(512,)                                  </td><td>  -1.5428                               </td><td>   +0.8270                              </td><td>  +0.3608                               </td></tr><tr><td>bn3c_branch2c_3/moving_mean:0           </td><td>(512,)                                  </td><td>  -0.8480                               </td><td>   +0.7275                              </td><td>  +0.1809                               </td></tr><tr><td>bn3c_branch2c_3/moving_variance:0       </td><td>(512,)                                  </td><td>  +0.0002                               </td><td>   +0.1614                              </td><td>  +0.0254                               </td></tr><tr><td>res3d_branch2a_3/kernel:0               </td><td>(1, 1, 512, 128)                        </td><td>  -0.2583                               </td><td>   +0.2893                              </td><td>  +0.0306                               </td></tr><tr><td>res3d_branch2a_3/bias:0                 </td><td>(128,)                                  </td><td>  -0.0014                               </td><td>   +0.0018                              </td><td>  +0.0007                               </td></tr><tr><td>bn3d_branch2a_3/gamma:0                 </td><td>(128,)                                  </td><td>  +0.6395                               </td><td>   +1.4617                              </td><td>  +0.1923                               </td></tr><tr><td>bn3d_branch2a_3/beta:0                  </td><td>(128,)                                  </td><td>  -2.9768                               </td><td>   +0.6138                              </td><td>  +0.6397                               </td></tr><tr><td>bn3d_branch2a_3/moving_mean:0           </td><td>(128,)                                  </td><td>  -3.4373                               </td><td>   +2.0843                              </td><td>  +0.9585                               </td></tr><tr><td>bn3d_branch2a_3/moving_variance:0       </td><td>(128,)                                  </td><td>  +0.0032                               </td><td>   +3.2415                              </td><td>  +0.5276                               </td></tr><tr><td>res3d_branch2b_3/kernel:0               </td><td>(3, 3, 128, 128)                        </td><td>  -0.1592                               </td><td>   +0.2480                              </td><td>  +0.0237                               </td></tr><tr><td>res3d_branch2b_3/bias:0                 </td><td>(128,)                                  </td><td>  -0.0025                               </td><td>   +0.0062                              </td><td>  +0.0017                               </td></tr><tr><td>bn3d_branch2b_3/gamma:0                 </td><td>(128,)                                  </td><td>  +0.6485                               </td><td>   +3.2665                              </td><td>  +0.2892                               </td></tr><tr><td>bn3d_branch2b_3/beta:0                  </td><td>(128,)                                  </td><td>  -1.6517                               </td><td>   +1.5628                              </td><td>  +0.5605                               </td></tr><tr><td>bn3d_branch2b_3/moving_mean:0           </td><td>(128,)                                  </td><td>  -0.9797                               </td><td>   +0.3526                              </td><td>  +0.2822                               </td></tr><tr><td>bn3d_branch2b_3/moving_variance:0       </td><td>(128,)                                  </td><td>  +0.2176                               </td><td>   +1.4907                              </td><td>  +0.1816                               </td></tr><tr><td>res3d_branch2c_3/kernel:0               </td><td>(1, 1, 128, 512)                        </td><td>  -0.2404                               </td><td>   +0.3462                              </td><td>  +0.0271                               </td></tr><tr><td>res3d_branch2c_3/bias:0                 </td><td>(512,)                                  </td><td>  -0.0042                               </td><td>   +0.0048                              </td><td>  +0.0015                               </td></tr><tr><td>bn3d_branch2c_3/gamma:0                 </td><td>(512,)                                  </td><td>  -0.0272                               </td><td>   +1.9218                              </td><td>  +0.5163                               </td></tr><tr><td>bn3d_branch2c_3/beta:0                  </td><td>(512,)                                  </td><td>  -1.0555                               </td><td>   +0.9748                              </td><td>  +0.2711                               </td></tr><tr><td>bn3d_branch2c_3/moving_mean:0           </td><td>(512,)                                  </td><td>  -1.1079                               </td><td>   +0.4287                              </td><td>  +0.2314                               </td></tr><tr><td>bn3d_branch2c_3/moving_variance:0       </td><td>(512,)                                  </td><td>  +0.0002                               </td><td>   +0.3496                              </td><td>  +0.0543                               </td></tr><tr><td>res4a_branch2a_3/kernel:0               </td><td>(1, 1, 512, 256)                        </td><td>  -0.2763                               </td><td>   +0.2629                              </td><td>  +0.0150                               </td></tr><tr><td>res4a_branch2a_3/bias:0                 </td><td>(256,)                                  </td><td>  -0.0012                               </td><td>   +0.0013                              </td><td>  +0.0004                               </td></tr><tr><td>bn4a_branch2a_3/gamma:0                 </td><td>(256,)                                  </td><td>  +0.4785                               </td><td>   +1.4612                              </td><td>  +0.1493                               </td></tr><tr><td>bn4a_branch2a_3/beta:0                  </td><td>(256,)                                  </td><td>  -1.9415                               </td><td>   +1.1200                              </td><td>  +0.3882                               </td></tr><tr><td>bn4a_branch2a_3/moving_mean:0           </td><td>(256,)                                  </td><td>  -3.8936                               </td><td>   +1.1756                              </td><td>  +0.6395                               </td></tr><tr><td>bn4a_branch2a_3/moving_variance:0       </td><td>(256,)                                  </td><td>  +0.0515                               </td><td>   +2.6553                              </td><td>  +0.2808                               </td></tr><tr><td>res4a_branch2b_3/kernel:0               </td><td>(3, 3, 256, 256)                        </td><td>  -0.1716                               </td><td>   +0.1965                              </td><td>  +0.0106                               </td></tr><tr><td>res4a_branch2b_3/bias:0                 </td><td>(256,)                                  </td><td>  -0.0033                               </td><td>   +0.0037                              </td><td>  +0.0007                               </td></tr><tr><td>bn4a_branch2b_3/gamma:0                 </td><td>(256,)                                  </td><td>  +0.4768                               </td><td>   +1.5810                              </td><td>  +0.1980                               </td></tr><tr><td>bn4a_branch2b_3/beta:0                  </td><td>(256,)                                  </td><td>  -2.5978                               </td><td>   +1.1149                              </td><td>  +0.4805                               </td></tr><tr><td>bn4a_branch2b_3/moving_mean:0           </td><td>(256,)                                  </td><td>  -2.7021                               </td><td>   +2.6603                              </td><td>  +0.5277                               </td></tr><tr><td>bn4a_branch2b_3/moving_variance:0       </td><td>(256,)                                  </td><td>  +0.1003                               </td><td>   +1.1930                              </td><td>  +0.1722                               </td></tr><tr><td>res4a_branch2c_3/kernel:0               </td><td>(1, 1, 256, 1024)                       </td><td>  -0.2861                               </td><td>   +0.1943                              </td><td>  +0.0141                               </td></tr><tr><td>res4a_branch2c_3/bias:0                 </td><td>(1024,)                                 </td><td>  -0.0049                               </td><td>   +0.0115                              </td><td>  +0.0012                               </td></tr><tr><td>res4a_branch1_3/kernel:0                </td><td>(1, 1, 512, 1024)                       </td><td>  -0.3615                               </td><td>   +0.3428                              </td><td>  +0.0159                               </td></tr><tr><td>res4a_branch1_3/bias:0                  </td><td>(1024,)                                 </td><td>  -0.0015                               </td><td>   +0.0015                              </td><td>  +0.0004                               </td></tr><tr><td>bn4a_branch2c_3/gamma:0                 </td><td>(1024,)                                 </td><td>  -0.0104                               </td><td>   +2.8173                              </td><td>  +0.4544                               </td></tr><tr><td>bn4a_branch2c_3/beta:0                  </td><td>(1024,)                                 </td><td>  -0.5242                               </td><td>   +2.0439                              </td><td>  +0.2862                               </td></tr><tr><td>bn4a_branch2c_3/moving_mean:0           </td><td>(1024,)                                 </td><td>  -0.4020                               </td><td>   +0.2339                              </td><td>  +0.0729                               </td></tr><tr><td>bn4a_branch2c_3/moving_variance:0       </td><td>(1024,)                                 </td><td>  +0.0000                               </td><td>   +0.1119                              </td><td>  +0.0107                               </td></tr><tr><td>bn4a_branch1_3/gamma:0                  </td><td>(1024,)                                 </td><td>  +0.1723                               </td><td>   +3.9846                              </td><td>  +0.7125                               </td></tr><tr><td>bn4a_branch1_3/beta:0                   </td><td>(1024,)                                 </td><td>  -0.5242                               </td><td>   +2.0441                              </td><td>  +0.2862                               </td></tr><tr><td>bn4a_branch1_3/moving_mean:0            </td><td>(1024,)                                 </td><td>  -4.9091                               </td><td>   +2.9439                              </td><td>  +0.7998                               </td></tr><tr><td>bn4a_branch1_3/moving_variance:0        </td><td>(1024,)                                 </td><td>  +0.0413                               </td><td>   +6.4599                              </td><td>  +0.5613                               </td></tr><tr><td>res4b_branch2a_3/kernel:0               </td><td>(1, 1, 1024, 256)                       </td><td>  -0.1251                               </td><td>   +0.1742                              </td><td>  +0.0082                               </td></tr><tr><td>res4b_branch2a_3/bias:0                 </td><td>(256,)                                  </td><td>  -0.0007                               </td><td>   +0.0006                              </td><td>  +0.0002                               </td></tr><tr><td>bn4b_branch2a_3/gamma:0                 </td><td>(256,)                                  </td><td>  +0.4161                               </td><td>   +1.5930                              </td><td>  +0.1866                               </td></tr><tr><td>bn4b_branch2a_3/beta:0                  </td><td>(256,)                                  </td><td>  -2.2049                               </td><td>   +2.0415                              </td><td>  +0.4853                               </td></tr><tr><td>bn4b_branch2a_3/moving_mean:0           </td><td>(256,)                                  </td><td>  -3.9798                               </td><td>   +2.5647                              </td><td>  +0.9971                               </td></tr><tr><td>bn4b_branch2a_3/moving_variance:0       </td><td>(256,)                                  </td><td>  +0.1146                               </td><td>   +9.1091                              </td><td>  +1.1798                               </td></tr><tr><td>res4b_branch2b_3/kernel:0               </td><td>(3, 3, 256, 256)                        </td><td>  -0.0968                               </td><td>   +0.1622                              </td><td>  +0.0073                               </td></tr><tr><td>res4b_branch2b_3/bias:0                 </td><td>(256,)                                  </td><td>  -0.0022                               </td><td>   +0.0018                              </td><td>  +0.0006                               </td></tr><tr><td>bn4b_branch2b_3/gamma:0                 </td><td>(256,)                                  </td><td>  +0.4992                               </td><td>   +1.4646                              </td><td>  +0.1878                               </td></tr><tr><td>bn4b_branch2b_3/beta:0                  </td><td>(256,)                                  </td><td>  -1.6821                               </td><td>   +0.5865                              </td><td>  +0.4319                               </td></tr><tr><td>bn4b_branch2b_3/moving_mean:0           </td><td>(256,)                                  </td><td>  -5.5636                               </td><td>   +1.5920                              </td><td>  +0.8391                               </td></tr><tr><td>bn4b_branch2b_3/moving_variance:0       </td><td>(256,)                                  </td><td>  +0.0140                               </td><td>   +1.2341                              </td><td>  +0.1852                               </td></tr><tr><td>res4b_branch2c_3/kernel:0               </td><td>(1, 1, 256, 1024)                       </td><td>  -0.2025                               </td><td>   +0.2962                              </td><td>  +0.0104                               </td></tr><tr><td>res4b_branch2c_3/bias:0                 </td><td>(1024,)                                 </td><td>  -0.0057                               </td><td>   +0.0110                              </td><td>  +0.0017                               </td></tr><tr><td>bn4b_branch2c_3/gamma:0                 </td><td>(1024,)                                 </td><td>  -0.0006                               </td><td>   +3.1556                              </td><td>  +0.3625                               </td></tr><tr><td>bn4b_branch2c_3/beta:0                  </td><td>(1024,)                                 </td><td>  -1.0586                               </td><td>   +0.9457                              </td><td>  +0.1802                               </td></tr><tr><td>bn4b_branch2c_3/moving_mean:0           </td><td>(1024,)                                 </td><td>  -0.3958                               </td><td>   +0.3607                              </td><td>  +0.0831                               </td></tr><tr><td>bn4b_branch2c_3/moving_variance:0       </td><td>(1024,)                                 </td><td>  +0.0000                               </td><td>   +0.1685                              </td><td>  +0.0150                               </td></tr><tr><td>res4c_branch2a_3/kernel:0               </td><td>(1, 1, 1024, 256)                       </td><td>  -0.1010                               </td><td>   +0.1236                              </td><td>  +0.0083                               </td></tr><tr><td>res4c_branch2a_3/bias:0                 </td><td>(256,)                                  </td><td>  -0.0006                               </td><td>   +0.0006                              </td><td>  +0.0002                               </td></tr><tr><td>bn4c_branch2a_3/gamma:0                 </td><td>(256,)                                  </td><td>  +0.5716                               </td><td>   +1.7534                              </td><td>  +0.1407                               </td></tr><tr><td>bn4c_branch2a_3/beta:0                  </td><td>(256,)                                  </td><td>  -0.9249                               </td><td>   +1.3189                              </td><td>  +0.3732                               </td></tr><tr><td>bn4c_branch2a_3/moving_mean:0           </td><td>(256,)                                  </td><td>  -3.9561                               </td><td>   +1.9207                              </td><td>  +1.0270                               </td></tr><tr><td>bn4c_branch2a_3/moving_variance:0       </td><td>(256,)                                  </td><td>  +0.2736                               </td><td>   +4.1165                              </td><td>  +0.5892                               </td></tr><tr><td>res4c_branch2b_3/kernel:0               </td><td>(3, 3, 256, 256)                        </td><td>  -0.1008                               </td><td>   +0.1099                              </td><td>  +0.0075                               </td></tr><tr><td>res4c_branch2b_3/bias:0                 </td><td>(256,)                                  </td><td>  -0.0015                               </td><td>   +0.0021                              </td><td>  +0.0005                               </td></tr><tr><td>bn4c_branch2b_3/gamma:0                 </td><td>(256,)                                  </td><td>  +0.5034                               </td><td>   +1.2173                              </td><td>  +0.1483                               </td></tr><tr><td>bn4c_branch2b_3/beta:0                  </td><td>(256,)                                  </td><td>  -1.4417                               </td><td>   +0.5756                              </td><td>  +0.3369                               </td></tr><tr><td>bn4c_branch2b_3/moving_mean:0           </td><td>(256,)                                  </td><td>  -2.9200                               </td><td>   +1.5946                              </td><td>  +0.5483                               </td></tr><tr><td>bn4c_branch2b_3/moving_variance:0       </td><td>(256,)                                  </td><td>  +0.0281                               </td><td>   +1.2198                              </td><td>  +0.1510                               </td></tr><tr><td>res4c_branch2c_3/kernel:0               </td><td>(1, 1, 256, 1024)                       </td><td>  -0.1328                               </td><td>   +0.1666                              </td><td>  +0.0108                               </td></tr><tr><td>res4c_branch2c_3/bias:0                 </td><td>(1024,)                                 </td><td>  -0.0057                               </td><td>   +0.0144                              </td><td>  +0.0018                               </td></tr><tr><td>bn4c_branch2c_3/gamma:0                 </td><td>(1024,)                                 </td><td>  +0.0043                               </td><td>   +2.2694                              </td><td>  +0.2649                               </td></tr><tr><td>bn4c_branch2c_3/beta:0                  </td><td>(1024,)                                 </td><td>  -1.1019                               </td><td>   +0.7349                              </td><td>  +0.1791                               </td></tr><tr><td>bn4c_branch2c_3/moving_mean:0           </td><td>(1024,)                                 </td><td>  -0.3293                               </td><td>   +0.1280                              </td><td>  +0.0515                               </td></tr><tr><td>bn4c_branch2c_3/moving_variance:0       </td><td>(1024,)                                 </td><td>  +0.0001                               </td><td>   +0.0869                              </td><td>  +0.0065                               </td></tr><tr><td>res4d_branch2a_3/kernel:0               </td><td>(1, 1, 1024, 256)                       </td><td>  -0.1169                               </td><td>   +0.1507                              </td><td>  +0.0104                               </td></tr><tr><td>res4d_branch2a_3/bias:0                 </td><td>(256,)                                  </td><td>  -0.0010                               </td><td>   +0.0006                              </td><td>  +0.0003                               </td></tr><tr><td>bn4d_branch2a_3/gamma:0                 </td><td>(256,)                                  </td><td>  +0.5686                               </td><td>   +1.4401                              </td><td>  +0.1488                               </td></tr><tr><td>bn4d_branch2a_3/beta:0                  </td><td>(256,)                                  </td><td>  -1.3452                               </td><td>   +0.4773                              </td><td>  +0.3038                               </td></tr><tr><td>bn4d_branch2a_3/moving_mean:0           </td><td>(256,)                                  </td><td>  -2.9391                               </td><td>   +2.3041                              </td><td>  +0.8307                               </td></tr><tr><td>bn4d_branch2a_3/moving_variance:0       </td><td>(256,)                                  </td><td>  +0.2651                               </td><td>   +4.1963                              </td><td>  +0.5838                               </td></tr><tr><td>res4d_branch2b_3/kernel:0               </td><td>(3, 3, 256, 256)                        </td><td>  -0.1036                               </td><td>   +0.0993                              </td><td>  +0.0088                               </td></tr><tr><td>res4d_branch2b_3/bias:0                 </td><td>(256,)                                  </td><td>  -0.0035                               </td><td>   +0.0054                              </td><td>  +0.0014                               </td></tr><tr><td>bn4d_branch2b_3/gamma:0                 </td><td>(256,)                                  </td><td>  +0.4286                               </td><td>   +1.5386                              </td><td>  +0.1594                               </td></tr><tr><td>bn4d_branch2b_3/beta:0                  </td><td>(256,)                                  </td><td>  -1.4343                               </td><td>   +0.3851                              </td><td>  +0.2820                               </td></tr><tr><td>bn4d_branch2b_3/moving_mean:0           </td><td>(256,)                                  </td><td>  -1.1160                               </td><td>   +0.5873                              </td><td>  +0.2232                               </td></tr><tr><td>bn4d_branch2b_3/moving_variance:0       </td><td>(256,)                                  </td><td>  +0.0355                               </td><td>   +0.4098                              </td><td>  +0.0649                               </td></tr><tr><td>res4d_branch2c_3/kernel:0               </td><td>(1, 1, 256, 1024)                       </td><td>  -0.2382                               </td><td>   +0.1296                              </td><td>  +0.0120                               </td></tr><tr><td>res4d_branch2c_3/bias:0                 </td><td>(1024,)                                 </td><td>  -0.0070                               </td><td>   +0.0199                              </td><td>  +0.0023                               </td></tr><tr><td>bn4d_branch2c_3/gamma:0                 </td><td>(1024,)                                 </td><td>  +0.0461                               </td><td>   +2.8471                              </td><td>  +0.3289                               </td></tr><tr><td>bn4d_branch2c_3/beta:0                  </td><td>(1024,)                                 </td><td>  -1.3527                               </td><td>   +0.5924                              </td><td>  +0.2292                               </td></tr><tr><td>bn4d_branch2c_3/moving_mean:0           </td><td>(1024,)                                 </td><td>  -0.2602                               </td><td>   +0.0767                              </td><td>  +0.0430                               </td></tr><tr><td>bn4d_branch2c_3/moving_variance:0       </td><td>(1024,)                                 </td><td>  +0.0013                               </td><td>   +0.0854                              </td><td>  +0.0057                               </td></tr><tr><td>res4e_branch2a_3/kernel:0               </td><td>(1, 1, 1024, 256)                       </td><td>  -0.1474                               </td><td>   +0.1154                              </td><td>  +0.0103                               </td></tr><tr><td>res4e_branch2a_3/bias:0                 </td><td>(256,)                                  </td><td>  -0.0006                               </td><td>   +0.0009                              </td><td>  +0.0003                               </td></tr><tr><td>bn4e_branch2a_3/gamma:0                 </td><td>(256,)                                  </td><td>  +0.6414                               </td><td>   +1.3680                              </td><td>  +0.1230                               </td></tr><tr><td>bn4e_branch2a_3/beta:0                  </td><td>(256,)                                  </td><td>  -1.0867                               </td><td>   +0.3564                              </td><td>  +0.2688                               </td></tr><tr><td>bn4e_branch2a_3/moving_mean:0           </td><td>(256,)                                  </td><td>  -3.8987                               </td><td>   +1.4863                              </td><td>  +1.0202                               </td></tr><tr><td>bn4e_branch2a_3/moving_variance:0       </td><td>(256,)                                  </td><td>  +0.2908                               </td><td>   +4.1538                              </td><td>  +0.5407                               </td></tr><tr><td>res4e_branch2b_3/kernel:0               </td><td>(3, 3, 256, 256)                        </td><td>  -0.0862                               </td><td>   +0.0939                              </td><td>  +0.0091                               </td></tr><tr><td>res4e_branch2b_3/bias:0                 </td><td>(256,)                                  </td><td>  -0.0029                               </td><td>   +0.0051                              </td><td>  +0.0010                               </td></tr><tr><td>bn4e_branch2b_3/gamma:0                 </td><td>(256,)                                  </td><td>  +0.5490                               </td><td>   +1.2861                              </td><td>  +0.1311                               </td></tr><tr><td>bn4e_branch2b_3/beta:0                  </td><td>(256,)                                  </td><td>  -1.2790                               </td><td>   +0.2216                              </td><td>  +0.2528                               </td></tr><tr><td>bn4e_branch2b_3/moving_mean:0           </td><td>(256,)                                  </td><td>  -1.0716                               </td><td>   +0.6271                              </td><td>  +0.2514                               </td></tr><tr><td>bn4e_branch2b_3/moving_variance:0       </td><td>(256,)                                  </td><td>  +0.0388                               </td><td>   +0.5987                              </td><td>  +0.0750                               </td></tr><tr><td>res4e_branch2c_3/kernel:0               </td><td>(1, 1, 256, 1024)                       </td><td>  -0.2014                               </td><td>   +0.1777                              </td><td>  +0.0121                               </td></tr><tr><td>res4e_branch2c_3/bias:0                 </td><td>(1024,)                                 </td><td>  -0.0053                               </td><td>   +0.0107                              </td><td>  +0.0020                               </td></tr><tr><td>bn4e_branch2c_3/gamma:0                 </td><td>(1024,)                                 </td><td>  +0.0251                               </td><td>   +1.7328                              </td><td>  +0.1828                               </td></tr><tr><td>bn4e_branch2c_3/beta:0                  </td><td>(1024,)                                 </td><td>  -1.0507                               </td><td>   +0.4076                              </td><td>  +0.1765                               </td></tr><tr><td>bn4e_branch2c_3/moving_mean:0           </td><td>(1024,)                                 </td><td>  -0.2043                               </td><td>   +0.0873                              </td><td>  +0.0359                               </td></tr><tr><td>bn4e_branch2c_3/moving_variance:0       </td><td>(1024,)                                 </td><td>  +0.0007                               </td><td>   +0.0373                              </td><td>  +0.0033                               </td></tr><tr><td>res4f_branch2a_3/kernel:0               </td><td>(1, 1, 1024, 256)                       </td><td>  -0.0860                               </td><td>   +0.1289                              </td><td>  +0.0106                               </td></tr><tr><td>res4f_branch2a_3/bias:0                 </td><td>(256,)                                  </td><td>  -0.0006                               </td><td>   +0.0010                              </td><td>  +0.0003                               </td></tr><tr><td>bn4f_branch2a_3/gamma:0                 </td><td>(256,)                                  </td><td>  +0.6962                               </td><td>   +1.3808                              </td><td>  +0.0996                               </td></tr><tr><td>bn4f_branch2a_3/beta:0                  </td><td>(256,)                                  </td><td>  -1.1552                               </td><td>   +0.3890                              </td><td>  +0.2462                               </td></tr><tr><td>bn4f_branch2a_3/moving_mean:0           </td><td>(256,)                                  </td><td>  -4.3923                               </td><td>   +2.0997                              </td><td>  +1.0476                               </td></tr><tr><td>bn4f_branch2a_3/moving_variance:0       </td><td>(256,)                                  </td><td>  +0.3235                               </td><td>   +3.9428                              </td><td>  +0.6106                               </td></tr><tr><td>res4f_branch2b_3/kernel:0               </td><td>(3, 3, 256, 256)                        </td><td>  -0.1023                               </td><td>   +0.1056                              </td><td>  +0.0097                               </td></tr><tr><td>res4f_branch2b_3/bias:0                 </td><td>(256,)                                  </td><td>  -0.0038                               </td><td>   +0.0037                              </td><td>  +0.0010                               </td></tr><tr><td>bn4f_branch2b_3/gamma:0                 </td><td>(256,)                                  </td><td>  +0.4326                               </td><td>   +1.2403                              </td><td>  +0.1092                               </td></tr><tr><td>bn4f_branch2b_3/beta:0                  </td><td>(256,)                                  </td><td>  -1.4296                               </td><td>   +0.5155                              </td><td>  +0.2444                               </td></tr><tr><td>bn4f_branch2b_3/moving_mean:0           </td><td>(256,)                                  </td><td>  -1.6409                               </td><td>   +1.4733                              </td><td>  +0.3083                               </td></tr><tr><td>bn4f_branch2b_3/moving_variance:0       </td><td>(256,)                                  </td><td>  +0.0403                               </td><td>   +0.5428                              </td><td>  +0.0756                               </td></tr><tr><td>res4f_branch2c_3/kernel:0               </td><td>(1, 1, 256, 1024)                       </td><td>  -0.1396                               </td><td>   +0.1322                              </td><td>  +0.0121                               </td></tr><tr><td>res4f_branch2c_3/bias:0                 </td><td>(1024,)                                 </td><td>  -0.0073                               </td><td>   +0.0118                              </td><td>  +0.0025                               </td></tr><tr><td>bn4f_branch2c_3/gamma:0                 </td><td>(1024,)                                 </td><td>  +0.1776                               </td><td>   +1.6173                              </td><td>  +0.1734                               </td></tr><tr><td>bn4f_branch2c_3/beta:0                  </td><td>(1024,)                                 </td><td>  -0.9800                               </td><td>   +0.2974                              </td><td>  +0.1410                               </td></tr><tr><td>bn4f_branch2c_3/moving_mean:0           </td><td>(1024,)                                 </td><td>  -0.1488                               </td><td>   +0.0678                              </td><td>  +0.0309                               </td></tr><tr><td>bn4f_branch2c_3/moving_variance:0       </td><td>(1024,)                                 </td><td>  +0.0008                               </td><td>   +0.0160                              </td><td>  +0.0021                               </td></tr><tr><td>res5a_branch2a_3/kernel:0               </td><td>(1, 1, 1024, 512)                       </td><td>  -0.1763                               </td><td>   +0.2315                              </td><td>  +0.0143                               </td></tr><tr><td>res5a_branch2a_3/bias:0                 </td><td>(512,)                                  </td><td>  -0.0014                               </td><td>   +0.0011                              </td><td>  +0.0003                               </td></tr><tr><td>bn5a_branch2a_3/gamma:0                 </td><td>(512,)                                  </td><td>  +0.5024                               </td><td>   +1.2280                              </td><td>  +0.1224                               </td></tr><tr><td>bn5a_branch2a_3/beta:0                  </td><td>(512,)                                  </td><td>  -1.4505                               </td><td>   +0.4926                              </td><td>  +0.3033                               </td></tr><tr><td>bn5a_branch2a_3/moving_mean:0           </td><td>(512,)                                  </td><td> -13.2482                               </td><td>   +6.5317                              </td><td>  +1.7947                               </td></tr><tr><td>bn5a_branch2a_3/moving_variance:0       </td><td>(512,)                                  </td><td>  +0.8438                               </td><td>  +12.3391                              </td><td>  +1.0853                               </td></tr><tr><td>res5a_branch2b_3/kernel:0               </td><td>(3, 3, 512, 512)                        </td><td>  -0.2433                               </td><td>   +0.3231                              </td><td>  +0.0091                               </td></tr><tr><td>res5a_branch2b_3/bias:0                 </td><td>(512,)                                  </td><td>  -0.0018                               </td><td>   +0.0043                              </td><td>  +0.0008                               </td></tr><tr><td>bn5a_branch2b_3/gamma:0                 </td><td>(512,)                                  </td><td>  +0.3045                               </td><td>   +1.4122                              </td><td>  +0.1359                               </td></tr><tr><td>bn5a_branch2b_3/beta:0                  </td><td>(512,)                                  </td><td>  -1.6459                               </td><td>   +0.7115                              </td><td>  +0.3145                               </td></tr><tr><td>bn5a_branch2b_3/moving_mean:0           </td><td>(512,)                                  </td><td>  -1.7575                               </td><td>   +1.3904                              </td><td>  +0.2868                               </td></tr><tr><td>bn5a_branch2b_3/moving_variance:0       </td><td>(512,)                                  </td><td>  +0.0838                               </td><td>   +0.8812                              </td><td>  +0.0821                               </td></tr><tr><td>res5a_branch2c_3/kernel:0               </td><td>(1, 1, 512, 2048)                       </td><td>  -0.2880                               </td><td>   +0.3244                              </td><td>  +0.0122                               </td></tr><tr><td>res5a_branch2c_3/bias:0                 </td><td>(2048,)                                 </td><td>  -0.0106                               </td><td>   +0.0227                              </td><td>  +0.0013                               </td></tr><tr><td>res5a_branch1_3/kernel:0                </td><td>(1, 1, 1024, 2048)                      </td><td>  -0.3702                               </td><td>   +0.4639                              </td><td>  +0.0105                               </td></tr><tr><td>res5a_branch1_3/bias:0                  </td><td>(2048,)                                 </td><td>  -0.0008                               </td><td>   +0.0019                              </td><td>  +0.0002                               </td></tr><tr><td>bn5a_branch2c_3/gamma:0                 </td><td>(2048,)                                 </td><td>  +0.6632                               </td><td>   +2.6859                              </td><td>  +0.2373                               </td></tr><tr><td>bn5a_branch2c_3/beta:0                  </td><td>(2048,)                                 </td><td>  -1.8489                               </td><td>   +1.4639                              </td><td>  +0.2354                               </td></tr><tr><td>bn5a_branch2c_3/moving_mean:0           </td><td>(2048,)                                 </td><td>  -0.4234                               </td><td>   +0.5529                              </td><td>  +0.0570                               </td></tr><tr><td>bn5a_branch2c_3/moving_variance:0       </td><td>(2048,)                                 </td><td>  +0.0023                               </td><td>   +0.1430                              </td><td>  +0.0061                               </td></tr><tr><td>bn5a_branch1_3/gamma:0                  </td><td>(2048,)                                 </td><td>  +0.8580                               </td><td>   +4.8497                              </td><td>  +0.5097                               </td></tr><tr><td>bn5a_branch1_3/beta:0                   </td><td>(2048,)                                 </td><td>  -1.8488                               </td><td>   +1.4641                              </td><td>  +0.2354                               </td></tr><tr><td>bn5a_branch1_3/moving_mean:0            </td><td>(2048,)                                 </td><td>  -8.1453                               </td><td>   +5.4726                              </td><td>  +1.0711                               </td></tr><tr><td>bn5a_branch1_3/moving_variance:0        </td><td>(2048,)                                 </td><td>  +0.2737                               </td><td>   +5.2058                              </td><td>  +0.3888                               </td></tr><tr><td>res5b_branch2a_3/kernel:0               </td><td>(1, 1, 2048, 512)                       </td><td>  -0.1497                               </td><td>   +0.2567                              </td><td>  +0.0107                               </td></tr><tr><td>res5b_branch2a_3/bias:0                 </td><td>(512,)                                  </td><td>  -0.0015                               </td><td>   +0.0040                              </td><td>  +0.0004                               </td></tr><tr><td>bn5b_branch2a_3/gamma:0                 </td><td>(512,)                                  </td><td>  +0.3823                               </td><td>   +1.1338                              </td><td>  +0.0958                               </td></tr><tr><td>bn5b_branch2a_3/beta:0                  </td><td>(512,)                                  </td><td>  -1.1818                               </td><td>   +0.6068                              </td><td>  +0.1976                               </td></tr><tr><td>bn5b_branch2a_3/moving_mean:0           </td><td>(512,)                                  </td><td>  -3.0110                               </td><td>   +4.9119                              </td><td>  +0.5962                               </td></tr><tr><td>bn5b_branch2a_3/moving_variance:0       </td><td>(512,)                                  </td><td>  +0.5778                               </td><td>   +4.9932                              </td><td>  +0.4898                               </td></tr><tr><td>res5b_branch2b_3/kernel:0               </td><td>(3, 3, 512, 512)                        </td><td>  -0.1338                               </td><td>   +0.2394                              </td><td>  +0.0079                               </td></tr><tr><td>res5b_branch2b_3/bias:0                 </td><td>(512,)                                  </td><td>  -0.0105                               </td><td>   +0.0073                              </td><td>  +0.0013                               </td></tr><tr><td>bn5b_branch2b_3/gamma:0                 </td><td>(512,)                                  </td><td>  +0.5321                               </td><td>   +1.1694                              </td><td>  +0.1049                               </td></tr><tr><td>bn5b_branch2b_3/beta:0                  </td><td>(512,)                                  </td><td>  -1.8375                               </td><td>   +0.5450                              </td><td>  +0.2784                               </td></tr><tr><td>bn5b_branch2b_3/moving_mean:0           </td><td>(512,)                                  </td><td>  -1.2009                               </td><td>   +1.5489                              </td><td>  +0.2116                               </td></tr><tr><td>bn5b_branch2b_3/moving_variance:0       </td><td>(512,)                                  </td><td>  +0.0530                               </td><td>   +0.6918                              </td><td>  +0.0500                               </td></tr><tr><td>res5b_branch2c_3/kernel:0               </td><td>(1, 1, 512, 2048)                       </td><td>  -0.1345                               </td><td>   +0.1962                              </td><td>  +0.0106                               </td></tr><tr><td>res5b_branch2c_3/bias:0                 </td><td>(2048,)                                 </td><td>  -0.0181                               </td><td>   +0.0196                              </td><td>  +0.0018                               </td></tr><tr><td>bn5b_branch2c_3/gamma:0                 </td><td>(2048,)                                 </td><td>  +0.5622                               </td><td>   +2.4065                              </td><td>  +0.2234                               </td></tr><tr><td>bn5b_branch2c_3/beta:0                  </td><td>(2048,)                                 </td><td>  -2.3543                               </td><td>   +0.1656                              </td><td>  +0.2122                               </td></tr><tr><td>bn5b_branch2c_3/moving_mean:0           </td><td>(2048,)                                 </td><td>  -0.2994                               </td><td>   +0.9054                              </td><td>  +0.0436                               </td></tr><tr><td>bn5b_branch2c_3/moving_variance:0       </td><td>(2048,)                                 </td><td>  +0.0017                               </td><td>   +0.1444                              </td><td>  +0.0042                               </td></tr><tr><td>res5c_branch2a_3/kernel:0               </td><td>(1, 1, 2048, 512)                       </td><td>  -0.1803                               </td><td>   +0.3580                              </td><td>  +0.0115                               </td></tr><tr><td>res5c_branch2a_3/bias:0                 </td><td>(512,)                                  </td><td>  -0.0037                               </td><td>   +0.0055                              </td><td>  +0.0005                               </td></tr><tr><td>bn5c_branch2a_3/gamma:0                 </td><td>(512,)                                  </td><td>  +0.1743                               </td><td>   +1.1331                              </td><td>  +0.0973                               </td></tr><tr><td>bn5c_branch2a_3/beta:0                  </td><td>(512,)                                  </td><td>  -1.3940                               </td><td>   +0.9286                              </td><td>  +0.2532                               </td></tr><tr><td>bn5c_branch2a_3/moving_mean:0           </td><td>(512,)                                  </td><td>  -1.6788                               </td><td>   +4.0125                              </td><td>  +0.4136                               </td></tr><tr><td>bn5c_branch2a_3/moving_variance:0       </td><td>(512,)                                  </td><td>  +0.4097                               </td><td>   +6.2837                              </td><td>  +0.4842                               </td></tr><tr><td>res5c_branch2b_3/kernel:0               </td><td>(3, 3, 512, 512)                        </td><td>  -0.0940                               </td><td>   +0.0945                              </td><td>  +0.0071                               </td></tr><tr><td>res5c_branch2b_3/bias:0                 </td><td>(512,)                                  </td><td>  -0.0092                               </td><td>   +0.0111                              </td><td>  +0.0019                               </td></tr><tr><td>bn5c_branch2b_3/gamma:0                 </td><td>(512,)                                  </td><td>  +0.4880                               </td><td>   +1.1432                              </td><td>  +0.0915                               </td></tr><tr><td>bn5c_branch2b_3/beta:0                  </td><td>(512,)                                  </td><td>  -1.4251                               </td><td>   +0.3417                              </td><td>  +0.2747                               </td></tr><tr><td>bn5c_branch2b_3/moving_mean:0           </td><td>(512,)                                  </td><td>  -0.6788                               </td><td>   +0.0926                              </td><td>  +0.1057                               </td></tr><tr><td>bn5c_branch2b_3/moving_variance:0       </td><td>(512,)                                  </td><td>  +0.0341                               </td><td>   +0.2969                              </td><td>  +0.0293                               </td></tr><tr><td>res5c_branch2c_3/kernel:0               </td><td>(1, 1, 512, 2048)                       </td><td>  -0.1305                               </td><td>   +0.1288                              </td><td>  +0.0103                               </td></tr><tr><td>res5c_branch2c_3/bias:0                 </td><td>(2048,)                                 </td><td>  -0.0031                               </td><td>   +0.0070                              </td><td>  +0.0011                               </td></tr><tr><td>bn5c_branch2c_3/gamma:0                 </td><td>(2048,)                                 </td><td>  +0.5999                               </td><td>   +2.5360                              </td><td>  +0.2191                               </td></tr><tr><td>bn5c_branch2c_3/beta:0                  </td><td>(2048,)                                 </td><td>  -4.0101                               </td><td>   -0.6658                              </td><td>  +0.2211                               </td></tr><tr><td>bn5c_branch2c_3/moving_mean:0           </td><td>(2048,)                                 </td><td>  -0.2560                               </td><td>   +0.1848                              </td><td>  +0.0335                               </td></tr><tr><td>bn5c_branch2c_3/moving_variance:0       </td><td>(2048,)                                 </td><td>  +0.0021                               </td><td>   +0.0345                              </td><td>  +0.0027                               </td></tr><tr><td>fpn_c5p5_3/kernel:0                     </td><td>(1, 1, 2048, 256)                       </td><td>  -0.1320                               </td><td>   +0.1353                              </td><td>  +0.0205                               </td></tr><tr><td>fpn_c5p5_3/bias:0                       </td><td>(256,)                                  </td><td>  -0.0173                               </td><td>   +0.0129                              </td><td>  +0.0055                               </td></tr><tr><td>fpn_c4p4_3/kernel:0                     </td><td>(1, 1, 1024, 256)                       </td><td>  -0.1412                               </td><td>   +0.1439                              </td><td>  +0.0259                               </td></tr><tr><td>fpn_c4p4_3/bias:0                       </td><td>(256,)                                  </td><td>  -0.0058                               </td><td>   +0.0047                              </td><td>  +0.0018                               </td></tr><tr><td>fpn_c3p3_3/kernel:0                     </td><td>(1, 1, 512, 256)                        </td><td>  -0.0817                               </td><td>   +0.0864                              </td><td>  +0.0122                               </td></tr><tr><td>fpn_c3p3_3/bias:0                       </td><td>(256,)                                  </td><td>  -0.0081                               </td><td>   +0.0074                              </td><td>  +0.0025                               </td></tr><tr><td>fpn_c2p2_3/kernel:0                     </td><td>(1, 1, 256, 256)                        </td><td>  -0.0407                               </td><td>   +0.0421                              </td><td>  +0.0076                               </td></tr><tr><td>fpn_c2p2_3/bias:0                       </td><td>(256,)                                  </td><td>  -0.0062                               </td><td>   +0.0063                              </td><td>  +0.0023                               </td></tr><tr><td>fpn_p5_3/kernel:0                       </td><td>(3, 3, 256, 256)                        </td><td>  -0.0351                               </td><td>   +0.0390                              </td><td>  +0.0059                               </td></tr><tr><td>fpn_p5_3/bias:0                         </td><td>(256,)                                  </td><td>  -0.0094                               </td><td>   +0.0086                              </td><td>  +0.0040                               </td></tr><tr><td>fpn_p2_3/kernel:0                       </td><td>(3, 3, 256, 256)                        </td><td>  -0.0408                               </td><td>   +0.0334                              </td><td>  +0.0070                               </td></tr><tr><td>fpn_p2_3/bias:0                         </td><td>(256,)                                  </td><td>  -0.0200                               </td><td>   +0.0207                              </td><td>  +0.0078                               </td></tr><tr><td>fpn_p3_3/kernel:0                       </td><td>(3, 3, 256, 256)                        </td><td>  -0.0365                               </td><td>   +0.0382                              </td><td>  +0.0070                               </td></tr><tr><td>fpn_p3_3/bias:0                         </td><td>(256,)                                  </td><td>  -0.0189                               </td><td>   +0.0205                              </td><td>  +0.0077                               </td></tr><tr><td>fpn_p4_3/kernel:0                       </td><td>(3, 3, 256, 256)                        </td><td>  -0.0534                               </td><td>   +0.0577                              </td><td>  +0.0094                               </td></tr><tr><td>fpn_p4_3/bias:0                         </td><td>(256,)                                  </td><td>  -0.1150                               </td><td>   +0.1586                              </td><td>  +0.0509                               </td></tr><tr><td>rpn_conv_shared_3/kernel:0              </td><td>(3, 3, 256, 512)                        </td><td>  -0.1170                               </td><td>   +0.1336                              </td><td>  +0.0104                               </td></tr><tr><td>rpn_conv_shared_3/bias:0                </td><td>(512,)                                  </td><td>  -0.1256                               </td><td>   +0.1232                              </td><td>  +0.0205                               </td></tr><tr><td>rpn_class_raw_3/kernel:0                </td><td>(1, 1, 512, 6)                          </td><td>  -0.1364                               </td><td>   +0.1364                              </td><td>  +0.0249                               </td></tr><tr><td>rpn_class_raw_3/bias:0                  </td><td>(6,)                                    </td><td>  -0.3306                               </td><td>   +0.3306                              </td><td>  +0.2325                               </td></tr><tr><td>rpn_bbox_pred_3/kernel:0                </td><td>(1, 1, 512, 12)                         </td><td>  -0.3512                               </td><td>   +0.3536                              </td><td>  +0.0415                               </td></tr><tr><td>rpn_bbox_pred_3/bias:0                  </td><td>(12,)                                   </td><td>  -1.3189                               </td><td>   +6.6777                              </td><td>  +2.2591                               </td></tr><tr><td>mrcnn_class_conv1_3/kernel:0            </td><td>(7, 7, 256, 1024)                       </td><td>  -0.0469                               </td><td>   +0.0497                              </td><td>  +0.0040                               </td></tr><tr><td>mrcnn_class_conv1_3/bias:0              </td><td>(1024,)                                 </td><td>  -0.0050                               </td><td>   +0.0011                              </td><td>  +0.0009                               </td></tr><tr><td>mrcnn_class_bn1_3/gamma:0               </td><td>(1024,)                                 </td><td>  +0.7830                               </td><td>   +1.0498                              </td><td>  +0.0218                               </td></tr><tr><td>mrcnn_class_bn1_3/beta:0                </td><td>(1024,)                                 </td><td>  -0.0329                               </td><td>   +0.0033                              </td><td>  +0.0044                               </td></tr><tr><td>mrcnn_class_bn1_3/moving_mean:0         </td><td>(1024,)                                 </td><td> -13.7297                               </td><td>   +4.7460                              </td><td>  +1.4822                               </td></tr><tr><td>mrcnn_class_bn1_3/moving_variance:0     </td><td>(1024,)                                 </td><td>  +1.6954                               </td><td>  +30.5685                              </td><td>  +2.7805                               </td></tr><tr><td>mrcnn_class_conv2_3/kernel:0            </td><td>(1, 1, 1024, 1024)                      </td><td>  -0.1729                               </td><td>   +0.1258                              </td><td>  +0.0077                               </td></tr><tr><td>mrcnn_class_conv2_3/bias:0              </td><td>(1024,)                                 </td><td>  -0.0411                               </td><td>   +0.1399                              </td><td>  +0.0154                               </td></tr><tr><td>mrcnn_class_bn2_3/gamma:0               </td><td>(1024,)                                 </td><td>  +0.3717                               </td><td>   +1.0507                              </td><td>  +0.0515                               </td></tr><tr><td>mrcnn_class_bn2_3/beta:0                </td><td>(1024,)                                 </td><td>  -0.0135                               </td><td>   +0.0960                              </td><td>  +0.0076                               </td></tr><tr><td>mrcnn_class_bn2_3/moving_mean:0         </td><td>(1024,)                                 </td><td>  -0.7209                               </td><td>   +0.9867                              </td><td>  +0.1617                               </td></tr><tr><td>mrcnn_class_bn2_3/moving_variance:0     </td><td>(1024,)                                 </td><td>  +0.0094                               </td><td>   +0.3570                              </td><td>  +0.0415                               </td></tr><tr><td>mrcnn_class_logits_3/kernel:0           </td><td>(1024, 2)                               </td><td>  -0.2047                               </td><td>   +0.2483                              </td><td>  +0.0448                               </td></tr><tr><td>mrcnn_class_logits_3/bias:0             </td><td>(2,)                                    </td><td>  -0.6482                               </td><td>   +0.6482                              </td><td>  +0.6482                               </td></tr><tr><td>mrcnn_bbox_fc_3/kernel:0                </td><td>(1024, 8)                               </td><td>  -0.1913                               </td><td>   +0.1678                              </td><td>  +0.0395                               </td></tr><tr><td>mrcnn_bbox_fc_3/bias:0                  </td><td>(8,)                                    </td><td>  -0.1250                               </td><td>   +0.0514                              </td><td>  +0.0567                               </td></tr><tr><td>mrcnn_mask_conv1_3/kernel:0             </td><td>(3, 3, 256, 256)                        </td><td>  -0.0675                               </td><td>   +0.0588                              </td><td>  +0.0065                               </td></tr><tr><td>mrcnn_mask_conv1_3/bias:0               </td><td>(256,)                                  </td><td>  -0.0063                               </td><td>   +0.0021                              </td><td>  +0.0016                               </td></tr><tr><td>mrcnn_mask_bn1_3/gamma:0                </td><td>(256,)                                  </td><td>  +0.9649                               </td><td>   +1.1332                              </td><td>  +0.0183                               </td></tr><tr><td>mrcnn_mask_bn1_3/beta:0                 </td><td>(256,)                                  </td><td>  -0.0219                               </td><td>   +0.0010                              </td><td>  +0.0040                               </td></tr><tr><td>mrcnn_mask_bn1_3/moving_mean:0          </td><td>(256,)                                  </td><td>  -2.4143                               </td><td>   +1.1433                              </td><td>  +0.5678                               </td></tr><tr><td>mrcnn_mask_bn1_3/moving_variance:0      </td><td>(256,)                                  </td><td>  +0.6905                               </td><td>   +4.3261                              </td><td>  +0.5650                               </td></tr><tr><td>mrcnn_mask_conv2_3/kernel:0             </td><td>(3, 3, 256, 256)                        </td><td>  -0.0767                               </td><td>   +0.1454                              </td><td>  +0.0065                               </td></tr><tr><td>mrcnn_mask_conv2_3/bias:0               </td><td>(256,)                                  </td><td>  -0.0235                               </td><td>   +0.0146                              </td><td>  +0.0063                               </td></tr><tr><td>mrcnn_mask_bn2_3/gamma:0                </td><td>(256,)                                  </td><td>  +0.9571                               </td><td>   +1.0455                              </td><td>  +0.0129                               </td></tr><tr><td>mrcnn_mask_bn2_3/beta:0                 </td><td>(256,)                                  </td><td>  -0.0208                               </td><td>   +0.0047                              </td><td>  +0.0046                               </td></tr><tr><td>mrcnn_mask_bn2_3/moving_mean:0          </td><td>(256,)                                  </td><td>  -0.6003                               </td><td>   +0.1184                              </td><td>  +0.1236                               </td></tr><tr><td>mrcnn_mask_bn2_3/moving_variance:0      </td><td>(256,)                                  </td><td>  +0.0437                               </td><td>   +0.4538                              </td><td>  +0.0551                               </td></tr><tr><td>mrcnn_mask_conv3_3/kernel:0             </td><td>(3, 3, 256, 256)                        </td><td>  -0.0637                               </td><td>   +0.1100                              </td><td>  +0.0058                               </td></tr><tr><td>mrcnn_mask_conv3_3/bias:0               </td><td>(256,)                                  </td><td>  -0.0325                               </td><td>   +0.0644                              </td><td>  +0.0153                               </td></tr><tr><td>mrcnn_mask_bn3_3/gamma:0                </td><td>(256,)                                  </td><td>  +0.9739                               </td><td>   +1.0341                              </td><td>  +0.0096                               </td></tr><tr><td>mrcnn_mask_bn3_3/beta:0                 </td><td>(256,)                                  </td><td>  -0.0364                               </td><td>   +0.0202                              </td><td>  +0.0076                               </td></tr><tr><td>mrcnn_mask_bn3_3/moving_mean:0          </td><td>(256,)                                  </td><td>  -0.5812                               </td><td>   +0.2401                              </td><td>  +0.1452                               </td></tr><tr><td>mrcnn_mask_bn3_3/moving_variance:0      </td><td>(256,)                                  </td><td>  +0.0137                               </td><td>   +0.3976                              </td><td>  +0.0564                               </td></tr><tr><td>mrcnn_mask_conv4_3/kernel:0             </td><td>(3, 3, 256, 256)                        </td><td>  -0.0441                               </td><td>   +0.0485                              </td><td>  +0.0046                               </td></tr><tr><td>mrcnn_mask_conv4_3/bias:0               </td><td>(256,)                                  </td><td>  -0.0111                               </td><td>   +0.0388                              </td><td>  +0.0072                               </td></tr><tr><td>mrcnn_mask_bn4_3/gamma:0                </td><td>(256,)                                  </td><td>  +0.9706                               </td><td>   +1.0740                              </td><td>  +0.0213                               </td></tr><tr><td>mrcnn_mask_bn4_3/beta:0                 </td><td>(256,)                                  </td><td>  +0.0030                               </td><td>   +0.0507                              </td><td>  +0.0127                               </td></tr><tr><td>mrcnn_mask_bn4_3/moving_mean:0          </td><td>(256,)                                  </td><td>  -0.1459                               </td><td>   +0.6716                              </td><td>  +0.1304                               </td></tr><tr><td>mrcnn_mask_bn4_3/moving_variance:0      </td><td>(256,)                                  </td><td>  +0.0331                               </td><td>   +0.2902                              </td><td>  +0.0494                               </td></tr><tr><td>mrcnn_mask_deconv_3/kernel:0            </td><td>(2, 2, 256, 256)                        </td><td>  -0.0400                               </td><td>   +0.0633                              </td><td>  +0.0056                               </td></tr><tr><td>mrcnn_mask_deconv_3/bias:0              </td><td>(256,)                                  </td><td>  -0.0890                               </td><td>   +0.1056                              </td><td>  +0.0391                               </td></tr><tr><td>mrcnn_mask_3/kernel:0                   </td><td>(1, 1, 256, 2)                          </td><td>  -0.1525                               </td><td>   +0.1495                              </td><td>  +0.0796                               </td></tr><tr><td>mrcnn_mask_3/bias:0                     </td><td>(2,)                                    </td><td>  +0.0000                               </td><td>   +0.3182                              </td><td>  +0.1591                               </td></tr></table>"
            ]
          },
          "metadata": {}
        }
      ]
    },
    {
      "cell_type": "code",
      "source": [
        "model.keras_model.summary()"
      ],
      "metadata": {
        "id": "-k9ZMsP4f7wa",
        "colab": {
          "base_uri": "https://localhost:8080/"
        },
        "outputId": "c5aa5072-83df-4e9a-8138-966cc56a22e4"
      },
      "execution_count": 114,
      "outputs": [
        {
          "metadata": {
            "tags": null
          },
          "name": "stdout",
          "output_type": "stream",
          "text": [
            "__________________________________________________________________________________________________\n",
            "Layer (type)                    Output Shape         Param #     Connected to                     \n",
            "==================================================================================================\n",
            "input_image (InputLayer)        (None, None, None, 3 0                                            \n",
            "__________________________________________________________________________________________________\n",
            "zero_padding2d_4 (ZeroPadding2D (None, None, None, 3 0           input_image[0][0]                \n",
            "__________________________________________________________________________________________________\n",
            "conv1 (Conv2D)                  (None, None, None, 6 9472        zero_padding2d_4[0][0]           \n",
            "__________________________________________________________________________________________________\n",
            "bn_conv1 (BatchNorm)            (None, None, None, 6 256         conv1[0][0]                      \n",
            "__________________________________________________________________________________________________\n",
            "activation_121 (Activation)     (None, None, None, 6 0           bn_conv1[0][0]                   \n",
            "__________________________________________________________________________________________________\n",
            "max_pooling2d_4 (MaxPooling2D)  (None, None, None, 6 0           activation_121[0][0]             \n",
            "__________________________________________________________________________________________________\n",
            "res2a_branch2a (Conv2D)         (None, None, None, 6 4160        max_pooling2d_4[0][0]            \n",
            "__________________________________________________________________________________________________\n",
            "bn2a_branch2a (BatchNorm)       (None, None, None, 6 256         res2a_branch2a[0][0]             \n",
            "__________________________________________________________________________________________________\n",
            "activation_122 (Activation)     (None, None, None, 6 0           bn2a_branch2a[0][0]              \n",
            "__________________________________________________________________________________________________\n",
            "res2a_branch2b (Conv2D)         (None, None, None, 6 36928       activation_122[0][0]             \n",
            "__________________________________________________________________________________________________\n",
            "bn2a_branch2b (BatchNorm)       (None, None, None, 6 256         res2a_branch2b[0][0]             \n",
            "__________________________________________________________________________________________________\n",
            "activation_123 (Activation)     (None, None, None, 6 0           bn2a_branch2b[0][0]              \n",
            "__________________________________________________________________________________________________\n",
            "res2a_branch2c (Conv2D)         (None, None, None, 2 16640       activation_123[0][0]             \n",
            "__________________________________________________________________________________________________\n",
            "res2a_branch1 (Conv2D)          (None, None, None, 2 16640       max_pooling2d_4[0][0]            \n",
            "__________________________________________________________________________________________________\n",
            "bn2a_branch2c (BatchNorm)       (None, None, None, 2 1024        res2a_branch2c[0][0]             \n",
            "__________________________________________________________________________________________________\n",
            "bn2a_branch1 (BatchNorm)        (None, None, None, 2 1024        res2a_branch1[0][0]              \n",
            "__________________________________________________________________________________________________\n",
            "add_49 (Add)                    (None, None, None, 2 0           bn2a_branch2c[0][0]              \n",
            "                                                                 bn2a_branch1[0][0]               \n",
            "__________________________________________________________________________________________________\n",
            "res2a_out (Activation)          (None, None, None, 2 0           add_49[0][0]                     \n",
            "__________________________________________________________________________________________________\n",
            "res2b_branch2a (Conv2D)         (None, None, None, 6 16448       res2a_out[0][0]                  \n",
            "__________________________________________________________________________________________________\n",
            "bn2b_branch2a (BatchNorm)       (None, None, None, 6 256         res2b_branch2a[0][0]             \n",
            "__________________________________________________________________________________________________\n",
            "activation_124 (Activation)     (None, None, None, 6 0           bn2b_branch2a[0][0]              \n",
            "__________________________________________________________________________________________________\n",
            "res2b_branch2b (Conv2D)         (None, None, None, 6 36928       activation_124[0][0]             \n",
            "__________________________________________________________________________________________________\n",
            "bn2b_branch2b (BatchNorm)       (None, None, None, 6 256         res2b_branch2b[0][0]             \n",
            "__________________________________________________________________________________________________\n",
            "activation_125 (Activation)     (None, None, None, 6 0           bn2b_branch2b[0][0]              \n",
            "__________________________________________________________________________________________________\n",
            "res2b_branch2c (Conv2D)         (None, None, None, 2 16640       activation_125[0][0]             \n",
            "__________________________________________________________________________________________________\n",
            "bn2b_branch2c (BatchNorm)       (None, None, None, 2 1024        res2b_branch2c[0][0]             \n",
            "__________________________________________________________________________________________________\n",
            "add_50 (Add)                    (None, None, None, 2 0           bn2b_branch2c[0][0]              \n",
            "                                                                 res2a_out[0][0]                  \n",
            "__________________________________________________________________________________________________\n",
            "res2b_out (Activation)          (None, None, None, 2 0           add_50[0][0]                     \n",
            "__________________________________________________________________________________________________\n",
            "res2c_branch2a (Conv2D)         (None, None, None, 6 16448       res2b_out[0][0]                  \n",
            "__________________________________________________________________________________________________\n",
            "bn2c_branch2a (BatchNorm)       (None, None, None, 6 256         res2c_branch2a[0][0]             \n",
            "__________________________________________________________________________________________________\n",
            "activation_126 (Activation)     (None, None, None, 6 0           bn2c_branch2a[0][0]              \n",
            "__________________________________________________________________________________________________\n",
            "res2c_branch2b (Conv2D)         (None, None, None, 6 36928       activation_126[0][0]             \n",
            "__________________________________________________________________________________________________\n",
            "bn2c_branch2b (BatchNorm)       (None, None, None, 6 256         res2c_branch2b[0][0]             \n",
            "__________________________________________________________________________________________________\n",
            "activation_127 (Activation)     (None, None, None, 6 0           bn2c_branch2b[0][0]              \n",
            "__________________________________________________________________________________________________\n",
            "res2c_branch2c (Conv2D)         (None, None, None, 2 16640       activation_127[0][0]             \n",
            "__________________________________________________________________________________________________\n",
            "bn2c_branch2c (BatchNorm)       (None, None, None, 2 1024        res2c_branch2c[0][0]             \n",
            "__________________________________________________________________________________________________\n",
            "add_51 (Add)                    (None, None, None, 2 0           bn2c_branch2c[0][0]              \n",
            "                                                                 res2b_out[0][0]                  \n",
            "__________________________________________________________________________________________________\n",
            "res2c_out (Activation)          (None, None, None, 2 0           add_51[0][0]                     \n",
            "__________________________________________________________________________________________________\n",
            "res3a_branch2a (Conv2D)         (None, None, None, 1 32896       res2c_out[0][0]                  \n",
            "__________________________________________________________________________________________________\n",
            "bn3a_branch2a (BatchNorm)       (None, None, None, 1 512         res3a_branch2a[0][0]             \n",
            "__________________________________________________________________________________________________\n",
            "activation_128 (Activation)     (None, None, None, 1 0           bn3a_branch2a[0][0]              \n",
            "__________________________________________________________________________________________________\n",
            "res3a_branch2b (Conv2D)         (None, None, None, 1 147584      activation_128[0][0]             \n",
            "__________________________________________________________________________________________________\n",
            "bn3a_branch2b (BatchNorm)       (None, None, None, 1 512         res3a_branch2b[0][0]             \n",
            "__________________________________________________________________________________________________\n",
            "activation_129 (Activation)     (None, None, None, 1 0           bn3a_branch2b[0][0]              \n",
            "__________________________________________________________________________________________________\n",
            "res3a_branch2c (Conv2D)         (None, None, None, 5 66048       activation_129[0][0]             \n",
            "__________________________________________________________________________________________________\n",
            "res3a_branch1 (Conv2D)          (None, None, None, 5 131584      res2c_out[0][0]                  \n",
            "__________________________________________________________________________________________________\n",
            "bn3a_branch2c (BatchNorm)       (None, None, None, 5 2048        res3a_branch2c[0][0]             \n",
            "__________________________________________________________________________________________________\n",
            "bn3a_branch1 (BatchNorm)        (None, None, None, 5 2048        res3a_branch1[0][0]              \n",
            "__________________________________________________________________________________________________\n",
            "add_52 (Add)                    (None, None, None, 5 0           bn3a_branch2c[0][0]              \n",
            "                                                                 bn3a_branch1[0][0]               \n",
            "__________________________________________________________________________________________________\n",
            "res3a_out (Activation)          (None, None, None, 5 0           add_52[0][0]                     \n",
            "__________________________________________________________________________________________________\n",
            "res3b_branch2a (Conv2D)         (None, None, None, 1 65664       res3a_out[0][0]                  \n",
            "__________________________________________________________________________________________________\n",
            "bn3b_branch2a (BatchNorm)       (None, None, None, 1 512         res3b_branch2a[0][0]             \n",
            "__________________________________________________________________________________________________\n",
            "activation_130 (Activation)     (None, None, None, 1 0           bn3b_branch2a[0][0]              \n",
            "__________________________________________________________________________________________________\n",
            "res3b_branch2b (Conv2D)         (None, None, None, 1 147584      activation_130[0][0]             \n",
            "__________________________________________________________________________________________________\n",
            "bn3b_branch2b (BatchNorm)       (None, None, None, 1 512         res3b_branch2b[0][0]             \n",
            "__________________________________________________________________________________________________\n",
            "activation_131 (Activation)     (None, None, None, 1 0           bn3b_branch2b[0][0]              \n",
            "__________________________________________________________________________________________________\n",
            "res3b_branch2c (Conv2D)         (None, None, None, 5 66048       activation_131[0][0]             \n",
            "__________________________________________________________________________________________________\n",
            "bn3b_branch2c (BatchNorm)       (None, None, None, 5 2048        res3b_branch2c[0][0]             \n",
            "__________________________________________________________________________________________________\n",
            "add_53 (Add)                    (None, None, None, 5 0           bn3b_branch2c[0][0]              \n",
            "                                                                 res3a_out[0][0]                  \n",
            "__________________________________________________________________________________________________\n",
            "res3b_out (Activation)          (None, None, None, 5 0           add_53[0][0]                     \n",
            "__________________________________________________________________________________________________\n",
            "res3c_branch2a (Conv2D)         (None, None, None, 1 65664       res3b_out[0][0]                  \n",
            "__________________________________________________________________________________________________\n",
            "bn3c_branch2a (BatchNorm)       (None, None, None, 1 512         res3c_branch2a[0][0]             \n",
            "__________________________________________________________________________________________________\n",
            "activation_132 (Activation)     (None, None, None, 1 0           bn3c_branch2a[0][0]              \n",
            "__________________________________________________________________________________________________\n",
            "res3c_branch2b (Conv2D)         (None, None, None, 1 147584      activation_132[0][0]             \n",
            "__________________________________________________________________________________________________\n",
            "bn3c_branch2b (BatchNorm)       (None, None, None, 1 512         res3c_branch2b[0][0]             \n",
            "__________________________________________________________________________________________________\n",
            "activation_133 (Activation)     (None, None, None, 1 0           bn3c_branch2b[0][0]              \n",
            "__________________________________________________________________________________________________\n",
            "res3c_branch2c (Conv2D)         (None, None, None, 5 66048       activation_133[0][0]             \n",
            "__________________________________________________________________________________________________\n",
            "bn3c_branch2c (BatchNorm)       (None, None, None, 5 2048        res3c_branch2c[0][0]             \n",
            "__________________________________________________________________________________________________\n",
            "add_54 (Add)                    (None, None, None, 5 0           bn3c_branch2c[0][0]              \n",
            "                                                                 res3b_out[0][0]                  \n",
            "__________________________________________________________________________________________________\n",
            "res3c_out (Activation)          (None, None, None, 5 0           add_54[0][0]                     \n",
            "__________________________________________________________________________________________________\n",
            "res3d_branch2a (Conv2D)         (None, None, None, 1 65664       res3c_out[0][0]                  \n",
            "__________________________________________________________________________________________________\n",
            "bn3d_branch2a (BatchNorm)       (None, None, None, 1 512         res3d_branch2a[0][0]             \n",
            "__________________________________________________________________________________________________\n",
            "activation_134 (Activation)     (None, None, None, 1 0           bn3d_branch2a[0][0]              \n",
            "__________________________________________________________________________________________________\n",
            "res3d_branch2b (Conv2D)         (None, None, None, 1 147584      activation_134[0][0]             \n",
            "__________________________________________________________________________________________________\n",
            "bn3d_branch2b (BatchNorm)       (None, None, None, 1 512         res3d_branch2b[0][0]             \n",
            "__________________________________________________________________________________________________\n",
            "activation_135 (Activation)     (None, None, None, 1 0           bn3d_branch2b[0][0]              \n",
            "__________________________________________________________________________________________________\n",
            "res3d_branch2c (Conv2D)         (None, None, None, 5 66048       activation_135[0][0]             \n",
            "__________________________________________________________________________________________________\n",
            "bn3d_branch2c (BatchNorm)       (None, None, None, 5 2048        res3d_branch2c[0][0]             \n",
            "__________________________________________________________________________________________________\n",
            "add_55 (Add)                    (None, None, None, 5 0           bn3d_branch2c[0][0]              \n",
            "                                                                 res3c_out[0][0]                  \n",
            "__________________________________________________________________________________________________\n",
            "res3d_out (Activation)          (None, None, None, 5 0           add_55[0][0]                     \n",
            "__________________________________________________________________________________________________\n",
            "res4a_branch2a (Conv2D)         (None, None, None, 2 131328      res3d_out[0][0]                  \n",
            "__________________________________________________________________________________________________\n",
            "bn4a_branch2a (BatchNorm)       (None, None, None, 2 1024        res4a_branch2a[0][0]             \n",
            "__________________________________________________________________________________________________\n",
            "activation_136 (Activation)     (None, None, None, 2 0           bn4a_branch2a[0][0]              \n",
            "__________________________________________________________________________________________________\n",
            "res4a_branch2b (Conv2D)         (None, None, None, 2 590080      activation_136[0][0]             \n",
            "__________________________________________________________________________________________________\n",
            "bn4a_branch2b (BatchNorm)       (None, None, None, 2 1024        res4a_branch2b[0][0]             \n",
            "__________________________________________________________________________________________________\n",
            "activation_137 (Activation)     (None, None, None, 2 0           bn4a_branch2b[0][0]              \n",
            "__________________________________________________________________________________________________\n",
            "res4a_branch2c (Conv2D)         (None, None, None, 1 263168      activation_137[0][0]             \n",
            "__________________________________________________________________________________________________\n",
            "res4a_branch1 (Conv2D)          (None, None, None, 1 525312      res3d_out[0][0]                  \n",
            "__________________________________________________________________________________________________\n",
            "bn4a_branch2c (BatchNorm)       (None, None, None, 1 4096        res4a_branch2c[0][0]             \n",
            "__________________________________________________________________________________________________\n",
            "bn4a_branch1 (BatchNorm)        (None, None, None, 1 4096        res4a_branch1[0][0]              \n",
            "__________________________________________________________________________________________________\n",
            "add_56 (Add)                    (None, None, None, 1 0           bn4a_branch2c[0][0]              \n",
            "                                                                 bn4a_branch1[0][0]               \n",
            "__________________________________________________________________________________________________\n",
            "res4a_out (Activation)          (None, None, None, 1 0           add_56[0][0]                     \n",
            "__________________________________________________________________________________________________\n",
            "res4b_branch2a (Conv2D)         (None, None, None, 2 262400      res4a_out[0][0]                  \n",
            "__________________________________________________________________________________________________\n",
            "bn4b_branch2a (BatchNorm)       (None, None, None, 2 1024        res4b_branch2a[0][0]             \n",
            "__________________________________________________________________________________________________\n",
            "activation_138 (Activation)     (None, None, None, 2 0           bn4b_branch2a[0][0]              \n",
            "__________________________________________________________________________________________________\n",
            "res4b_branch2b (Conv2D)         (None, None, None, 2 590080      activation_138[0][0]             \n",
            "__________________________________________________________________________________________________\n",
            "bn4b_branch2b (BatchNorm)       (None, None, None, 2 1024        res4b_branch2b[0][0]             \n",
            "__________________________________________________________________________________________________\n",
            "activation_139 (Activation)     (None, None, None, 2 0           bn4b_branch2b[0][0]              \n",
            "__________________________________________________________________________________________________\n",
            "res4b_branch2c (Conv2D)         (None, None, None, 1 263168      activation_139[0][0]             \n",
            "__________________________________________________________________________________________________\n",
            "bn4b_branch2c (BatchNorm)       (None, None, None, 1 4096        res4b_branch2c[0][0]             \n",
            "__________________________________________________________________________________________________\n",
            "add_57 (Add)                    (None, None, None, 1 0           bn4b_branch2c[0][0]              \n",
            "                                                                 res4a_out[0][0]                  \n",
            "__________________________________________________________________________________________________\n",
            "res4b_out (Activation)          (None, None, None, 1 0           add_57[0][0]                     \n",
            "__________________________________________________________________________________________________\n",
            "res4c_branch2a (Conv2D)         (None, None, None, 2 262400      res4b_out[0][0]                  \n",
            "__________________________________________________________________________________________________\n",
            "bn4c_branch2a (BatchNorm)       (None, None, None, 2 1024        res4c_branch2a[0][0]             \n",
            "__________________________________________________________________________________________________\n",
            "activation_140 (Activation)     (None, None, None, 2 0           bn4c_branch2a[0][0]              \n",
            "__________________________________________________________________________________________________\n",
            "res4c_branch2b (Conv2D)         (None, None, None, 2 590080      activation_140[0][0]             \n",
            "__________________________________________________________________________________________________\n",
            "bn4c_branch2b (BatchNorm)       (None, None, None, 2 1024        res4c_branch2b[0][0]             \n",
            "__________________________________________________________________________________________________\n",
            "activation_141 (Activation)     (None, None, None, 2 0           bn4c_branch2b[0][0]              \n",
            "__________________________________________________________________________________________________\n",
            "res4c_branch2c (Conv2D)         (None, None, None, 1 263168      activation_141[0][0]             \n",
            "__________________________________________________________________________________________________\n",
            "bn4c_branch2c (BatchNorm)       (None, None, None, 1 4096        res4c_branch2c[0][0]             \n",
            "__________________________________________________________________________________________________\n",
            "add_58 (Add)                    (None, None, None, 1 0           bn4c_branch2c[0][0]              \n",
            "                                                                 res4b_out[0][0]                  \n",
            "__________________________________________________________________________________________________\n",
            "res4c_out (Activation)          (None, None, None, 1 0           add_58[0][0]                     \n",
            "__________________________________________________________________________________________________\n",
            "res4d_branch2a (Conv2D)         (None, None, None, 2 262400      res4c_out[0][0]                  \n",
            "__________________________________________________________________________________________________\n",
            "bn4d_branch2a (BatchNorm)       (None, None, None, 2 1024        res4d_branch2a[0][0]             \n",
            "__________________________________________________________________________________________________\n",
            "activation_142 (Activation)     (None, None, None, 2 0           bn4d_branch2a[0][0]              \n",
            "__________________________________________________________________________________________________\n",
            "res4d_branch2b (Conv2D)         (None, None, None, 2 590080      activation_142[0][0]             \n",
            "__________________________________________________________________________________________________\n",
            "bn4d_branch2b (BatchNorm)       (None, None, None, 2 1024        res4d_branch2b[0][0]             \n",
            "__________________________________________________________________________________________________\n",
            "activation_143 (Activation)     (None, None, None, 2 0           bn4d_branch2b[0][0]              \n",
            "__________________________________________________________________________________________________\n",
            "res4d_branch2c (Conv2D)         (None, None, None, 1 263168      activation_143[0][0]             \n",
            "__________________________________________________________________________________________________\n",
            "bn4d_branch2c (BatchNorm)       (None, None, None, 1 4096        res4d_branch2c[0][0]             \n",
            "__________________________________________________________________________________________________\n",
            "add_59 (Add)                    (None, None, None, 1 0           bn4d_branch2c[0][0]              \n",
            "                                                                 res4c_out[0][0]                  \n",
            "__________________________________________________________________________________________________\n",
            "res4d_out (Activation)          (None, None, None, 1 0           add_59[0][0]                     \n",
            "__________________________________________________________________________________________________\n",
            "res4e_branch2a (Conv2D)         (None, None, None, 2 262400      res4d_out[0][0]                  \n",
            "__________________________________________________________________________________________________\n",
            "bn4e_branch2a (BatchNorm)       (None, None, None, 2 1024        res4e_branch2a[0][0]             \n",
            "__________________________________________________________________________________________________\n",
            "activation_144 (Activation)     (None, None, None, 2 0           bn4e_branch2a[0][0]              \n",
            "__________________________________________________________________________________________________\n",
            "res4e_branch2b (Conv2D)         (None, None, None, 2 590080      activation_144[0][0]             \n",
            "__________________________________________________________________________________________________\n",
            "bn4e_branch2b (BatchNorm)       (None, None, None, 2 1024        res4e_branch2b[0][0]             \n",
            "__________________________________________________________________________________________________\n",
            "activation_145 (Activation)     (None, None, None, 2 0           bn4e_branch2b[0][0]              \n",
            "__________________________________________________________________________________________________\n",
            "res4e_branch2c (Conv2D)         (None, None, None, 1 263168      activation_145[0][0]             \n",
            "__________________________________________________________________________________________________\n",
            "bn4e_branch2c (BatchNorm)       (None, None, None, 1 4096        res4e_branch2c[0][0]             \n",
            "__________________________________________________________________________________________________\n",
            "add_60 (Add)                    (None, None, None, 1 0           bn4e_branch2c[0][0]              \n",
            "                                                                 res4d_out[0][0]                  \n",
            "__________________________________________________________________________________________________\n",
            "res4e_out (Activation)          (None, None, None, 1 0           add_60[0][0]                     \n",
            "__________________________________________________________________________________________________\n",
            "res4f_branch2a (Conv2D)         (None, None, None, 2 262400      res4e_out[0][0]                  \n",
            "__________________________________________________________________________________________________\n",
            "bn4f_branch2a (BatchNorm)       (None, None, None, 2 1024        res4f_branch2a[0][0]             \n",
            "__________________________________________________________________________________________________\n",
            "activation_146 (Activation)     (None, None, None, 2 0           bn4f_branch2a[0][0]              \n",
            "__________________________________________________________________________________________________\n",
            "res4f_branch2b (Conv2D)         (None, None, None, 2 590080      activation_146[0][0]             \n",
            "__________________________________________________________________________________________________\n",
            "bn4f_branch2b (BatchNorm)       (None, None, None, 2 1024        res4f_branch2b[0][0]             \n",
            "__________________________________________________________________________________________________\n",
            "activation_147 (Activation)     (None, None, None, 2 0           bn4f_branch2b[0][0]              \n",
            "__________________________________________________________________________________________________\n",
            "res4f_branch2c (Conv2D)         (None, None, None, 1 263168      activation_147[0][0]             \n",
            "__________________________________________________________________________________________________\n",
            "bn4f_branch2c (BatchNorm)       (None, None, None, 1 4096        res4f_branch2c[0][0]             \n",
            "__________________________________________________________________________________________________\n",
            "add_61 (Add)                    (None, None, None, 1 0           bn4f_branch2c[0][0]              \n",
            "                                                                 res4e_out[0][0]                  \n",
            "__________________________________________________________________________________________________\n",
            "res4f_out (Activation)          (None, None, None, 1 0           add_61[0][0]                     \n",
            "__________________________________________________________________________________________________\n",
            "res5a_branch2a (Conv2D)         (None, None, None, 5 524800      res4f_out[0][0]                  \n",
            "__________________________________________________________________________________________________\n",
            "bn5a_branch2a (BatchNorm)       (None, None, None, 5 2048        res5a_branch2a[0][0]             \n",
            "__________________________________________________________________________________________________\n",
            "activation_148 (Activation)     (None, None, None, 5 0           bn5a_branch2a[0][0]              \n",
            "__________________________________________________________________________________________________\n",
            "res5a_branch2b (Conv2D)         (None, None, None, 5 2359808     activation_148[0][0]             \n",
            "__________________________________________________________________________________________________\n",
            "bn5a_branch2b (BatchNorm)       (None, None, None, 5 2048        res5a_branch2b[0][0]             \n",
            "__________________________________________________________________________________________________\n",
            "activation_149 (Activation)     (None, None, None, 5 0           bn5a_branch2b[0][0]              \n",
            "__________________________________________________________________________________________________\n",
            "res5a_branch2c (Conv2D)         (None, None, None, 2 1050624     activation_149[0][0]             \n",
            "__________________________________________________________________________________________________\n",
            "res5a_branch1 (Conv2D)          (None, None, None, 2 2099200     res4f_out[0][0]                  \n",
            "__________________________________________________________________________________________________\n",
            "bn5a_branch2c (BatchNorm)       (None, None, None, 2 8192        res5a_branch2c[0][0]             \n",
            "__________________________________________________________________________________________________\n",
            "bn5a_branch1 (BatchNorm)        (None, None, None, 2 8192        res5a_branch1[0][0]              \n",
            "__________________________________________________________________________________________________\n",
            "add_62 (Add)                    (None, None, None, 2 0           bn5a_branch2c[0][0]              \n",
            "                                                                 bn5a_branch1[0][0]               \n",
            "__________________________________________________________________________________________________\n",
            "res5a_out (Activation)          (None, None, None, 2 0           add_62[0][0]                     \n",
            "__________________________________________________________________________________________________\n",
            "res5b_branch2a (Conv2D)         (None, None, None, 5 1049088     res5a_out[0][0]                  \n",
            "__________________________________________________________________________________________________\n",
            "bn5b_branch2a (BatchNorm)       (None, None, None, 5 2048        res5b_branch2a[0][0]             \n",
            "__________________________________________________________________________________________________\n",
            "activation_150 (Activation)     (None, None, None, 5 0           bn5b_branch2a[0][0]              \n",
            "__________________________________________________________________________________________________\n",
            "res5b_branch2b (Conv2D)         (None, None, None, 5 2359808     activation_150[0][0]             \n",
            "__________________________________________________________________________________________________\n",
            "bn5b_branch2b (BatchNorm)       (None, None, None, 5 2048        res5b_branch2b[0][0]             \n",
            "__________________________________________________________________________________________________\n",
            "activation_151 (Activation)     (None, None, None, 5 0           bn5b_branch2b[0][0]              \n",
            "__________________________________________________________________________________________________\n",
            "res5b_branch2c (Conv2D)         (None, None, None, 2 1050624     activation_151[0][0]             \n",
            "__________________________________________________________________________________________________\n",
            "bn5b_branch2c (BatchNorm)       (None, None, None, 2 8192        res5b_branch2c[0][0]             \n",
            "__________________________________________________________________________________________________\n",
            "add_63 (Add)                    (None, None, None, 2 0           bn5b_branch2c[0][0]              \n",
            "                                                                 res5a_out[0][0]                  \n",
            "__________________________________________________________________________________________________\n",
            "res5b_out (Activation)          (None, None, None, 2 0           add_63[0][0]                     \n",
            "__________________________________________________________________________________________________\n",
            "res5c_branch2a (Conv2D)         (None, None, None, 5 1049088     res5b_out[0][0]                  \n",
            "__________________________________________________________________________________________________\n",
            "bn5c_branch2a (BatchNorm)       (None, None, None, 5 2048        res5c_branch2a[0][0]             \n",
            "__________________________________________________________________________________________________\n",
            "activation_152 (Activation)     (None, None, None, 5 0           bn5c_branch2a[0][0]              \n",
            "__________________________________________________________________________________________________\n",
            "res5c_branch2b (Conv2D)         (None, None, None, 5 2359808     activation_152[0][0]             \n",
            "__________________________________________________________________________________________________\n",
            "bn5c_branch2b (BatchNorm)       (None, None, None, 5 2048        res5c_branch2b[0][0]             \n",
            "__________________________________________________________________________________________________\n",
            "activation_153 (Activation)     (None, None, None, 5 0           bn5c_branch2b[0][0]              \n",
            "__________________________________________________________________________________________________\n",
            "res5c_branch2c (Conv2D)         (None, None, None, 2 1050624     activation_153[0][0]             \n",
            "__________________________________________________________________________________________________\n",
            "bn5c_branch2c (BatchNorm)       (None, None, None, 2 8192        res5c_branch2c[0][0]             \n",
            "__________________________________________________________________________________________________\n",
            "add_64 (Add)                    (None, None, None, 2 0           bn5c_branch2c[0][0]              \n",
            "                                                                 res5b_out[0][0]                  \n",
            "__________________________________________________________________________________________________\n",
            "res5c_out (Activation)          (None, None, None, 2 0           add_64[0][0]                     \n",
            "__________________________________________________________________________________________________\n",
            "fpn_c5p5 (Conv2D)               (None, None, None, 2 524544      res5c_out[0][0]                  \n",
            "__________________________________________________________________________________________________\n",
            "fpn_p5upsampled (UpSampling2D)  (None, None, None, 2 0           fpn_c5p5[0][0]                   \n",
            "__________________________________________________________________________________________________\n",
            "fpn_c4p4 (Conv2D)               (None, None, None, 2 262400      res4f_out[0][0]                  \n",
            "__________________________________________________________________________________________________\n",
            "fpn_p4add (Add)                 (None, None, None, 2 0           fpn_p5upsampled[0][0]            \n",
            "                                                                 fpn_c4p4[0][0]                   \n",
            "__________________________________________________________________________________________________\n",
            "fpn_p4upsampled (UpSampling2D)  (None, None, None, 2 0           fpn_p4add[0][0]                  \n",
            "__________________________________________________________________________________________________\n",
            "fpn_c3p3 (Conv2D)               (None, None, None, 2 131328      res3d_out[0][0]                  \n",
            "__________________________________________________________________________________________________\n",
            "fpn_p3add (Add)                 (None, None, None, 2 0           fpn_p4upsampled[0][0]            \n",
            "                                                                 fpn_c3p3[0][0]                   \n",
            "__________________________________________________________________________________________________\n",
            "fpn_p3upsampled (UpSampling2D)  (None, None, None, 2 0           fpn_p3add[0][0]                  \n",
            "__________________________________________________________________________________________________\n",
            "fpn_c2p2 (Conv2D)               (None, None, None, 2 65792       res2c_out[0][0]                  \n",
            "__________________________________________________________________________________________________\n",
            "fpn_p2add (Add)                 (None, None, None, 2 0           fpn_p3upsampled[0][0]            \n",
            "                                                                 fpn_c2p2[0][0]                   \n",
            "__________________________________________________________________________________________________\n",
            "fpn_p5 (Conv2D)                 (None, None, None, 2 590080      fpn_c5p5[0][0]                   \n",
            "__________________________________________________________________________________________________\n",
            "fpn_p2 (Conv2D)                 (None, None, None, 2 590080      fpn_p2add[0][0]                  \n",
            "__________________________________________________________________________________________________\n",
            "fpn_p3 (Conv2D)                 (None, None, None, 2 590080      fpn_p3add[0][0]                  \n",
            "__________________________________________________________________________________________________\n",
            "fpn_p4 (Conv2D)                 (None, None, None, 2 590080      fpn_p4add[0][0]                  \n",
            "__________________________________________________________________________________________________\n",
            "fpn_p6 (MaxPooling2D)           (None, None, None, 2 0           fpn_p5[0][0]                     \n",
            "__________________________________________________________________________________________________\n",
            "rpn_model (Model)               [(None, None, 2), (N 1189394     fpn_p2[0][0]                     \n",
            "                                                                 fpn_p3[0][0]                     \n",
            "                                                                 fpn_p4[0][0]                     \n",
            "                                                                 fpn_p5[0][0]                     \n",
            "                                                                 fpn_p6[0][0]                     \n",
            "__________________________________________________________________________________________________\n",
            "rpn_class (Concatenate)         (None, None, 2)      0           rpn_model[1][1]                  \n",
            "                                                                 rpn_model[2][1]                  \n",
            "                                                                 rpn_model[3][1]                  \n",
            "                                                                 rpn_model[4][1]                  \n",
            "                                                                 rpn_model[5][1]                  \n",
            "__________________________________________________________________________________________________\n",
            "rpn_bbox (Concatenate)          (None, None, 4)      0           rpn_model[1][2]                  \n",
            "                                                                 rpn_model[2][2]                  \n",
            "                                                                 rpn_model[3][2]                  \n",
            "                                                                 rpn_model[4][2]                  \n",
            "                                                                 rpn_model[5][2]                  \n",
            "__________________________________________________________________________________________________\n",
            "input_anchors (InputLayer)      (None, None, 4)      0                                            \n",
            "__________________________________________________________________________________________________\n",
            "ROI (ProposalLayer)             (None, 1000, 4)      0           rpn_class[0][0]                  \n",
            "                                                                 rpn_bbox[0][0]                   \n",
            "                                                                 input_anchors[0][0]              \n",
            "__________________________________________________________________________________________________\n",
            "input_image_meta (InputLayer)   (None, 14)           0                                            \n",
            "__________________________________________________________________________________________________\n",
            "roi_align_classifier (PyramidRO (None, 1000, 7, 7, 2 0           ROI[0][0]                        \n",
            "                                                                 input_image_meta[0][0]           \n",
            "                                                                 fpn_p2[0][0]                     \n",
            "                                                                 fpn_p3[0][0]                     \n",
            "                                                                 fpn_p4[0][0]                     \n",
            "                                                                 fpn_p5[0][0]                     \n",
            "__________________________________________________________________________________________________\n",
            "mrcnn_class_conv1 (TimeDistribu (None, 1000, 1, 1, 1 12846080    roi_align_classifier[0][0]       \n",
            "__________________________________________________________________________________________________\n",
            "mrcnn_class_bn1 (TimeDistribute (None, 1000, 1, 1, 1 4096        mrcnn_class_conv1[0][0]          \n",
            "__________________________________________________________________________________________________\n",
            "activation_154 (Activation)     (None, 1000, 1, 1, 1 0           mrcnn_class_bn1[0][0]            \n",
            "__________________________________________________________________________________________________\n",
            "mrcnn_class_conv2 (TimeDistribu (None, 1000, 1, 1, 1 1049600     activation_154[0][0]             \n",
            "__________________________________________________________________________________________________\n",
            "mrcnn_class_bn2 (TimeDistribute (None, 1000, 1, 1, 1 4096        mrcnn_class_conv2[0][0]          \n",
            "__________________________________________________________________________________________________\n",
            "activation_155 (Activation)     (None, 1000, 1, 1, 1 0           mrcnn_class_bn2[0][0]            \n",
            "__________________________________________________________________________________________________\n",
            "pool_squeeze (Lambda)           (None, 1000, 1024)   0           activation_155[0][0]             \n",
            "__________________________________________________________________________________________________\n",
            "mrcnn_class_logits (TimeDistrib (None, 1000, 2)      2050        pool_squeeze[0][0]               \n",
            "__________________________________________________________________________________________________\n",
            "mrcnn_bbox_fc (TimeDistributed) (None, 1000, 8)      8200        pool_squeeze[0][0]               \n",
            "__________________________________________________________________________________________________\n",
            "mrcnn_class (TimeDistributed)   (None, 1000, 2)      0           mrcnn_class_logits[0][0]         \n",
            "__________________________________________________________________________________________________\n",
            "mrcnn_bbox (Reshape)            (None, 1000, 2, 4)   0           mrcnn_bbox_fc[0][0]              \n",
            "__________________________________________________________________________________________________\n",
            "mrcnn_detection (DetectionLayer (None, 3, 6)         0           ROI[0][0]                        \n",
            "                                                                 mrcnn_class[0][0]                \n",
            "                                                                 mrcnn_bbox[0][0]                 \n",
            "                                                                 input_image_meta[0][0]           \n",
            "__________________________________________________________________________________________________\n",
            "lambda_15 (Lambda)              (None, 3, 4)         0           mrcnn_detection[0][0]            \n",
            "__________________________________________________________________________________________________\n",
            "roi_align_mask (PyramidROIAlign (None, 3, 14, 14, 25 0           lambda_15[0][0]                  \n",
            "                                                                 input_image_meta[0][0]           \n",
            "                                                                 fpn_p2[0][0]                     \n",
            "                                                                 fpn_p3[0][0]                     \n",
            "                                                                 fpn_p4[0][0]                     \n",
            "                                                                 fpn_p5[0][0]                     \n",
            "__________________________________________________________________________________________________\n",
            "mrcnn_mask_conv1 (TimeDistribut (None, 3, 14, 14, 25 590080      roi_align_mask[0][0]             \n",
            "__________________________________________________________________________________________________\n",
            "mrcnn_mask_bn1 (TimeDistributed (None, 3, 14, 14, 25 1024        mrcnn_mask_conv1[0][0]           \n",
            "__________________________________________________________________________________________________\n",
            "activation_157 (Activation)     (None, 3, 14, 14, 25 0           mrcnn_mask_bn1[0][0]             \n",
            "__________________________________________________________________________________________________\n",
            "mrcnn_mask_conv2 (TimeDistribut (None, 3, 14, 14, 25 590080      activation_157[0][0]             \n",
            "__________________________________________________________________________________________________\n",
            "mrcnn_mask_bn2 (TimeDistributed (None, 3, 14, 14, 25 1024        mrcnn_mask_conv2[0][0]           \n",
            "__________________________________________________________________________________________________\n",
            "activation_158 (Activation)     (None, 3, 14, 14, 25 0           mrcnn_mask_bn2[0][0]             \n",
            "__________________________________________________________________________________________________\n",
            "mrcnn_mask_conv3 (TimeDistribut (None, 3, 14, 14, 25 590080      activation_158[0][0]             \n",
            "__________________________________________________________________________________________________\n",
            "mrcnn_mask_bn3 (TimeDistributed (None, 3, 14, 14, 25 1024        mrcnn_mask_conv3[0][0]           \n",
            "__________________________________________________________________________________________________\n",
            "activation_159 (Activation)     (None, 3, 14, 14, 25 0           mrcnn_mask_bn3[0][0]             \n",
            "__________________________________________________________________________________________________\n",
            "mrcnn_mask_conv4 (TimeDistribut (None, 3, 14, 14, 25 590080      activation_159[0][0]             \n",
            "__________________________________________________________________________________________________\n",
            "mrcnn_mask_bn4 (TimeDistributed (None, 3, 14, 14, 25 1024        mrcnn_mask_conv4[0][0]           \n",
            "__________________________________________________________________________________________________\n",
            "activation_160 (Activation)     (None, 3, 14, 14, 25 0           mrcnn_mask_bn4[0][0]             \n",
            "__________________________________________________________________________________________________\n",
            "mrcnn_mask_deconv (TimeDistribu (None, 3, 28, 28, 25 262400      activation_160[0][0]             \n",
            "__________________________________________________________________________________________________\n",
            "mrcnn_mask (TimeDistributed)    (None, 3, 28, 28, 2) 514         mrcnn_mask_deconv[0][0]          \n",
            "==================================================================================================\n",
            "Total params: 44,662,942\n",
            "Trainable params: 44,603,678\n",
            "Non-trainable params: 59,264\n",
            "__________________________________________________________________________________________________\n"
          ]
        }
      ]
    },
    {
      "cell_type": "code",
      "source": [
        "\n",
        "\n",
        "os.system('jupyter nbconvert --to html Capstone_MaskRCNN.ipynb')"
      ],
      "metadata": {
        "id": "ZJF8UiHEvaqG",
        "colab": {
          "base_uri": "https://localhost:8080/"
        },
        "outputId": "a1a652aa-f884-404b-9517-4eadc371dafd"
      },
      "execution_count": 115,
      "outputs": [
        {
          "data": {
            "text/plain": [
              "65280"
            ]
          },
          "execution_count": null,
          "metadata": {},
          "output_type": "execute_result"
        }
      ]
    },
    {
      "cell_type": "code",
      "source": [
        "%pwd"
      ],
      "metadata": {
        "id": "KO0IqNAVyuMy",
        "colab": {
          "base_uri": "https://localhost:8080/",
          "height": 35
        },
        "outputId": "26aa7371-a91e-4358-d67e-528b923783b3"
      },
      "execution_count": 116,
      "outputs": [
        {
          "data": {
            "application/vnd.google.colaboratory.intrinsic+json": {
              "type": "string"
            },
            "text/plain": [
              "'/content/drive/MyDrive/Kaggle'"
            ]
          },
          "execution_count": null,
          "metadata": {},
          "output_type": "execute_result"
        }
      ]
    },
    {
      "cell_type": "code",
      "source": [
        "os.chdir('/content/drive/MyDrive/Colab Notebooks')"
      ],
      "metadata": {
        "id": "TOhS_z1FzLgZ"
      },
      "execution_count": 117,
      "outputs": []
    },
    {
      "cell_type": "code",
      "source": [
        "%pwd"
      ],
      "metadata": {
        "id": "rkc7DHpkzW1K",
        "colab": {
          "base_uri": "https://localhost:8080/",
          "height": 35
        },
        "outputId": "b473a376-3118-4384-d2d8-fd7b69b333a1"
      },
      "execution_count": 118,
      "outputs": [
        {
          "data": {
            "application/vnd.google.colaboratory.intrinsic+json": {
              "type": "string"
            },
            "text/plain": [
              "'/content/drive/MyDrive/Colab Notebooks'"
            ]
          },
          "execution_count": null,
          "metadata": {},
          "output_type": "execute_result"
        }
      ]
    },
    {
      "cell_type": "code",
      "source": [
        "os.system('jupyter nbconvert --to html Capstone_MaskRCNN.ipynb')"
      ],
      "metadata": {
        "id": "QyMEBX2yzYEH",
        "colab": {
          "base_uri": "https://localhost:8080/"
        },
        "outputId": "11b7341b-b2f4-4097-dcbb-4ea99f7d4b21"
      },
      "execution_count": 119,
      "outputs": [
        {
          "data": {
            "text/plain": [
              "0"
            ]
          },
          "execution_count": null,
          "metadata": {},
          "output_type": "execute_result"
        }
      ]
    },
    {
      "cell_type": "code",
      "source": [
        "import pickle"
      ],
      "metadata": {
        "id": "mynZAoDuRyPz"
      },
      "execution_count": 133,
      "outputs": []
    },
    {
      "cell_type": "code",
      "source": [
        "# save the model to disk\n",
        "filename = 'mask_rcnn_1.3.sav'\n",
        "pickle.dump(model, open(filename, 'wb'))"
      ],
      "metadata": {
        "id": "DCGOTYbMzbRe",
        "colab": {
          "base_uri": "https://localhost:8080/",
          "height": 204
        },
        "outputId": "15e1771e-1c19-4565-ff87-1ec653d835d2"
      },
      "execution_count": 134,
      "outputs": [
        {
          "output_type": "error",
          "ename": "TypeError",
          "evalue": "ignored",
          "traceback": [
            "\u001b[0;31m---------------------------------------------------------------------------\u001b[0m",
            "\u001b[0;31mTypeError\u001b[0m                                 Traceback (most recent call last)",
            "\u001b[0;32m<ipython-input-134-a833dcdc54fe>\u001b[0m in \u001b[0;36m<module>\u001b[0;34m()\u001b[0m\n\u001b[1;32m      1\u001b[0m \u001b[0;31m# save the model to disk\u001b[0m\u001b[0;34m\u001b[0m\u001b[0;34m\u001b[0m\u001b[0;34m\u001b[0m\u001b[0m\n\u001b[1;32m      2\u001b[0m \u001b[0mfilename\u001b[0m \u001b[0;34m=\u001b[0m \u001b[0;34m'mask_rcnn_1.3.sav'\u001b[0m\u001b[0;34m\u001b[0m\u001b[0;34m\u001b[0m\u001b[0m\n\u001b[0;32m----> 3\u001b[0;31m \u001b[0mpickle\u001b[0m\u001b[0;34m.\u001b[0m\u001b[0mdump\u001b[0m\u001b[0;34m(\u001b[0m\u001b[0mmodel\u001b[0m\u001b[0;34m,\u001b[0m \u001b[0mopen\u001b[0m\u001b[0;34m(\u001b[0m\u001b[0mfilename\u001b[0m\u001b[0;34m,\u001b[0m \u001b[0;34m'wb'\u001b[0m\u001b[0;34m)\u001b[0m\u001b[0;34m)\u001b[0m\u001b[0;34m\u001b[0m\u001b[0;34m\u001b[0m\u001b[0m\n\u001b[0m",
            "\u001b[0;31mTypeError\u001b[0m: can't pickle _thread.RLock objects"
          ]
        }
      ]
    },
    {
      "cell_type": "code",
      "source": [
        ""
      ],
      "metadata": {
        "id": "wq5xs2YaRu1e"
      },
      "execution_count": null,
      "outputs": []
    }
  ],
  "metadata": {
    "colab": {
      "collapsed_sections": [],
      "name": "Capstone_MaskRCNN.ipynb",
      "provenance": [],
      "machine_shape": "hm",
      "background_execution": "on",
      "mount_file_id": "1jL83bH-R1c4VolHEr2xhMyAEK8C-61j1",
      "authorship_tag": "ABX9TyOJFZv3ZrlxCCy23fsFiTa3",
      "include_colab_link": true
    },
    "kernelspec": {
      "display_name": "Python 3",
      "name": "python3"
    },
    "language_info": {
      "name": "python"
    },
    "accelerator": "GPU"
  },
  "nbformat": 4,
  "nbformat_minor": 0
}